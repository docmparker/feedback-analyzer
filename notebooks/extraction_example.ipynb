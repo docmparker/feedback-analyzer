{
 "cells": [
  {
   "cell_type": "markdown",
   "metadata": {},
   "source": [
    "# Extraction\n",
    "\n",
    "Here we show extraction on student feedback comments. Often you might have a focused question like \"What did students say about the discussion forums?\" and maybe it wasn't addressed explicitly in a separate survey question. You then want to extract relevant passages from student's comments. \n",
    "\n",
    "This enables downstream tasks like running sentiment analysis on the extracted excerpts to see how students felt about a particular aspect (technically labeled aspect-based sentiment analysis). We won't cover that in this notebook, but you can see the end-to-end example notebook for more."
   ]
  },
  {
   "cell_type": "markdown",
   "metadata": {},
   "source": [
    "## Imports and setup"
   ]
  },
  {
   "cell_type": "code",
   "execution_count": 3,
   "metadata": {},
   "outputs": [
    {
     "data": {
      "text/plain": [
       "True"
      ]
     },
     "execution_count": 3,
     "metadata": {},
     "output_type": "execute_result"
    }
   ],
   "source": [
    "from dotenv import load_dotenv, find_dotenv\n",
    "load_dotenv(find_dotenv())"
   ]
  },
  {
   "cell_type": "code",
   "execution_count": 4,
   "metadata": {},
   "outputs": [],
   "source": [
    "import pandas as pd\n",
    "import json\n",
    "import textwrap\n",
    "from typing import Any\n",
    "from IPython.display import HTML\n",
    "from functools import partial\n",
    "from pprint import pprint\n",
    "from pathlib import Path\n",
    "from feedback_analyzer.excerpt_extraction import (\n",
    "    ExcerptExtraction,\n",
    "    extract_excerpts, \n",
    ")\n",
    "from feedback_analyzer.single_input_task import apply_task\n",
    "from feedback_analyzer.models_common import CommentModel, LLMConfig\n",
    "from feedback_analyzer.batch_runner import process_tasks"
   ]
  },
  {
   "cell_type": "code",
   "execution_count": 5,
   "metadata": {},
   "outputs": [],
   "source": [
    "# this makes it more robust to run async tasks inside an already async environment (jupyter notebooks)\n",
    "import nest_asyncio\n",
    "nest_asyncio.apply()"
   ]
  },
  {
   "cell_type": "markdown",
   "metadata": {},
   "source": [
    "Make sure to either set `ANTHROPIC_API_KEY` as an environment variable or put it in a .env file and use the following cell to load the env var. The format in the .env file is:\n",
    "```\n",
    "ANTHROPIC_API_KEY=yourKeyGoesHere\n",
    "```"
   ]
  },
  {
   "cell_type": "code",
   "execution_count": 6,
   "metadata": {},
   "outputs": [],
   "source": [
    "%load_ext autoreload\n",
    "%autoreload 2"
   ]
  },
  {
   "cell_type": "markdown",
   "metadata": {},
   "source": [
    "This is a convenience function to make seeing Pandas dataframe values easier, especially when there are long strings like the student comments we will be using."
   ]
  },
  {
   "cell_type": "code",
   "execution_count": 7,
   "metadata": {},
   "outputs": [],
   "source": [
    "def full_show(df):\n",
    "    with pd.option_context('display.max_columns', None, 'display.max_rows', None, 'display.max_colwidth', None):\n",
    "        display(df)"
   ]
  },
  {
   "cell_type": "code",
   "execution_count": 8,
   "metadata": {},
   "outputs": [],
   "source": [
    "MODEL_NAME_HAIKU = \"claude-3-haiku-20240307\""
   ]
  },
  {
   "cell_type": "markdown",
   "metadata": {},
   "source": [
    "This is a convenience function for pretty-printing long student comments."
   ]
  },
  {
   "cell_type": "code",
   "execution_count": 9,
   "metadata": {},
   "outputs": [],
   "source": [
    "def print_wrap(text: str, width: int = 72) -> str:\n",
    "    print(textwrap.fill(text, width=width))"
   ]
  },
  {
   "cell_type": "markdown",
   "metadata": {},
   "source": [
    "## Load the example data"
   ]
  },
  {
   "cell_type": "code",
   "execution_count": 10,
   "metadata": {},
   "outputs": [],
   "source": [
    "data_path = Path('../data/example_data')"
   ]
  },
  {
   "cell_type": "markdown",
   "metadata": {},
   "source": [
    "Let's load up some fake data. \n",
    "\n",
    "All of these comments are synthetic to avoid sharing any sensitive or PII information, but they should work great for illustration purposes. There are 100 rows, with just a few null/nan values here and there for realism. In most surveys I've seen, there are quite a number of null/None/blank etc values, and the functions are written to handle those."
   ]
  },
  {
   "cell_type": "code",
   "execution_count": 11,
   "metadata": {},
   "outputs": [
    {
     "data": {
      "text/html": [
       "<div>\n",
       "<style scoped>\n",
       "    .dataframe tbody tr th:only-of-type {\n",
       "        vertical-align: middle;\n",
       "    }\n",
       "\n",
       "    .dataframe tbody tr th {\n",
       "        vertical-align: top;\n",
       "    }\n",
       "\n",
       "    .dataframe thead th {\n",
       "        text-align: right;\n",
       "    }\n",
       "</style>\n",
       "<table border=\"1\" class=\"dataframe\">\n",
       "  <thead>\n",
       "    <tr style=\"text-align: right;\">\n",
       "      <th></th>\n",
       "      <th>best_parts</th>\n",
       "      <th>enhanced_learning</th>\n",
       "      <th>improve_course</th>\n",
       "    </tr>\n",
       "  </thead>\n",
       "  <tbody>\n",
       "    <tr>\n",
       "      <th>0</th>\n",
       "      <td>I valued the practical clinical aspects related to immune-related disorders and their management.</td>\n",
       "      <td>The illustrative visuals and straightforward explanatory clips.</td>\n",
       "      <td>Consider reducing the duration of certain videos. A few appeared to be slightly prolonged.</td>\n",
       "    </tr>\n",
       "    <tr>\n",
       "      <th>1</th>\n",
       "      <td>The flexibility to learn at a self-determined speed</td>\n",
       "      <td>The opportunity to review the lecture content</td>\n",
       "      <td>The pace of some lectures could be slowed down. At times, it's challenging to follow the lecturer's speech or decipher their handwriting.</td>\n",
       "    </tr>\n",
       "    <tr>\n",
       "      <th>2</th>\n",
       "      <td>The educational content was extremely enriching and stimulating! The section on oncology was the highlight.</td>\n",
       "      <td>the self-assessment activities.</td>\n",
       "      <td>Nothing specific comes to mind.</td>\n",
       "    </tr>\n",
       "    <tr>\n",
       "      <th>3</th>\n",
       "      <td>Professional growth within the medical sector</td>\n",
       "      <td>The practical integration workshops were highly beneficial, they significantly contributed to a deeper comprehension of the theories and their implementation in a healthcare environment.</td>\n",
       "      <td>Incorporating a few advanced projects as optional tasks could benefit learners who wish to delve deeper into the subject matter. These projects wouldn't need to influence exam scores.</td>\n",
       "    </tr>\n",
       "    <tr>\n",
       "      <th>4</th>\n",
       "      <td>The highlights of the class included the practical demonstration clips that made the complex biological principles more understandable by connecting them to daily well-being and actions. This connection was incredibly beneficial as I navigated the course content.</td>\n",
       "      <td>The aspect of the course that most facilitated my learning was the regular assessments provided at each segment, which helped confirm my grasp of the material presented. These checkpoints effectively guided me in the correct learning direction. It's evident that considerable effort was invested in designing these educational modules to enable students to gain a deep comprehension rather than just a superficial understanding of the subject matter.</td>\n",
       "      <td>Extend the duration of the concept videos for the more challenging topics, as they require a deeper dive to fully grasp the intricacies involved. Additionally, consider introducing an additional educator to the mix. The dynamic of having multiple voices in another subject area is quite engaging, and it would be beneficial to replicate that experience in this subject to prevent monotony from setting in with just one instructor.</td>\n",
       "    </tr>\n",
       "  </tbody>\n",
       "</table>\n",
       "</div>"
      ],
      "text/plain": [
       "                                                                                                                                                                                                                                                                best_parts  \\\n",
       "0                                                                                                                                                                        I valued the practical clinical aspects related to immune-related disorders and their management.   \n",
       "1                                                                                                                                                                                                                      The flexibility to learn at a self-determined speed   \n",
       "2                                                                                                                                                              The educational content was extremely enriching and stimulating! The section on oncology was the highlight.   \n",
       "3                                                                                                                                                                                                                            Professional growth within the medical sector   \n",
       "4  The highlights of the class included the practical demonstration clips that made the complex biological principles more understandable by connecting them to daily well-being and actions. This connection was incredibly beneficial as I navigated the course content.   \n",
       "\n",
       "                                                                                                                                                                                                                                                                                                                                                                                                                                                    enhanced_learning  \\\n",
       "0                                                                                                                                                                                                                                                                                                                                                                                                     The illustrative visuals and straightforward explanatory clips.   \n",
       "1                                                                                                                                                                                                                                                                                                                                                                                                                       The opportunity to review the lecture content   \n",
       "2                                                                                                                                                                                                                                                                                                                                                                                                                                     the self-assessment activities.   \n",
       "3                                                                                                                                                                                                                                                                          The practical integration workshops were highly beneficial, they significantly contributed to a deeper comprehension of the theories and their implementation in a healthcare environment.   \n",
       "4  The aspect of the course that most facilitated my learning was the regular assessments provided at each segment, which helped confirm my grasp of the material presented. These checkpoints effectively guided me in the correct learning direction. It's evident that considerable effort was invested in designing these educational modules to enable students to gain a deep comprehension rather than just a superficial understanding of the subject matter.   \n",
       "\n",
       "                                                                                                                                                                                                                                                                                                                                                                                                                                   improve_course  \n",
       "0                                                                                                                                                                                                                                                                                                                                                      Consider reducing the duration of certain videos. A few appeared to be slightly prolonged.  \n",
       "1                                                                                                                                                                                                                                                                                                       The pace of some lectures could be slowed down. At times, it's challenging to follow the lecturer's speech or decipher their handwriting.  \n",
       "2                                                                                                                                                                                                                                                                                                                                                                                                                 Nothing specific comes to mind.  \n",
       "3                                                                                                                                                                                                                                                         Incorporating a few advanced projects as optional tasks could benefit learners who wish to delve deeper into the subject matter. These projects wouldn't need to influence exam scores.  \n",
       "4  Extend the duration of the concept videos for the more challenging topics, as they require a deeper dive to fully grasp the intricacies involved. Additionally, consider introducing an additional educator to the mix. The dynamic of having multiple voices in another subject area is quite engaging, and it would be beneficial to replicate that experience in this subject to prevent monotony from setting in with just one instructor.  "
      ]
     },
     "metadata": {},
     "output_type": "display_data"
    }
   ],
   "source": [
    "example_survey = pd.read_csv(data_path / 'example_survey_data_synthetic.csv')\n",
    "full_show(example_survey.head())"
   ]
  },
  {
   "cell_type": "markdown",
   "metadata": {},
   "source": [
    "## Extraction"
   ]
  },
  {
   "cell_type": "markdown",
   "metadata": {},
   "source": [
    "### Test extraction on a single comment\n",
    "\n",
    "Here we'll choose a comment that has multiple distinct topics in the answer and see how extracting distinct excerpts (about each of the topics touched upon) works. In this case, the goal focus (suggestions for improvement) is well-aligned with the survey question, but the objective of extraction is to chunk each comment into excerpts, each of which has a particular focus."
   ]
  },
  {
   "cell_type": "code",
   "execution_count": 12,
   "metadata": {},
   "outputs": [
    {
     "name": "stdout",
     "output_type": "stream",
     "text": [
      "('Comment: Extend the duration of the concept videos for the more challenging '\n",
      " 'topics, as they require a deeper dive to fully grasp the intricacies '\n",
      " 'involved. Additionally, consider introducing an additional educator to the '\n",
      " 'mix. The dynamic of having multiple voices in another subject area is quite '\n",
      " 'engaging, and it would be beneficial to replicate that experience in this '\n",
      " 'subject to prevent monotony from setting in with just one instructor.')\n",
      "{'excerpts': ['Extend the duration of the concept videos for the more '\n",
      "              'challenging topics, as they require a deeper dive to fully '\n",
      "              'grasp the intricacies involved.',\n",
      "              'Consider introducing an additional educator to the mix. The '\n",
      "              'dynamic of having multiple voices in another subject area is '\n",
      "              'quite engaging, and it would be beneficial to replicate that '\n",
      "              'experience in this subject to prevent monotony from setting in '\n",
      "              'with just one instructor.']}\n"
     ]
    }
   ],
   "source": [
    "# the original survey question\n",
    "improve_course_question = \"What could be improved about the course?\"\n",
    "# the goal focus is what we're trying to get out of the question. This may be different than the focus of the question itself.\n",
    "goal_focus = \"suggestions for improvement\"\n",
    "\n",
    "# the pattern is that we make a surveytask (in this case, for extraction), wrap the input \n",
    "# (typically one or a batch of comments), and then apply the task to the input.\n",
    "# What pops out is a result object, which is a pydantic model for easy use.\n",
    "comment = example_survey.iloc[4]['improve_course']\n",
    "survey_task = ExcerptExtraction(goal_focus=goal_focus, question=improve_course_question)\n",
    "task_input = CommentModel(comment=comment)\n",
    "sample_extraction = await apply_task(task_input=task_input,\n",
    "                                     get_prompt=survey_task.prompt_messages,\n",
    "                                     result_class=survey_task.result_class)\n",
    "\n",
    "pprint(f'Comment: {comment}')\n",
    "pprint(json.loads(sample_extraction.model_dump_json()))"
   ]
  },
  {
   "cell_type": "markdown",
   "metadata": {},
   "source": [
    "You can see that the extraction pulled out the two separate topics that the student mentioned in their comment."
   ]
  },
  {
   "cell_type": "markdown",
   "metadata": {},
   "source": [
    "### Alternate convenience method for extraction\n",
    "\n",
    "The method demonstrated above kind of requires a bit too much knowledge of the inner workings, if you're just trying to use the program simply. Here's a convenience wrapper that does the same thing. It looks a little different because it allows passing multiple comments. It also runs the comments in batches, asynchronously, to parallel process while staying within any context window limitations and rate limits of the models. We'll also switch to using the Claude Haiku model here, given it's faster and cheaper, to see how it does. (By default, if you don't specify, it uses Sonnet 3.5)."
   ]
  },
  {
   "cell_type": "code",
   "execution_count": 13,
   "metadata": {},
   "outputs": [
    {
     "name": "stdout",
     "output_type": "stream",
     "text": [
      "processing 1 inputs in batches of 25\n",
      "sleeping for 20 seconds between batches\n",
      "starting 0 to 25\n",
      "completed 0 to 25\n",
      "elapsed time: 1.3662559986114502\n",
      "Student comment: \"Extend the duration of the concept videos for the more\n",
      "challenging topics, as they require a deeper dive to fully grasp the\n",
      "intricacies involved. Additionally, consider introducing an additional\n",
      "educator to the mix. The dynamic of having multiple voices in another\n",
      "subject area is quite engaging, and it would be beneficial to replicate\n",
      "that experience in this subject to prevent monotony from setting in with\n",
      "just one instructor.\"\n",
      "{'excerpts': ['Extend the duration of the concept videos for the more '\n",
      "              'challenging topics, as they require a deeper dive to fully '\n",
      "              'grasp the intricacies involved.',\n",
      "              'Consider introducing an additional educator to the mix. The '\n",
      "              'dynamic of having multiple voices in another subject area is '\n",
      "              'quite engaging, and it would be beneficial to replicate that '\n",
      "              'experience in this subject to prevent monotony from setting in '\n",
      "              'with just one instructor.']}\n"
     ]
    }
   ],
   "source": [
    "# improve_course_question and goal_focus were defined in the cell above\n",
    "comments = [example_survey.iloc[4]['improve_course']]\n",
    "sample_extractions = await extract_excerpts(comments=comments, \n",
    "                                            question=improve_course_question, \n",
    "                                            goal_focus=goal_focus,\n",
    "                                            llm_config=LLMConfig(model=MODEL_NAME_HAIKU))\n",
    "\n",
    "for comment, extraction in zip(comments, sample_extractions):\n",
    "    print_wrap(f'Student comment: \"{comment}\"')\n",
    "    pprint(extraction.model_dump())"
   ]
  },
  {
   "cell_type": "markdown",
   "metadata": {},
   "source": [
    "### Test extraction over a batch of comments\n",
    "\n",
    "Here we'll use 10 comments as an example to show batch running. We're using the `survey_task` we defined above that encapsulates the extraction task. The survey question was \"What could be improved about the course?\" and the goal focus was \"suggestions for improvement\". We'll go back to using the Sonnet 3.5 model (default) here to give the best results."
   ]
  },
  {
   "cell_type": "code",
   "execution_count": 15,
   "metadata": {},
   "outputs": [
    {
     "name": "stdout",
     "output_type": "stream",
     "text": [
      "processing 10 inputs in batches of 25\n",
      "sleeping for 20 seconds between batches\n",
      "starting 0 to 25\n",
      "completed 0 to 25\n",
      "elapsed time: 2.4936439990997314\n",
      "Student comment: \"Consider reducing the duration of certain videos. A\n",
      "few appeared to be slightly prolonged.\"\n",
      "{'excerpts': ['Consider reducing the duration of certain videos. A few '\n",
      "              'appeared to be slightly prolonged.']}\n",
      "\n",
      "\n",
      "Student comment: \"The pace of some lectures could be slowed down. At\n",
      "times, it's challenging to follow the lecturer's speech or decipher\n",
      "their handwriting.\"\n",
      "{'excerpts': [\"The pace of some lectures could be slowed down. At times, it's \"\n",
      "              \"challenging to follow the lecturer's speech or decipher their \"\n",
      "              'handwriting.']}\n",
      "\n",
      "\n",
      "Student comment: \"Nothing specific comes to mind.\"\n",
      "{'excerpts': []}\n",
      "\n",
      "\n",
      "Student comment: \"Incorporating a few advanced projects as optional\n",
      "tasks could benefit learners who wish to delve deeper into the subject\n",
      "matter. These projects wouldn't need to influence exam scores.\"\n",
      "{'excerpts': ['Incorporating a few advanced projects as optional tasks could '\n",
      "              'benefit learners who wish to delve deeper into the subject '\n",
      "              \"matter. These projects wouldn't need to influence exam scores.\"]}\n",
      "\n",
      "\n",
      "Student comment: \"Extend the duration of the concept videos for the more\n",
      "challenging topics, as they require a deeper dive to fully grasp the\n",
      "intricacies involved. Additionally, consider introducing an additional\n",
      "educator to the mix. The dynamic of having multiple voices in another\n",
      "subject area is quite engaging, and it would be beneficial to replicate\n",
      "that experience in this subject to prevent monotony from setting in with\n",
      "just one instructor.\"\n",
      "{'excerpts': ['Extend the duration of the concept videos for the more '\n",
      "              'challenging topics, as they require a deeper dive to fully '\n",
      "              'grasp the intricacies involved.',\n",
      "              'Consider introducing an additional educator to the mix. The '\n",
      "              'dynamic of having multiple voices in another subject area is '\n",
      "              'quite engaging, and it would be beneficial to replicate that '\n",
      "              'experience in this subject to prevent monotony from setting in '\n",
      "              'with just one instructor.']}\n",
      "\n",
      "\n",
      "Student comment: \"Educationally, I found the course to be of exceptional\n",
      "quality; the resources provided were excellent and the course was well\n",
      "organized. It would be beneficial to include more comprehensive\n",
      "discussions on a wider variety of treatments for cancer. Topics like\n",
      "circulating tumor DNA and the progression of tumors were addressed\n",
      "somewhat superficially. Expanding on the practical consequences and\n",
      "real-life instances of therapeutic approaches and patient scenarios\n",
      "would be a valuable enhancement.\"\n",
      "{'excerpts': ['It would be beneficial to include more comprehensive '\n",
      "              'discussions on a wider variety of treatments for cancer. Topics '\n",
      "              'like circulating tumor DNA and the progression of tumors were '\n",
      "              'addressed somewhat superficially.',\n",
      "              'Expanding on the practical consequences and real-life instances '\n",
      "              'of therapeutic approaches and patient scenarios would be a '\n",
      "              'valuable enhancement.']}\n",
      "\n",
      "\n",
      "Student comment: \"Everything is ideal as it stands.\"\n",
      "{'excerpts': []}\n",
      "\n",
      "\n",
      "Student comment: \"OUTSTANDING\"\n",
      "{'excerpts': []}\n",
      "\n",
      "\n",
      "Student comment: \"Extend the duration! The course felt too brief with\n",
      "just a three-week timeframe; I was eager to delve deeper into the\n",
      "subject matter.\"\n",
      "{'excerpts': ['Extend the duration! The course felt too brief with just a '\n",
      "              'three-week timeframe; I was eager to delve deeper into the '\n",
      "              'subject matter.']}\n",
      "\n",
      "\n",
      "Student comment: \"It's excellent.\"\n",
      "{'excerpts': []}\n",
      "\n",
      "\n"
     ]
    }
   ],
   "source": [
    "comments_to_test = [CommentModel(comment=comment) for comment in example_survey['improve_course'].tolist()[:10]]\n",
    "\n",
    "# this requires the survey_task to be instantiated first, which is done a couple of cells above\n",
    "# The batch running routine is generic and takes a list of comments and a task to apply to them.\n",
    "# For that reason, we use a partial that packages the survey task with some of its parameters pre-filled.\n",
    "ex_task = partial(apply_task, \n",
    "                  get_prompt=survey_task.prompt_messages, \n",
    "                  result_class=survey_task.result_class)\n",
    "                #   llm_config=LLMConfig(model=MODEL_NAME_HAIKU))\n",
    "extractions = await process_tasks(comments_to_test, ex_task)\n",
    "\n",
    "for comment, excerpts in zip(comments_to_test, extractions):\n",
    "    print_wrap(f'Student comment: \"{comment.comment}\"')\n",
    "    pprint(excerpts.model_dump())\n",
    "    print('\\n')"
   ]
  },
  {
   "cell_type": "markdown",
   "metadata": {},
   "source": [
    "Notice that there are no excerpts for comments that did not contain anything pertaining to the goal focus (suggestions for improvement in this case). This is a nice way of focusing on just the comments that have useful feedback."
   ]
  },
  {
   "cell_type": "markdown",
   "metadata": {},
   "source": [
    "### Alternate convenience method for extraction of a batch of comments\n",
    "\n",
    "Note that the results may not always be the same, given the inherent non-deterministic nature of LLMs."
   ]
  },
  {
   "cell_type": "code",
   "execution_count": 16,
   "metadata": {},
   "outputs": [
    {
     "name": "stdout",
     "output_type": "stream",
     "text": [
      "processing 10 inputs in batches of 25\n",
      "sleeping for 20 seconds between batches\n",
      "starting 0 to 25\n",
      "completed 0 to 25\n",
      "elapsed time: 2.4829351902008057\n",
      "Student comment: \"Extend the duration of the concept videos for the more\n",
      "challenging topics, as they require a deeper dive to fully grasp the\n",
      "intricacies involved. Additionally, consider introducing an additional\n",
      "educator to the mix. The dynamic of having multiple voices in another\n",
      "subject area is quite engaging, and it would be beneficial to replicate\n",
      "that experience in this subject to prevent monotony from setting in with\n",
      "just one instructor.\"\n",
      "{'excerpts': ['Extend the duration of the concept videos for the more '\n",
      "              'challenging topics, as they require a deeper dive to fully '\n",
      "              'grasp the intricacies involved.',\n",
      "              'Consider introducing an additional educator to the mix. The '\n",
      "              'dynamic of having multiple voices in another subject area is '\n",
      "              'quite engaging, and it would be beneficial to replicate that '\n",
      "              'experience in this subject to prevent monotony from setting in '\n",
      "              'with just one instructor.']}\n",
      "\n",
      "\n",
      "Student comment: \"Educationally, I found the course to be of exceptional\n",
      "quality; the resources provided were excellent and the course was well\n",
      "organized. It would be beneficial to include more comprehensive\n",
      "discussions on a wider variety of treatments for cancer. Topics like\n",
      "circulating tumor DNA and the progression of tumors were addressed\n",
      "somewhat superficially. Expanding on the practical consequences and\n",
      "real-life instances of therapeutic approaches and patient scenarios\n",
      "would be a valuable enhancement.\"\n",
      "{'excerpts': ['It would be beneficial to include more comprehensive '\n",
      "              'discussions on a wider variety of treatments for cancer. Topics '\n",
      "              'like circulating tumor DNA and the progression of tumors were '\n",
      "              'addressed somewhat superficially.',\n",
      "              'Expanding on the practical consequences and real-life instances '\n",
      "              'of therapeutic approaches and patient scenarios would be a '\n",
      "              'valuable enhancement.']}\n",
      "\n",
      "\n",
      "Student comment: \"Everything is ideal as it stands.\"\n",
      "{'excerpts': []}\n",
      "\n",
      "\n"
     ]
    }
   ],
   "source": [
    "# The question and goal_focus were defined above, but we're redefining here for clarity\n",
    "# to show the example all in a single cell.\n",
    "question = \"What could be improved about the course?\"\n",
    "goal_focus = \"suggestions for improvement\"\n",
    "comments = example_survey['improve_course'].tolist()[:10]\n",
    "results = await extract_excerpts(comments=comments,\n",
    "                                 question=question,\n",
    "                                 goal_focus=goal_focus)\n",
    "                                #  llm_config=LLMConfig(model=MODEL_NAME_HAIKU))\n",
    "\n",
    "# we'll just show a few for brevity but feel free to change the slice\n",
    "for comment, excerpts in list(zip(comments, results))[4:7]:\n",
    "    print_wrap(f'Student comment: \"{comment}\"')\n",
    "    pprint(excerpts.model_dump())\n",
    "    print('\\n')"
   ]
  },
  {
   "cell_type": "markdown",
   "metadata": {},
   "source": [
    "Notice how it put separate suggestions into different excerpts, which helps us later in classifying these into different categories or running sentiment analysis on them. It also helps as a filter - notice how it didn't return any excerpts for the comments that didn't contain any suggestions for improvement."
   ]
  },
  {
   "cell_type": "markdown",
   "metadata": {},
   "source": [
    "### New goal focus\n",
    "\n",
    "Now let's see what happens if we change the goal focus to something that is not exactly the same as the survey question. In this case, let's say we want to know what suggestions for improvement students had about the lectures and videos. We can define that as our goal focus and pass that along."
   ]
  },
  {
   "cell_type": "code",
   "execution_count": 17,
   "metadata": {},
   "outputs": [
    {
     "name": "stdout",
     "output_type": "stream",
     "text": [
      "processing 10 inputs in batches of 25\n",
      "sleeping for 20 seconds between batches\n",
      "starting 0 to 25\n",
      "completed 0 to 25\n",
      "elapsed time: 2.1860463619232178\n",
      "Student comment: \"Consider reducing the duration of certain videos. A\n",
      "few appeared to be slightly prolonged.\"\n",
      "{'excerpts': ['Consider reducing the duration of certain videos. A few '\n",
      "              'appeared to be slightly prolonged.']}\n",
      "\n",
      "\n",
      "Student comment: \"The pace of some lectures could be slowed down. At\n",
      "times, it's challenging to follow the lecturer's speech or decipher\n",
      "their handwriting.\"\n",
      "{'excerpts': [\"The pace of some lectures could be slowed down. At times, it's \"\n",
      "              \"challenging to follow the lecturer's speech or decipher their \"\n",
      "              'handwriting.']}\n",
      "\n",
      "\n",
      "Student comment: \"Nothing specific comes to mind.\"\n",
      "{'excerpts': []}\n",
      "\n",
      "\n",
      "Student comment: \"Incorporating a few advanced projects as optional\n",
      "tasks could benefit learners who wish to delve deeper into the subject\n",
      "matter. These projects wouldn't need to influence exam scores.\"\n",
      "{'excerpts': []}\n",
      "\n",
      "\n",
      "Student comment: \"Extend the duration of the concept videos for the more\n",
      "challenging topics, as they require a deeper dive to fully grasp the\n",
      "intricacies involved. Additionally, consider introducing an additional\n",
      "educator to the mix. The dynamic of having multiple voices in another\n",
      "subject area is quite engaging, and it would be beneficial to replicate\n",
      "that experience in this subject to prevent monotony from setting in with\n",
      "just one instructor.\"\n",
      "{'excerpts': ['Extend the duration of the concept videos for the more '\n",
      "              'challenging topics, as they require a deeper dive to fully '\n",
      "              'grasp the intricacies involved.',\n",
      "              'Additionally, consider introducing an additional educator to '\n",
      "              'the mix. The dynamic of having multiple voices in another '\n",
      "              'subject area is quite engaging, and it would be beneficial to '\n",
      "              'replicate that experience in this subject to prevent monotony '\n",
      "              'from setting in with just one instructor.']}\n",
      "\n",
      "\n",
      "Student comment: \"Educationally, I found the course to be of exceptional\n",
      "quality; the resources provided were excellent and the course was well\n",
      "organized. It would be beneficial to include more comprehensive\n",
      "discussions on a wider variety of treatments for cancer. Topics like\n",
      "circulating tumor DNA and the progression of tumors were addressed\n",
      "somewhat superficially. Expanding on the practical consequences and\n",
      "real-life instances of therapeutic approaches and patient scenarios\n",
      "would be a valuable enhancement.\"\n",
      "{'excerpts': []}\n",
      "\n",
      "\n",
      "Student comment: \"Everything is ideal as it stands.\"\n",
      "{'excerpts': []}\n",
      "\n",
      "\n",
      "Student comment: \"OUTSTANDING\"\n",
      "{'excerpts': []}\n",
      "\n",
      "\n",
      "Student comment: \"Extend the duration! The course felt too brief with\n",
      "just a three-week timeframe; I was eager to delve deeper into the\n",
      "subject matter.\"\n",
      "{'excerpts': []}\n",
      "\n",
      "\n",
      "Student comment: \"It's excellent.\"\n",
      "{'excerpts': []}\n",
      "\n",
      "\n"
     ]
    }
   ],
   "source": [
    "# The question and goal_focus were defined above, but we're redefining here for clarity\n",
    "# to show the example all in a single cell.\n",
    "question2 = \"What could be improved about the course?\"\n",
    "goal_focus2 = \"lectures and videos\"\n",
    "comments = example_survey['improve_course'].tolist()[:10]\n",
    "results2 = await extract_excerpts(comments=comments,\n",
    "                                 question=question2,\n",
    "                                 goal_focus=goal_focus2)\n",
    "                                #  llm_config=LLMConfig(model=MODEL_NAME_HAIKU))\n",
    "\n",
    "for comment, excerpts in zip(comments, results2):\n",
    "    print_wrap(f'Student comment: \"{comment}\"')\n",
    "    pprint(excerpts.model_dump())\n",
    "    print('\\n')"
   ]
  },
  {
   "cell_type": "markdown",
   "metadata": {},
   "source": [
    "Nice! Now the resulting excerpts only have to do with lectures and videos. Notice that comments that clearly have suggestions for improvement (\"Extend the duration! The course felt too brief...\") but are not about lectures or videos no longer show up as excerpts."
   ]
  }
 ],
 "metadata": {
  "kernelspec": {
   "display_name": "ai1",
   "language": "python",
   "name": "python3"
  },
  "language_info": {
   "codemirror_mode": {
    "name": "ipython",
    "version": 3
   },
   "file_extension": ".py",
   "mimetype": "text/x-python",
   "name": "python",
   "nbconvert_exporter": "python",
   "pygments_lexer": "ipython3",
   "version": "3.11.9"
  }
 },
 "nbformat": 4,
 "nbformat_minor": 2
}
