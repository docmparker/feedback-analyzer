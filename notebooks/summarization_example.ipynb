{
 "cells": [
  {
   "cell_type": "markdown",
   "metadata": {},
   "source": [
    "# Summarization\n",
    "\n",
    "This is a very high-level task that summarizes the major themes of a set of feedback comments."
   ]
  },
  {
   "cell_type": "markdown",
   "metadata": {},
   "source": [
    "## Imports and setup"
   ]
  },
  {
   "cell_type": "code",
   "execution_count": 2,
   "metadata": {},
   "outputs": [
    {
     "data": {
      "text/plain": [
       "True"
      ]
     },
     "execution_count": 2,
     "metadata": {},
     "output_type": "execute_result"
    }
   ],
   "source": [
    "from dotenv import load_dotenv, find_dotenv\n",
    "load_dotenv(find_dotenv())"
   ]
  },
  {
   "cell_type": "code",
   "execution_count": 3,
   "metadata": {},
   "outputs": [],
   "source": [
    "import pandas as pd\n",
    "from pprint import pprint\n",
    "from IPython.display import Markdown, display\n",
    "from pathlib import Path\n",
    "from feedback_analyzer.summarization import summarize_comments\n",
    "from feedback_analyzer.models_common import LLMConfig"
   ]
  },
  {
   "cell_type": "code",
   "execution_count": 4,
   "metadata": {},
   "outputs": [],
   "source": [
    "# this makes it more robust to run async tasks inside an already async environment (jupyter notebooks)\n",
    "import nest_asyncio\n",
    "nest_asyncio.apply()"
   ]
  },
  {
   "cell_type": "markdown",
   "metadata": {},
   "source": [
    "Make sure to either set `ANTHROPIC_API_KEY` as an environment variable or put it in a .env file and use the following cell to load the env var. The format in the .env file is:\n",
    "```\n",
    "ANTHROPIC_API_KEY=yourKeyGoesHere\n",
    "```"
   ]
  },
  {
   "cell_type": "code",
   "execution_count": 5,
   "metadata": {},
   "outputs": [],
   "source": [
    "%load_ext autoreload\n",
    "%autoreload 2"
   ]
  },
  {
   "cell_type": "markdown",
   "metadata": {},
   "source": [
    "This is a convenience function to make seeing Pandas dataframe values easier, especially when there are long strings like the student comments we will be using."
   ]
  },
  {
   "cell_type": "code",
   "execution_count": 6,
   "metadata": {},
   "outputs": [],
   "source": [
    "def full_show(df):\n",
    "    with pd.option_context('display.max_columns', None, 'display.max_rows', None, 'display.max_colwidth', None):\n",
    "        display(df)"
   ]
  },
  {
   "cell_type": "markdown",
   "metadata": {},
   "source": [
    "This is a convenience function for pretty-printing long student comments."
   ]
  },
  {
   "cell_type": "code",
   "execution_count": 7,
   "metadata": {},
   "outputs": [],
   "source": [
    "def print_wrap(text: str, width: int = 72) -> str:\n",
    "    print(textwrap.fill(text, width=width))"
   ]
  },
  {
   "cell_type": "code",
   "execution_count": 8,
   "metadata": {},
   "outputs": [],
   "source": [
    "MODEL_NAME_HAIKU = \"claude-3-haiku-20240307\""
   ]
  },
  {
   "cell_type": "markdown",
   "metadata": {},
   "source": [
    "## Load the example data"
   ]
  },
  {
   "cell_type": "code",
   "execution_count": 9,
   "metadata": {},
   "outputs": [],
   "source": [
    "data_path = Path('../data/example_data')"
   ]
  },
  {
   "cell_type": "markdown",
   "metadata": {},
   "source": [
    "Let's load up some fake data. \n",
    "\n",
    "All of these comments are synthetic to avoid sharing any sensitive or PII information, but they should work great for illustration purposes. There are 100 rows, with just a few null/nan values here and there for realism. In most surveys I've seen, there are quite a number of null/None/blank etc values, and the functions are written to handle those."
   ]
  },
  {
   "cell_type": "code",
   "execution_count": 10,
   "metadata": {},
   "outputs": [
    {
     "data": {
      "text/html": [
       "<div>\n",
       "<style scoped>\n",
       "    .dataframe tbody tr th:only-of-type {\n",
       "        vertical-align: middle;\n",
       "    }\n",
       "\n",
       "    .dataframe tbody tr th {\n",
       "        vertical-align: top;\n",
       "    }\n",
       "\n",
       "    .dataframe thead th {\n",
       "        text-align: right;\n",
       "    }\n",
       "</style>\n",
       "<table border=\"1\" class=\"dataframe\">\n",
       "  <thead>\n",
       "    <tr style=\"text-align: right;\">\n",
       "      <th></th>\n",
       "      <th>best_parts</th>\n",
       "      <th>enhanced_learning</th>\n",
       "      <th>improve_course</th>\n",
       "    </tr>\n",
       "  </thead>\n",
       "  <tbody>\n",
       "    <tr>\n",
       "      <th>0</th>\n",
       "      <td>I valued the practical clinical aspects related to immune-related disorders and their management.</td>\n",
       "      <td>The illustrative visuals and straightforward explanatory clips.</td>\n",
       "      <td>Consider reducing the duration of certain videos. A few appeared to be slightly prolonged.</td>\n",
       "    </tr>\n",
       "    <tr>\n",
       "      <th>1</th>\n",
       "      <td>The flexibility to learn at a self-determined speed</td>\n",
       "      <td>The opportunity to review the lecture content</td>\n",
       "      <td>The pace of some lectures could be slowed down. At times, it's challenging to follow the lecturer's speech or decipher their handwriting.</td>\n",
       "    </tr>\n",
       "    <tr>\n",
       "      <th>2</th>\n",
       "      <td>The educational content was extremely enriching and stimulating! The section on oncology was the highlight.</td>\n",
       "      <td>the self-assessment activities.</td>\n",
       "      <td>Nothing specific comes to mind.</td>\n",
       "    </tr>\n",
       "    <tr>\n",
       "      <th>3</th>\n",
       "      <td>Professional growth within the medical sector</td>\n",
       "      <td>The practical integration workshops were highly beneficial, they significantly contributed to a deeper comprehension of the theories and their implementation in a healthcare environment.</td>\n",
       "      <td>Incorporating a few advanced projects as optional tasks could benefit learners who wish to delve deeper into the subject matter. These projects wouldn't need to influence exam scores.</td>\n",
       "    </tr>\n",
       "    <tr>\n",
       "      <th>4</th>\n",
       "      <td>The highlights of the class included the practical demonstration clips that made the complex biological principles more understandable by connecting them to daily well-being and actions. This connection was incredibly beneficial as I navigated the course content.</td>\n",
       "      <td>The aspect of the course that most facilitated my learning was the regular assessments provided at each segment, which helped confirm my grasp of the material presented. These checkpoints effectively guided me in the correct learning direction. It's evident that considerable effort was invested in designing these educational modules to enable students to gain a deep comprehension rather than just a superficial understanding of the subject matter.</td>\n",
       "      <td>Extend the duration of the concept videos for the more challenging topics, as they require a deeper dive to fully grasp the intricacies involved. Additionally, consider introducing an additional educator to the mix. The dynamic of having multiple voices in another subject area is quite engaging, and it would be beneficial to replicate that experience in this subject to prevent monotony from setting in with just one instructor.</td>\n",
       "    </tr>\n",
       "  </tbody>\n",
       "</table>\n",
       "</div>"
      ],
      "text/plain": [
       "                                                                                                                                                                                                                                                                best_parts  \\\n",
       "0                                                                                                                                                                        I valued the practical clinical aspects related to immune-related disorders and their management.   \n",
       "1                                                                                                                                                                                                                      The flexibility to learn at a self-determined speed   \n",
       "2                                                                                                                                                              The educational content was extremely enriching and stimulating! The section on oncology was the highlight.   \n",
       "3                                                                                                                                                                                                                            Professional growth within the medical sector   \n",
       "4  The highlights of the class included the practical demonstration clips that made the complex biological principles more understandable by connecting them to daily well-being and actions. This connection was incredibly beneficial as I navigated the course content.   \n",
       "\n",
       "                                                                                                                                                                                                                                                                                                                                                                                                                                                    enhanced_learning  \\\n",
       "0                                                                                                                                                                                                                                                                                                                                                                                                     The illustrative visuals and straightforward explanatory clips.   \n",
       "1                                                                                                                                                                                                                                                                                                                                                                                                                       The opportunity to review the lecture content   \n",
       "2                                                                                                                                                                                                                                                                                                                                                                                                                                     the self-assessment activities.   \n",
       "3                                                                                                                                                                                                                                                                          The practical integration workshops were highly beneficial, they significantly contributed to a deeper comprehension of the theories and their implementation in a healthcare environment.   \n",
       "4  The aspect of the course that most facilitated my learning was the regular assessments provided at each segment, which helped confirm my grasp of the material presented. These checkpoints effectively guided me in the correct learning direction. It's evident that considerable effort was invested in designing these educational modules to enable students to gain a deep comprehension rather than just a superficial understanding of the subject matter.   \n",
       "\n",
       "                                                                                                                                                                                                                                                                                                                                                                                                                                   improve_course  \n",
       "0                                                                                                                                                                                                                                                                                                                                                      Consider reducing the duration of certain videos. A few appeared to be slightly prolonged.  \n",
       "1                                                                                                                                                                                                                                                                                                       The pace of some lectures could be slowed down. At times, it's challenging to follow the lecturer's speech or decipher their handwriting.  \n",
       "2                                                                                                                                                                                                                                                                                                                                                                                                                 Nothing specific comes to mind.  \n",
       "3                                                                                                                                                                                                                                                         Incorporating a few advanced projects as optional tasks could benefit learners who wish to delve deeper into the subject matter. These projects wouldn't need to influence exam scores.  \n",
       "4  Extend the duration of the concept videos for the more challenging topics, as they require a deeper dive to fully grasp the intricacies involved. Additionally, consider introducing an additional educator to the mix. The dynamic of having multiple voices in another subject area is quite engaging, and it would be beneficial to replicate that experience in this subject to prevent monotony from setting in with just one instructor.  "
      ]
     },
     "metadata": {},
     "output_type": "display_data"
    }
   ],
   "source": [
    "example_survey = pd.read_csv(data_path / 'example_survey_data_synthetic.csv')\n",
    "full_show(example_survey.head())"
   ]
  },
  {
   "cell_type": "markdown",
   "metadata": {},
   "source": [
    "## Summarization\n",
    "\n",
    "Here we are having the model summarize the major themes of the feedback comments based on the survey question. Given that the models have long context windows (200K for the Claude models), we just stuff all of the comments together into the prompt. If you change to use Haiku (see commented out line) - a small but capable model, just be aware that it often comes back with significantly fewer themes than what Sonnet 3.5 (the default we are using) would return."
   ]
  },
  {
   "cell_type": "code",
   "execution_count": 13,
   "metadata": {},
   "outputs": [
    {
     "data": {
      "text/markdown": [
       "The major themes of feedback shared by the students for course improvement include:\n",
       "\n",
       "1. Video content:\n",
       "   - Some students suggested reducing the duration of certain videos, while others requested longer videos for complex topics.\n",
       "   - The pace of lectures was sometimes too fast, making it difficult to follow.\n",
       "   - More visual aids and multimedia presentations were requested to enhance understanding.\n",
       "   - Improving the clarity of video lectures was mentioned.\n",
       "\n",
       "2. Course content and depth:\n",
       "   - Many students expressed a desire for more in-depth content, especially on advanced topics.\n",
       "   - Requests for additional subjects, such as renal physiology, endocrinology, immunology, and next-generation sequencing techniques.\n",
       "   - Some students wanted more practical examples, case studies, and real-life applications.\n",
       "   - Suggestions to include more content on innovative therapies and recent advancements in treatments.\n",
       "\n",
       "3. Interactive elements and practical applications:\n",
       "   - Requests for more hands-on activities and interactive elements.\n",
       "   - Suggestions for incorporating simulation tools or projects to apply learned concepts.\n",
       "   - Desire for more practical clinical demonstrations and patient scenarios.\n",
       "\n",
       "4. Assessment and quizzes:\n",
       "   - Some students found quiz questions confusing or not well-aligned with the course material.\n",
       "   - Requests for additional mock tests and practice questions for the final assessment.\n",
       "   - Suggestions to increase the number of attempts for the final assessment.\n",
       "   - Proposal to include a mid-term assessment to identify areas needing further study.\n",
       "\n",
       "5. Course materials and resources:\n",
       "   - Requests for downloadable and comprehensive course materials (e.g., PDF format).\n",
       "   - Suggestions for improved note-taking spaces and more detailed outlines.\n",
       "   - Desire for ongoing access to course content for future reference.\n",
       "\n",
       "6. Course structure and duration:\n",
       "   - Some students felt the course was too short and wanted it extended.\n",
       "   - Suggestions to include optional advanced projects for deeper learning.\n",
       "\n",
       "7. Language and consistency:\n",
       "   - Requests for more consistent language use across different presenters.\n",
       "   - Suggestions for clearer and more straightforward phrasing of questions.\n",
       "   - Requests for subtitles in other languages to assist non-native English speakers.\n",
       "\n",
       "8. Positive feedback:\n",
       "   - Many students expressed satisfaction with the course, describing it as excellent or outstanding.\n",
       "   - Some students stated that no improvements were necessary.\n",
       "\n",
       "These themes reflect a diverse range of student experiences and preferences, with some contradictory feedback (e.g., video length) highlighting the challenge of meeting all individual needs in a single course format."
      ],
      "text/plain": [
       "<IPython.core.display.Markdown object>"
      ]
     },
     "metadata": {},
     "output_type": "display_data"
    }
   ],
   "source": [
    "improve_course_question = \"What could be improved about the course?\"\n",
    "comments = example_survey['improve_course'].tolist() # 100 comments\n",
    "summarization_result = await summarize_comments(comments=comments, \n",
    "                                                question=improve_course_question)\n",
    "                                                # llm_config=LLMConfig(model=MODEL_NAME_HAIKU))\n",
    "\n",
    "display(Markdown((summarization_result.summary)))"
   ]
  },
  {
   "cell_type": "markdown",
   "metadata": {},
   "source": [
    "This summary gives a pretty reasonable sense at a high level of what students said for this survey question. But if you're looking for more structured output (something you could use as categories in a bar graph, for example), then check out the example notebook on theme derivation, or the (much longer) notebook with the end-to-end example.\n",
    "\n",
    "Let's now try for a different survey question:"
   ]
  },
  {
   "cell_type": "code",
   "execution_count": 14,
   "metadata": {},
   "outputs": [
    {
     "data": {
      "text/markdown": [
       "Based on the student feedback comments, the major themes for course improvement are:\n",
       "\n",
       "1. Additional Learning Resources:\n",
       "   - Many students requested more comprehensive study materials, including downloadable PDFs, expanded notes, and additional visual aids.\n",
       "   - Some suggested incorporating more multimedia presentations and interactive elements.\n",
       "   - There were requests for more practice questions, mock tests, and case studies.\n",
       "\n",
       "2. Content Depth and Breadth:\n",
       "   - Several students expressed a desire for deeper exploration of certain topics, including renal physiology, endocrinology, immunology, and next-generation sequencing.\n",
       "   - Some suggested broadening the curriculum to cover more contemporary topics and innovative therapies.\n",
       "   - There were requests for more practical applications, real-world scenarios, and clinical demonstrations.\n",
       "\n",
       "3. Video Lecture Improvements:\n",
       "   - Some students found the pace of lectures too fast, suggesting slower delivery or the ability to acknowledge speed changes.\n",
       "   - There were requests for clearer video presentations and improved audio quality.\n",
       "   - Some suggested incorporating more visual aids in the lectures.\n",
       "\n",
       "4. Assessment Alignment:\n",
       "   - Several students noted that quiz and exam questions sometimes covered material not thoroughly discussed in the course.\n",
       "   - There were suggestions to better align assessments with the course content and learning objectives.\n",
       "\n",
       "5. Accessibility and User Experience:\n",
       "   - Students requested selectable subtitles for copying, pagination in study resources, and subtitles in multiple languages.\n",
       "   - Some suggested improving the readability of course materials, including font selection.\n",
       "\n",
       "6. Interactive and Practical Components:\n",
       "   - Many students expressed a desire for more hands-on activities, practical exercises, and interactive elements.\n",
       "   - Some suggested incorporating small-scale projects or simulations to apply learned concepts.\n",
       "\n",
       "7. Content Organization and Consistency:\n",
       "   - There were suggestions to ensure consistency in language and presentation across different instructors and videos.\n",
       "   - Some students requested better organization of discussion forums and question submission features.\n",
       "\n",
       "8. Extended Access and Course Duration:\n",
       "   - Several students expressed a desire for ongoing access to course materials after completion.\n",
       "   - Some suggested extending the course duration to allow for deeper exploration of topics.\n",
       "\n",
       "9. Advanced Content:\n",
       "   - A few students requested optional advanced projects or sections for those wanting to delve deeper into the subject matter.\n",
       "\n",
       "10. Positive Feedback:\n",
       "    - Many students expressed satisfaction with the course, describing it as excellent or outstanding.\n",
       "    - Some stated that no improvements were necessary.\n",
       "\n",
       "These themes reflect a desire for more comprehensive and diverse learning resources, deeper content exploration, improved alignment between course material and assessments, enhanced interactivity, and better accessibility. While many students were satisfied with the course, there's a clear appetite for more advanced and practical applications of the material."
      ],
      "text/plain": [
       "<IPython.core.display.Markdown object>"
      ]
     },
     "metadata": {},
     "output_type": "display_data"
    }
   ],
   "source": [
    "comments2 = list(reversed(example_survey['improve_course'].tolist())) # 100 comments\n",
    "summarization_result2 = await summarize_comments(comments=comments2, \n",
    "                                                question=improve_course_question)\n",
    "                                                # llm_config=LLMConfig(model=MODEL_NAME_HAIKU))\n",
    "\n",
    "display(Markdown((summarization_result2.summary)))\n"
   ]
  },
  {
   "cell_type": "markdown",
   "metadata": {},
   "source": [
    "This may be good enough. If we want to have the output in the form of a list of themes (that is, more structured), we could use a model with a tool call to extract into a more structured format, or we could use the theme_derivation function in the `theme_derivation_example.ipynb` notebook. Check that out next..."
   ]
  }
 ],
 "metadata": {
  "kernelspec": {
   "display_name": "ai1",
   "language": "python",
   "name": "python3"
  },
  "language_info": {
   "codemirror_mode": {
    "name": "ipython",
    "version": 3
   },
   "file_extension": ".py",
   "mimetype": "text/x-python",
   "name": "python",
   "nbconvert_exporter": "python",
   "pygments_lexer": "ipython3",
   "version": "3.11.9"
  }
 },
 "nbformat": 4,
 "nbformat_minor": 2
}
