{
 "cells": [
  {
   "cell_type": "markdown",
   "metadata": {},
   "source": [
    "# Multilabel Classification\n",
    "\n",
    "Here the goal is to use a set of tags (also called labels or classes) to classify student feedback comments. This lets us get a quantitative sense of the volume of feedback in each major category and also focus in on any particular category of interest by filtering down to just those comments and seeing what students said. \n",
    "\n",
    "We've come up with a set of predefined labels that can be used for any type of course, but you can also pass your own labels if you have specific categories in mind. _Multilabel classification_ means that each comment can have any number of labels assigned, which is important given that students often touch on multiple topics in a single comment."
   ]
  },
  {
   "cell_type": "markdown",
   "metadata": {},
   "source": [
    "## Imports and setup"
   ]
  },
  {
   "cell_type": "markdown",
   "metadata": {},
   "source": [
    "Make sure to either set `ANTHROPIC_API_KEY` as an environment variable or put it in a .env file and use the following cell to load the env var. The format in the .env file is:\n",
    "```\n",
    "ANTHROPIC_API_KEY=yourKeyGoesHere\n",
    "```"
   ]
  },
  {
   "cell_type": "code",
   "execution_count": 2,
   "metadata": {},
   "outputs": [
    {
     "data": {
      "text/plain": [
       "True"
      ]
     },
     "execution_count": 2,
     "metadata": {},
     "output_type": "execute_result"
    }
   ],
   "source": [
    "from dotenv import load_dotenv, find_dotenv\n",
    "load_dotenv(find_dotenv())"
   ]
  },
  {
   "cell_type": "code",
   "execution_count": 3,
   "metadata": {},
   "outputs": [],
   "source": [
    "import pandas as pd\n",
    "import json\n",
    "from itertools import islice\n",
    "from functools import partial\n",
    "from pprint import pprint\n",
    "from pathlib import Path\n",
    "from feedback_analyzer.multilabel_classification import MultiLabelClassification, multilabel_classify, default_tags_list\n",
    "from feedback_analyzer.models_common import CommentModel, CommentBatch, LLMConfig\n",
    "from feedback_analyzer.single_input_task import apply_task\n",
    "from feedback_analyzer.batch_runner import process_tasks"
   ]
  },
  {
   "cell_type": "code",
   "execution_count": 4,
   "metadata": {},
   "outputs": [],
   "source": [
    "# this makes it more robust to run async tasks inside an already async environment (jupyter notebooks)\n",
    "import nest_asyncio\n",
    "nest_asyncio.apply()"
   ]
  },
  {
   "cell_type": "code",
   "execution_count": 5,
   "metadata": {},
   "outputs": [],
   "source": [
    "%load_ext autoreload\n",
    "%autoreload 2"
   ]
  },
  {
   "cell_type": "markdown",
   "metadata": {},
   "source": [
    "This is a convenience function to make seeing Pandas dataframe values easier, especially when there are long strings like the student comments we will be using."
   ]
  },
  {
   "cell_type": "code",
   "execution_count": 6,
   "metadata": {},
   "outputs": [],
   "source": [
    "def full_show(df):\n",
    "    with pd.option_context('display.max_columns', None, 'display.max_rows', None, 'display.max_colwidth', None):\n",
    "        display(df)"
   ]
  },
  {
   "cell_type": "code",
   "execution_count": 7,
   "metadata": {},
   "outputs": [],
   "source": [
    "# the default is sonnet 3.5 if we don't pass an llm_config\n",
    "MODEL_NAME_HAIKU = \"claude-3-haiku-20240307\""
   ]
  },
  {
   "cell_type": "markdown",
   "metadata": {},
   "source": [
    "## Load the example data"
   ]
  },
  {
   "cell_type": "code",
   "execution_count": 8,
   "metadata": {},
   "outputs": [],
   "source": [
    "data_path = Path('../data/example_data')"
   ]
  },
  {
   "cell_type": "markdown",
   "metadata": {},
   "source": [
    "Let's load up some fake data. \n",
    "\n",
    "All of these comments are synthetic to avoid sharing any sensitive or PII information, but they should work great for illustration purposes. There are 100 rows, with just a few null/nan values here and there for realism. In most surveys I've seen, there are quite a number of null/None/blank etc values, and the functions are written to handle those."
   ]
  },
  {
   "cell_type": "code",
   "execution_count": 9,
   "metadata": {},
   "outputs": [
    {
     "data": {
      "text/html": [
       "<div>\n",
       "<style scoped>\n",
       "    .dataframe tbody tr th:only-of-type {\n",
       "        vertical-align: middle;\n",
       "    }\n",
       "\n",
       "    .dataframe tbody tr th {\n",
       "        vertical-align: top;\n",
       "    }\n",
       "\n",
       "    .dataframe thead th {\n",
       "        text-align: right;\n",
       "    }\n",
       "</style>\n",
       "<table border=\"1\" class=\"dataframe\">\n",
       "  <thead>\n",
       "    <tr style=\"text-align: right;\">\n",
       "      <th></th>\n",
       "      <th>best_parts</th>\n",
       "      <th>enhanced_learning</th>\n",
       "      <th>improve_course</th>\n",
       "    </tr>\n",
       "  </thead>\n",
       "  <tbody>\n",
       "    <tr>\n",
       "      <th>0</th>\n",
       "      <td>I valued the practical clinical aspects related to immune-related disorders and their management.</td>\n",
       "      <td>The illustrative visuals and straightforward explanatory clips.</td>\n",
       "      <td>Consider reducing the duration of certain videos. A few appeared to be slightly prolonged.</td>\n",
       "    </tr>\n",
       "    <tr>\n",
       "      <th>1</th>\n",
       "      <td>The flexibility to learn at a self-determined speed</td>\n",
       "      <td>The opportunity to review the lecture content</td>\n",
       "      <td>The pace of some lectures could be slowed down. At times, it's challenging to follow the lecturer's speech or decipher their handwriting.</td>\n",
       "    </tr>\n",
       "    <tr>\n",
       "      <th>2</th>\n",
       "      <td>The educational content was extremely enriching and stimulating! The section on oncology was the highlight.</td>\n",
       "      <td>the self-assessment activities.</td>\n",
       "      <td>Nothing specific comes to mind.</td>\n",
       "    </tr>\n",
       "    <tr>\n",
       "      <th>3</th>\n",
       "      <td>Professional growth within the medical sector</td>\n",
       "      <td>The practical integration workshops were highly beneficial, they significantly contributed to a deeper comprehension of the theories and their implementation in a healthcare environment.</td>\n",
       "      <td>Incorporating a few advanced projects as optional tasks could benefit learners who wish to delve deeper into the subject matter. These projects wouldn't need to influence exam scores.</td>\n",
       "    </tr>\n",
       "    <tr>\n",
       "      <th>4</th>\n",
       "      <td>The highlights of the class included the practical demonstration clips that made the complex biological principles more understandable by connecting them to daily well-being and actions. This connection was incredibly beneficial as I navigated the course content.</td>\n",
       "      <td>The aspect of the course that most facilitated my learning was the regular assessments provided at each segment, which helped confirm my grasp of the material presented. These checkpoints effectively guided me in the correct learning direction. It's evident that considerable effort was invested in designing these educational modules to enable students to gain a deep comprehension rather than just a superficial understanding of the subject matter.</td>\n",
       "      <td>Extend the duration of the concept videos for the more challenging topics, as they require a deeper dive to fully grasp the intricacies involved. Additionally, consider introducing an additional educator to the mix. The dynamic of having multiple voices in another subject area is quite engaging, and it would be beneficial to replicate that experience in this subject to prevent monotony from setting in with just one instructor.</td>\n",
       "    </tr>\n",
       "  </tbody>\n",
       "</table>\n",
       "</div>"
      ],
      "text/plain": [
       "                                                                                                                                                                                                                                                                best_parts  \\\n",
       "0                                                                                                                                                                        I valued the practical clinical aspects related to immune-related disorders and their management.   \n",
       "1                                                                                                                                                                                                                      The flexibility to learn at a self-determined speed   \n",
       "2                                                                                                                                                              The educational content was extremely enriching and stimulating! The section on oncology was the highlight.   \n",
       "3                                                                                                                                                                                                                            Professional growth within the medical sector   \n",
       "4  The highlights of the class included the practical demonstration clips that made the complex biological principles more understandable by connecting them to daily well-being and actions. This connection was incredibly beneficial as I navigated the course content.   \n",
       "\n",
       "                                                                                                                                                                                                                                                                                                                                                                                                                                                    enhanced_learning  \\\n",
       "0                                                                                                                                                                                                                                                                                                                                                                                                     The illustrative visuals and straightforward explanatory clips.   \n",
       "1                                                                                                                                                                                                                                                                                                                                                                                                                       The opportunity to review the lecture content   \n",
       "2                                                                                                                                                                                                                                                                                                                                                                                                                                     the self-assessment activities.   \n",
       "3                                                                                                                                                                                                                                                                          The practical integration workshops were highly beneficial, they significantly contributed to a deeper comprehension of the theories and their implementation in a healthcare environment.   \n",
       "4  The aspect of the course that most facilitated my learning was the regular assessments provided at each segment, which helped confirm my grasp of the material presented. These checkpoints effectively guided me in the correct learning direction. It's evident that considerable effort was invested in designing these educational modules to enable students to gain a deep comprehension rather than just a superficial understanding of the subject matter.   \n",
       "\n",
       "                                                                                                                                                                                                                                                                                                                                                                                                                                   improve_course  \n",
       "0                                                                                                                                                                                                                                                                                                                                                      Consider reducing the duration of certain videos. A few appeared to be slightly prolonged.  \n",
       "1                                                                                                                                                                                                                                                                                                       The pace of some lectures could be slowed down. At times, it's challenging to follow the lecturer's speech or decipher their handwriting.  \n",
       "2                                                                                                                                                                                                                                                                                                                                                                                                                 Nothing specific comes to mind.  \n",
       "3                                                                                                                                                                                                                                                         Incorporating a few advanced projects as optional tasks could benefit learners who wish to delve deeper into the subject matter. These projects wouldn't need to influence exam scores.  \n",
       "4  Extend the duration of the concept videos for the more challenging topics, as they require a deeper dive to fully grasp the intricacies involved. Additionally, consider introducing an additional educator to the mix. The dynamic of having multiple voices in another subject area is quite engaging, and it would be beneficial to replicate that experience in this subject to prevent monotony from setting in with just one instructor.  "
      ]
     },
     "metadata": {},
     "output_type": "display_data"
    }
   ],
   "source": [
    "example_survey = pd.read_csv(data_path / 'example_survey_data_synthetic.csv')\n",
    "full_show(example_survey.head())"
   ]
  },
  {
   "cell_type": "markdown",
   "metadata": {},
   "source": [
    "We'll also load up some Coursera comments (source is from [this Kaggle notebook](https://www.kaggle.com/datasets/imuhammad/course-reviews-on-coursera), just using the first 100 as an example. The included example dataset is just the first 200 rows of the full 1.45 million rows. I didn't include the full set so as not to blimp up the size of this repo."
   ]
  },
  {
   "cell_type": "code",
   "execution_count": 10,
   "metadata": {},
   "outputs": [
    {
     "data": {
      "text/html": [
       "<div>\n",
       "<style scoped>\n",
       "    .dataframe tbody tr th:only-of-type {\n",
       "        vertical-align: middle;\n",
       "    }\n",
       "\n",
       "    .dataframe tbody tr th {\n",
       "        vertical-align: top;\n",
       "    }\n",
       "\n",
       "    .dataframe thead th {\n",
       "        text-align: right;\n",
       "    }\n",
       "</style>\n",
       "<table border=\"1\" class=\"dataframe\">\n",
       "  <thead>\n",
       "    <tr style=\"text-align: right;\">\n",
       "      <th></th>\n",
       "      <th>reviews</th>\n",
       "      <th>reviewers</th>\n",
       "      <th>date_reviews</th>\n",
       "      <th>rating</th>\n",
       "      <th>course_id</th>\n",
       "    </tr>\n",
       "  </thead>\n",
       "  <tbody>\n",
       "    <tr>\n",
       "      <th>0</th>\n",
       "      <td>Pretty dry, but I was able to pass with just two complete watches so I'm happy about that.  As usual there were some questions on the final exam that were NO WHERE in the course, which is annoying but far better than many microsoft tests I have taken.  Never found the suplimental material that the course references... but who cares... i passed!</td>\n",
       "      <td>By Robert S</td>\n",
       "      <td>Feb 12, 2020</td>\n",
       "      <td>4</td>\n",
       "      <td>google-cbrs-cpi-training</td>\n",
       "    </tr>\n",
       "    <tr>\n",
       "      <th>1</th>\n",
       "      <td>would be a better experience if the video and screen shots would sho on the side of the text that the instructor is going thru so that user does not have to go all the way to beginning of text to be able to view any slides instructor is showing.</td>\n",
       "      <td>By Gabriel E R</td>\n",
       "      <td>Sep 28, 2020</td>\n",
       "      <td>4</td>\n",
       "      <td>google-cbrs-cpi-training</td>\n",
       "    </tr>\n",
       "    <tr>\n",
       "      <th>2</th>\n",
       "      <td>Information was perfect! The program itself was a little annoying. I had to wait 30 to 45 minutes after watching the videos to to take the quiz. Other than that the information was perfect and passed the test with no issues!</td>\n",
       "      <td>By Jacob D</td>\n",
       "      <td>Apr 08, 2020</td>\n",
       "      <td>4</td>\n",
       "      <td>google-cbrs-cpi-training</td>\n",
       "    </tr>\n",
       "    <tr>\n",
       "      <th>3</th>\n",
       "      <td>A few grammatical mistakes on test made me do a double take but all in all not bad.</td>\n",
       "      <td>By Dale B</td>\n",
       "      <td>Feb 24, 2020</td>\n",
       "      <td>4</td>\n",
       "      <td>google-cbrs-cpi-training</td>\n",
       "    </tr>\n",
       "    <tr>\n",
       "      <th>4</th>\n",
       "      <td>Excellent course and the training provided was very detailed and easy to follow.</td>\n",
       "      <td>By Sean G</td>\n",
       "      <td>Jun 18, 2020</td>\n",
       "      <td>4</td>\n",
       "      <td>google-cbrs-cpi-training</td>\n",
       "    </tr>\n",
       "  </tbody>\n",
       "</table>\n",
       "</div>"
      ],
      "text/plain": [
       "                                                                                                                                                                                                                                                                                                                                                      reviews  \\\n",
       "0  Pretty dry, but I was able to pass with just two complete watches so I'm happy about that.  As usual there were some questions on the final exam that were NO WHERE in the course, which is annoying but far better than many microsoft tests I have taken.  Never found the suplimental material that the course references... but who cares... i passed!   \n",
       "1                                                                                                       would be a better experience if the video and screen shots would sho on the side of the text that the instructor is going thru so that user does not have to go all the way to beginning of text to be able to view any slides instructor is showing.   \n",
       "2                                                                                                                            Information was perfect! The program itself was a little annoying. I had to wait 30 to 45 minutes after watching the videos to to take the quiz. Other than that the information was perfect and passed the test with no issues!   \n",
       "3                                                                                                                                                                                                                                                                         A few grammatical mistakes on test made me do a double take but all in all not bad.   \n",
       "4                                                                                                                                                                                                                                                                            Excellent course and the training provided was very detailed and easy to follow.   \n",
       "\n",
       "        reviewers  date_reviews  rating                 course_id  \n",
       "0     By Robert S  Feb 12, 2020       4  google-cbrs-cpi-training  \n",
       "1  By Gabriel E R  Sep 28, 2020       4  google-cbrs-cpi-training  \n",
       "2      By Jacob D  Apr 08, 2020       4  google-cbrs-cpi-training  \n",
       "3       By Dale B  Feb 24, 2020       4  google-cbrs-cpi-training  \n",
       "4       By Sean G  Jun 18, 2020       4  google-cbrs-cpi-training  "
      ]
     },
     "metadata": {},
     "output_type": "display_data"
    }
   ],
   "source": [
    "coursera_survey = pd.read_csv(data_path / 'coursera_survey_200rows.csv', nrows=100)\n",
    "full_show(coursera_survey.head())"
   ]
  },
  {
   "cell_type": "markdown",
   "metadata": {},
   "source": [
    "## Multilabel classification using predefined tags"
   ]
  },
  {
   "cell_type": "markdown",
   "metadata": {},
   "source": [
    "Let's first take a look at the predefined tags and their descriptions. You can change these in any way you want or use a completely different set. The 'topic' is the tag itself (the program will replace spaces with underscores if needed, so no need to worry about spaces). The 'description' gives you a bit of information about the types of things that would fall under this label. We've included a catch-all 'other' tag, but you could also let the model just not choose any label if none apply if you're using custom tags."
   ]
  },
  {
   "cell_type": "code",
   "execution_count": 11,
   "metadata": {},
   "outputs": [
    {
     "name": "stdout",
     "output_type": "stream",
     "text": [
      "[{'description': 'course delivery (policy, support), cost, difficulty, time '\n",
      "                 'commitment, grading, credit, schedule, user fit, access, '\n",
      "                 'background (e.g. prereqs and appropriateness of course '\n",
      "                 'level).',\n",
      "  'topic': 'course logistics and fit'},\n",
      " {'description': 'course content, curriculum, specific topics, course '\n",
      "                 'structure.  This focuses on the content and the pedagogical '\n",
      "                 'structure of the content, including flow and organization.  '\n",
      "                 'This also includes applied material such as clinical cases '\n",
      "                 'and case studies. Includes references to pre-recorded '\n",
      "                 'discussions between experts or between a doctor and a '\n",
      "                 'patient. Includes specific suggestions for additional '\n",
      "                 'courses or content.',\n",
      "  'topic': 'curriculum'},\n",
      " {'description': 'video, visual, interactive, animation, step-by-step, deep '\n",
      "                 'dive, background builder (the format rather than the '\n",
      "                 'content/topic).',\n",
      "  'topic': 'teaching modality'},\n",
      " {'description': 'instructors, quality of teaching and explanations',\n",
      "  'topic': 'teaching'},\n",
      " {'description': 'quizzes, exams', 'topic': 'assessment'},\n",
      " {'description': 'note taking tools, study guides, notepads, readings.  '\n",
      "                 'Includes other potential static resources like downloadable '\n",
      "                 'video transcripts.',\n",
      "  'topic': 'resources'},\n",
      " {'description': 'includes chances for the student to interact with another '\n",
      "                 'person in the course (teacher or student).  This includes '\n",
      "                 'discussion forums, teacher-student or student-student '\n",
      "                 'interactions.  Includes requests for live sessions with '\n",
      "                 'teachers or live office hours.',\n",
      "  'topic': 'peer and teacher interaction'},\n",
      " {'description': \"catch-all for the rarer aspects that we'll encounter and \"\n",
      "                 \"also the 'na', 'thank you', etc. comments that don't really \"\n",
      "                 'belong in the above bins.  Also for sufficiently general '\n",
      "                 \"comments like 'all the course was terrific' that can't be \"\n",
      "                 'narrowed down to one of the other categories.',\n",
      "  'topic': 'other'}]\n"
     ]
    }
   ],
   "source": [
    "# this was imported from the multilabel_classification module\n",
    "pprint(default_tags_list)"
   ]
  },
  {
   "cell_type": "markdown",
   "metadata": {},
   "source": [
    "### Test the multilabel classification on a single comment\n",
    "\n",
    "Let's dip our toe in the water by seeing what happens for a single comment."
   ]
  },
  {
   "cell_type": "code",
   "execution_count": 12,
   "metadata": {},
   "outputs": [
    {
     "name": "stdout",
     "output_type": "stream",
     "text": [
      "{'categories': {'assessment': 0,\n",
      "                'course logistics and fit': 0,\n",
      "                'curriculum': 1,\n",
      "                'other': 0,\n",
      "                'peer and teacher interaction': 0,\n",
      "                'resources': 0,\n",
      "                'teaching': 0,\n",
      "                'teaching modality': 0},\n",
      " 'reasoning': 'The comment \"I valued the practical clinical aspects related to '\n",
      "              'immune-related disorders and their management\" falls primarily '\n",
      "              \"under the curriculum category. Here's the reasoning:\\n\"\n",
      "              '\\n'\n",
      "              '1. Curriculum (1): The comment directly refers to the course '\n",
      "              'content, specifically mentioning \"practical clinical aspects '\n",
      "              'related to immune-related disorders and their management.\" This '\n",
      "              'aligns with the curriculum category description, which includes '\n",
      "              '\"course content, curriculum, specific topics\" and \"applied '\n",
      "              'material such as clinical cases.\" The student is expressing '\n",
      "              'appreciation for the practical and applied nature of the course '\n",
      "              'content related to a specific medical topic (immune-related '\n",
      "              'disorders).\\n'\n",
      "              '\\n'\n",
      "              '2. Other categories (0): The comment does not mention or imply '\n",
      "              'anything related to course logistics, teaching modality, '\n",
      "              'specific teaching quality, assessments, resources, or '\n",
      "              \"peer/teacher interactions. It's a focused statement about the \"\n",
      "              'curriculum content.\\n'\n",
      "              '\\n'\n",
      "              'Therefore, the only applicable category for this comment is '\n",
      "              'curriculum.'}\n"
     ]
    }
   ],
   "source": [
    "survey_task = MultiLabelClassification(tags_list=default_tags_list)\n",
    "task_input = CommentModel(comment=example_survey.iloc[0]['best_parts'])\n",
    "sample_classification = await apply_task(task_input=task_input,\n",
    "                                         get_prompt=survey_task.prompt_messages,\n",
    "                                         result_class=survey_task.result_class)\n",
    "\n",
    "# pprint(task_input.model_dump())\n",
    "# dumping by alias here allows showing output with original tag names, even if they had spaces in them\n",
    "pprint(json.loads(sample_classification.model_dump_json(by_alias=True)))"
   ]
  },
  {
   "cell_type": "markdown",
   "metadata": {},
   "source": [
    "Looks good. We get back the classification (in this case, there is only one tag, 'curriculum', but other comments might have multiple tags). It makes sense given the comment, and we can inspect the reasoning if we want. In this case, it looks pretty logical."
   ]
  },
  {
   "cell_type": "markdown",
   "metadata": {},
   "source": [
    "### Test multilabel classification on the first 10 comments.\n",
    "\n",
    "The models for task results (result_class in the code below) have defaults to account for comment with no content. The individual task processing routine uses the default if a comment has no content so as not to incur any model costs and save latency.\n",
    "\n",
    "In this case, we are creating a partially applied function (`apply_task` with some arguments filled in) that we then pass to the `process_tasks` code that will run the comment classifications asynchonrously. If we didn't run them this way, it would take **much** longer. `process_tasks` also optionally takes a `batch_size` parameter and a `batch_sleep` parameter, so you can stay within whatever your rate limits are for the model you are using. When I run this, it takes about the same amount of time as the single comment, so it's pretty fast."
   ]
  },
  {
   "cell_type": "code",
   "execution_count": 12,
   "metadata": {},
   "outputs": [
    {
     "name": "stdout",
     "output_type": "stream",
     "text": [
      "processing 10 inputs in batches of 25\n",
      "sleeping for 20 seconds between batches\n",
      "starting 0 to 25\n",
      "completed 0 to 25\n",
      "elapsed time: 8.386654376983643\n",
      "{'comment': 'I valued the practical clinical aspects related to immune-related '\n",
      "            'disorders and their management.'}\n",
      "{'categories': {'assessment': 0,\n",
      "                'course_logistics_and_fit': 0,\n",
      "                'curriculum': 1,\n",
      "                'other': 0,\n",
      "                'peer_and_teacher_interaction': 0,\n",
      "                'resources': 0,\n",
      "                'teaching': 0,\n",
      "                'teaching_modality': 0},\n",
      " 'reasoning': 'The comment \"I valued the practical clinical aspects related to '\n",
      "              'immune-related disorders and their management\" falls primarily '\n",
      "              \"under the curriculum category. Here's the reasoning:\\n\"\n",
      "              '\\n'\n",
      "              '1. Curriculum (1): The comment directly refers to the course '\n",
      "              'content, specifically mentioning \"practical clinical aspects '\n",
      "              'related to immune-related disorders and their management.\" This '\n",
      "              'aligns with the curriculum category description, which includes '\n",
      "              '\"course content, curriculum, specific topics\" and \"applied '\n",
      "              'material such as clinical cases.\" The student is expressing '\n",
      "              'appreciation for the practical and applied nature of the course '\n",
      "              'content related to a specific medical topic (immune-related '\n",
      "              'disorders).\\n'\n",
      "              '\\n'\n",
      "              '2. Other categories (0): The comment does not mention or imply '\n",
      "              'anything related to course logistics, teaching modality, '\n",
      "              'specific teaching quality, assessments, resources, or '\n",
      "              \"peer/teacher interactions. It's a focused statement about the \"\n",
      "              'curriculum content.\\n'\n",
      "              '\\n'\n",
      "              'Therefore, the only applicable category for this comment is '\n",
      "              'curriculum.'}\n",
      "\n",
      "\n",
      "{'comment': 'The flexibility to learn at a self-determined speed'}\n",
      "{'categories': {'assessment': 0,\n",
      "                'course_logistics_and_fit': 1,\n",
      "                'curriculum': 0,\n",
      "                'other': 0,\n",
      "                'peer_and_teacher_interaction': 0,\n",
      "                'resources': 0,\n",
      "                'teaching': 0,\n",
      "                'teaching_modality': 0},\n",
      " 'reasoning': 'The comment \"The flexibility to learn at a self-determined '\n",
      "              'speed\" primarily falls under the category of \"course logistics '\n",
      "              'and fit\". This is because:\\n'\n",
      "              '\\n'\n",
      "              '1. Course logistics and fit: The comment directly addresses the '\n",
      "              'flexibility in the course structure, which allows students to '\n",
      "              'learn at their own pace. This relates to the course delivery '\n",
      "              'and user fit aspects mentioned in the category description. The '\n",
      "              \"ability to determine one's own learning speed is an important \"\n",
      "              'aspect of course logistics, as it affects how students can '\n",
      "              'manage their time and engage with the course material.\\n'\n",
      "              '\\n'\n",
      "              '2. No other categories apply:\\n'\n",
      "              \"   - Curriculum: The comment doesn't mention specific course \"\n",
      "              'content or structure.\\n'\n",
      "              '   - Teaching modality: While self-paced learning could be '\n",
      "              \"related to the course format, the comment doesn't specifically \"\n",
      "              'mention any teaching modalities like videos or interactive '\n",
      "              'elements.\\n'\n",
      "              \"   - Teaching: There's no mention of instructors or quality of \"\n",
      "              'explanations.\\n'\n",
      "              '   - Assessment: Quizzes or exams are not mentioned.\\n'\n",
      "              '   - Resources: No specific learning resources are discussed.\\n'\n",
      "              '   - Peer and teacher interaction: The comment focuses on '\n",
      "              'individual learning pace, not interactions with others.\\n'\n",
      "              '   - Other: The comment is specific enough to fit into the '\n",
      "              '\"course logistics and fit\" category, so this catch-all category '\n",
      "              'is not necessary.\\n'\n",
      "              '\\n'\n",
      "              'Therefore, the only applicable category for this comment is '\n",
      "              '\"course logistics and fit\".'}\n",
      "\n",
      "\n"
     ]
    }
   ],
   "source": [
    "# we could re-use the survey_task object from cells above, but we'll create a new one for clarity\n",
    "survey_task = MultiLabelClassification(tags_list=default_tags_list)\n",
    "comments_to_test = [CommentModel(comment=comment) for comment in example_survey['best_parts'].tolist()[:10]]\n",
    "mlc_task = partial(apply_task, \n",
    "                   get_prompt=survey_task.prompt_messages, \n",
    "                   result_class=survey_task.result_class)\n",
    "classifications = await process_tasks(comments_to_test, mlc_task)\n",
    "\n",
    "# we'll only show the first two comments for brevity but get rid of the slice to see some that have more than one label\n",
    "for comment, classification in islice(zip(comments_to_test, classifications), 2):\n",
    "    pprint(comment.model_dump())\n",
    "    pprint(json.loads(classification.model_dump_json()))\n",
    "    print('\\n')"
   ]
  },
  {
   "cell_type": "markdown",
   "metadata": {},
   "source": [
    "This is a simpler way of doing the same thing, using a provided alternate convenience method for multilabel classification of comments. In this case, you don't really need to know anything about the models that wrap comments or the survey task...you just give it a list of comments as strings and off it goes. You can change this to use the Haiku model, instead of the default Sonnet 3.5, by changing the `model` parameter as shown in the commented out code."
   ]
  },
  {
   "cell_type": "code",
   "execution_count": 14,
   "metadata": {},
   "outputs": [
    {
     "name": "stdout",
     "output_type": "stream",
     "text": [
      "processing 10 inputs in batches of 25\n",
      "sleeping for 20 seconds between batches\n",
      "starting 0 to 25\n",
      "completed 0 to 25\n",
      "elapsed time: 9.3677077293396\n",
      "('Incorporating a few advanced projects as optional tasks could benefit '\n",
      " 'learners who wish to delve deeper into the subject matter. These projects '\n",
      " \"wouldn't need to influence exam scores.\")\n",
      "{'categories': {'assessment': 0,\n",
      "                'course_logistics_and_fit': 0,\n",
      "                'curriculum': 1,\n",
      "                'other': 0,\n",
      "                'peer_and_teacher_interaction': 0,\n",
      "                'resources': 0,\n",
      "                'teaching': 0,\n",
      "                'teaching_modality': 0},\n",
      " 'reasoning': 'The comment suggests incorporating advanced projects as '\n",
      "              'optional tasks, which primarily falls under the \"curriculum\" '\n",
      "              \"category. Here's the reasoning:\\n\"\n",
      "              '\\n'\n",
      "              '1. Curriculum (1): The comment directly addresses course '\n",
      "              'content and structure by proposing the addition of \"advanced '\n",
      "              'projects as optional tasks.\" This suggestion relates to '\n",
      "              'enhancing the course content and providing additional learning '\n",
      "              'opportunities, which is a key aspect of the curriculum '\n",
      "              'category. The comment also mentions that these projects would '\n",
      "              'be for learners who \"wish to delve deeper into the subject '\n",
      "              'matter,\" which further emphasizes the focus on course content '\n",
      "              'and depth of study.\\n'\n",
      "              '\\n'\n",
      "              '2. Assessment (0): While the comment mentions that these '\n",
      "              'projects \"wouldn\\'t need to influence exam scores,\" this is not '\n",
      "              'a primary focus on assessment itself, but rather a '\n",
      "              'clarification about the optional nature of the proposed '\n",
      "              'curriculum addition.\\n'\n",
      "              '\\n'\n",
      "              \"3. Course logistics and fit (0): The comment doesn't \"\n",
      "              'specifically address course delivery, difficulty, time '\n",
      "              'commitment, or other aspects related to course logistics and '\n",
      "              'fit.\\n'\n",
      "              '\\n'\n",
      "              \"4. Teaching modality (0): The comment doesn't mention any \"\n",
      "              'specific teaching format or modality.\\n'\n",
      "              '\\n'\n",
      "              \"5. Teaching (0): There's no mention of instructors or quality \"\n",
      "              'of teaching.\\n'\n",
      "              '\\n'\n",
      "              '6. Resources (0): While projects could be considered a type of '\n",
      "              'resource, the focus here is more on curriculum enhancement '\n",
      "              'rather than providing study materials or tools.\\n'\n",
      "              '\\n'\n",
      "              \"7. Peer and teacher interaction (0): The comment doesn't \"\n",
      "              'mention any aspects of interaction between students or with '\n",
      "              'teachers.\\n'\n",
      "              '\\n'\n",
      "              '8. Other (0): The comment is specific enough to be categorized '\n",
      "              'under curriculum and doesn\\'t fall into the catch-all \"other\" '\n",
      "              'category.\\n'\n",
      "              '\\n'\n",
      "              'In conclusion, the comment is primarily focused on enhancing '\n",
      "              'the curriculum with optional advanced projects, making '\n",
      "              '\"curriculum\" the only applicable category.'}\n",
      "\n",
      "\n",
      "('Extend the duration of the concept videos for the more challenging topics, '\n",
      " 'as they require a deeper dive to fully grasp the intricacies involved. '\n",
      " 'Additionally, consider introducing an additional educator to the mix. The '\n",
      " 'dynamic of having multiple voices in another subject area is quite engaging, '\n",
      " 'and it would be beneficial to replicate that experience in this subject to '\n",
      " 'prevent monotony from setting in with just one instructor.')\n",
      "{'categories': {'assessment': 0,\n",
      "                'course_logistics_and_fit': 0,\n",
      "                'curriculum': 1,\n",
      "                'other': 0,\n",
      "                'peer_and_teacher_interaction': 0,\n",
      "                'resources': 0,\n",
      "                'teaching': 1,\n",
      "                'teaching_modality': 1},\n",
      " 'reasoning': 'The comment addresses three main categories:\\n'\n",
      "              '\\n'\n",
      "              '1. Curriculum (1): The student suggests extending the duration '\n",
      "              'of concept videos for more challenging topics. This relates to '\n",
      "              'the course content and structure, which falls under the '\n",
      "              'curriculum category.\\n'\n",
      "              '\\n'\n",
      "              '2. Teaching Modality (1): The comment specifically mentions '\n",
      "              '\"concept videos\" and suggests extending their duration. This '\n",
      "              'directly relates to the format of teaching (video) rather than '\n",
      "              'the content itself.\\n'\n",
      "              '\\n'\n",
      "              '3. Teaching (1): The student recommends introducing an '\n",
      "              'additional educator to prevent monotony and create a more '\n",
      "              'engaging experience. This suggestion is directly related to the '\n",
      "              'instructors and quality of teaching.\\n'\n",
      "              '\\n'\n",
      "              'The comment does not mention anything related to course '\n",
      "              'logistics and fit, assessment, resources, peer and teacher '\n",
      "              'interaction, or any other category. Therefore, these categories '\n",
      "              'are marked as 0.'}\n",
      "\n",
      "\n"
     ]
    }
   ],
   "source": [
    "comments = example_survey['improve_course'].tolist()[:10]\n",
    "# this uses the default tags list by default but you can supply your own (see the tags_8.yaml file for an example)\n",
    "results = await multilabel_classify(comments=comments) # , llm_config=LLMConfig(model=MODEL_NAME_HAIKU))\n",
    "\n",
    "# we'll show a couple of ones that have more than one label this time, but again, feel free to get rid of the slice to show all output\n",
    "for comment, classification in islice(zip(comments, results), 3, 5):\n",
    "    pprint(comment)\n",
    "    pprint(json.loads(classification.model_dump_json()))\n",
    "    print('\\n')"
   ]
  },
  {
   "cell_type": "markdown",
   "metadata": {},
   "source": [
    "We can also turn this into a dataframe for downloading or easier viewing."
   ]
  },
  {
   "cell_type": "code",
   "execution_count": 15,
   "metadata": {},
   "outputs": [
    {
     "data": {
      "text/html": [
       "<div>\n",
       "<style scoped>\n",
       "    .dataframe tbody tr th:only-of-type {\n",
       "        vertical-align: middle;\n",
       "    }\n",
       "\n",
       "    .dataframe tbody tr th {\n",
       "        vertical-align: top;\n",
       "    }\n",
       "\n",
       "    .dataframe thead th {\n",
       "        text-align: right;\n",
       "    }\n",
       "</style>\n",
       "<table border=\"1\" class=\"dataframe\">\n",
       "  <thead>\n",
       "    <tr style=\"text-align: right;\">\n",
       "      <th></th>\n",
       "      <th>comment</th>\n",
       "      <th>reasoning</th>\n",
       "      <th>course_logistics_and_fit</th>\n",
       "      <th>curriculum</th>\n",
       "      <th>teaching_modality</th>\n",
       "      <th>teaching</th>\n",
       "      <th>assessment</th>\n",
       "      <th>resources</th>\n",
       "      <th>peer_and_teacher_interaction</th>\n",
       "      <th>other</th>\n",
       "    </tr>\n",
       "  </thead>\n",
       "  <tbody>\n",
       "    <tr>\n",
       "      <th>0</th>\n",
       "      <td>Consider reducing the duration of certain videos. A few appeared to be slightly prolonged.</td>\n",
       "      <td>The comment \"Consider reducing the duration of certain videos. A few appeared to be slightly prolonged.\" primarily relates to the teaching modality category. Here's the reasoning:\\n\\n1. Teaching Modality (1): The comment directly addresses the format and delivery method of the course content, specifically mentioning videos. It suggests modifying the length of some videos, which falls under the description of \"video\" as a teaching modality. The student is providing feedback on how the content is presented (via video) and suggesting an improvement in this presentation format.\\n\\n2. Curriculum (0): While the comment mentions videos, which are part of the course content, it doesn't specifically address the content itself, the topics covered, or the structure of the curriculum. The focus is on the delivery method (videos) rather than the actual material.\\n\\n3. Teaching (0): The comment doesn't mention instructors or the quality of teaching and explanations. It's focused on the video format rather than the instructor's performance.\\n\\n4. Course Logistics and Fit (0): The comment doesn't address course policies, difficulty, time commitment, or other logistical aspects.\\n\\n5. Assessment (0): There's no mention of quizzes or exams.\\n\\n6. Resources (0): While videos could be considered a resource, the comment is more about their format and length rather than their availability as a study tool.\\n\\n7. Peer and Teacher Interaction (0): The comment doesn't mention any form of interaction between students or with teachers.\\n\\n8. Other (0): The comment is specific enough to be categorized under teaching modality and doesn't fall into the catch-all category.\\n\\nIn conclusion, this comment is solely categorized under \"teaching modality\" as it specifically addresses the format and delivery of course content through videos and suggests improvements in their duration.</td>\n",
       "      <td>0</td>\n",
       "      <td>0</td>\n",
       "      <td>1</td>\n",
       "      <td>0</td>\n",
       "      <td>0</td>\n",
       "      <td>0</td>\n",
       "      <td>0</td>\n",
       "      <td>0</td>\n",
       "    </tr>\n",
       "  </tbody>\n",
       "</table>\n",
       "</div>"
      ],
      "text/plain": [
       "                                                                                      comment  \\\n",
       "0  Consider reducing the duration of certain videos. A few appeared to be slightly prolonged.   \n",
       "\n",
       "                                                                                                                                                                                                                                                                                                                                                                                                                                                                                                                                                                                                                                                                                                                                                                                                                                                                                                                                                                                                                                                                                                                                                                                                                                                                                                                                                                                                                                                                                                                                                                                                                                                                                                                                                                                                                                                                                                                                                 reasoning  \\\n",
       "0  The comment \"Consider reducing the duration of certain videos. A few appeared to be slightly prolonged.\" primarily relates to the teaching modality category. Here's the reasoning:\\n\\n1. Teaching Modality (1): The comment directly addresses the format and delivery method of the course content, specifically mentioning videos. It suggests modifying the length of some videos, which falls under the description of \"video\" as a teaching modality. The student is providing feedback on how the content is presented (via video) and suggesting an improvement in this presentation format.\\n\\n2. Curriculum (0): While the comment mentions videos, which are part of the course content, it doesn't specifically address the content itself, the topics covered, or the structure of the curriculum. The focus is on the delivery method (videos) rather than the actual material.\\n\\n3. Teaching (0): The comment doesn't mention instructors or the quality of teaching and explanations. It's focused on the video format rather than the instructor's performance.\\n\\n4. Course Logistics and Fit (0): The comment doesn't address course policies, difficulty, time commitment, or other logistical aspects.\\n\\n5. Assessment (0): There's no mention of quizzes or exams.\\n\\n6. Resources (0): While videos could be considered a resource, the comment is more about their format and length rather than their availability as a study tool.\\n\\n7. Peer and Teacher Interaction (0): The comment doesn't mention any form of interaction between students or with teachers.\\n\\n8. Other (0): The comment is specific enough to be categorized under teaching modality and doesn't fall into the catch-all category.\\n\\nIn conclusion, this comment is solely categorized under \"teaching modality\" as it specifically addresses the format and delivery of course content through videos and suggests improvements in their duration.   \n",
       "\n",
       "   course_logistics_and_fit  curriculum  teaching_modality  teaching  \\\n",
       "0                         0           0                  1         0   \n",
       "\n",
       "   assessment  resources  peer_and_teacher_interaction  other  \n",
       "0           0          0                             0      0  "
      ]
     },
     "metadata": {},
     "output_type": "display_data"
    }
   ],
   "source": [
    "# make a dataframe with comments in one column and the pivoted tag categories as the other columns\n",
    "results_df = pd.DataFrame({'comment': comments})\n",
    "values_df = pd.json_normalize([classification.categories.model_dump() for classification in results]).map(lambda x: x.value)\n",
    "reasoning_df = pd.DataFrame({\"reasoning\": [classification.reasoning for classification in results]})\n",
    "results_df = pd.concat([results_df, reasoning_df, values_df], axis=1)\n",
    "\n",
    "# just showing the first row for brevity\n",
    "full_show(results_df.head(1))"
   ]
  },
  {
   "cell_type": "markdown",
   "metadata": {},
   "source": [
    "The reasoning is pretty detailed. We might not need all of this, and could tone back the prompt if we wanted to to require less detailed reasoning. But this depends on the difficulty of the classification problem and whether there is ambiguity in the labels (which is often the case in multi-label classification)."
   ]
  },
  {
   "cell_type": "markdown",
   "metadata": {},
   "source": [
    "## Multilabel classification using your own custom tags"
   ]
  },
  {
   "cell_type": "markdown",
   "metadata": {},
   "source": [
    "Here we'll use some tags that were generated by theme derivation (another task with a separate example notebook). These might not be what you would classically think of as tags/labels, but it's nice in that it shows the diversity of what can be used. Also note that these themes were derived from comments in the 'what were the best parts of the course?' column but can still be applied to other columns like we do here with the 'what could we improve about the course?'."
   ]
  },
  {
   "cell_type": "code",
   "execution_count": 16,
   "metadata": {},
   "outputs": [],
   "source": [
    "custom_tags = [\n",
    "    {\n",
    "        'topic': 'Practical Learning',\n",
    "        'description': 'This theme encompasses the appreciation for the practical application of theoretical knowledge through clinical scenarios, laboratory exercises, and real-world case studies, highlighting how these applications deepen understanding of complex concepts and demonstrate the relevance of the material.'\n",
    "    },\n",
    "    {\n",
    "        'topic': 'Visual Learning',\n",
    "        'description': 'This theme combines the effectiveness of visual aids such as videos, animations, and detailed illustrations in simplifying complex topics, making the course content more accessible and engaging, and enhancing the integration of theoretical concepts with practical applications.'\n",
    "    },\n",
    "    {\n",
    "        'topic': 'Comprehensive Course Content',\n",
    "        'description': \"This theme highlights the course's wide range of topics, including immunological principles, oncological pathways, and the latest treatments in immune-based cancer therapies, providing a comprehensive educational experience and a solid foundation in the subject matter.\"\n",
    "    },\n",
    "    {\n",
    "        'topic': 'Flexible Learning Experience',\n",
    "        'description': \"This theme focuses on the course's flexibility and digital format, accommodating different schedules and allowing learning at one's own pace, particularly beneficial for those balancing the course with full-time employment or other commitments.\"\n",
    "    },\n",
    "    {\n",
    "        'topic': 'Interactive and Engaging',\n",
    "        'description': \"This theme emphasizes the course's engaging nature, with interactive content, online activities, and participatory elements that make learning more dynamic and enjoyable.\"\n",
    "    },\n",
    "    {\n",
    "        'topic': 'Assessment and Quiz Questions',\n",
    "        'description': 'Practical exercises, including laboratory work and case studies, were recognized for their effectiveness in conveying fundamental principles and providing a detailed understanding of scientific concepts.'\n",
    "    },\n",
    "    {\n",
    "        'topic': 'Clinical Relevance',\n",
    "        'description': \"The course's focus on clinical relevance, including discussions about clinical settings, real-world clinical scenarios, and clinical procedures, was highly valued. This aspect helped students understand the practical implications of their learning.\"\n",
    "    },\n",
    "    {\n",
    "        'topic': 'Instructor Clarity',\n",
    "        'description': 'The clarity and effectiveness of the instructors in presenting the material were frequently mentioned. Students appreciated the concise and lucid explanations, which facilitated understanding and retention of complex concepts.'\n",
    "    }\n",
    "]\n"
   ]
  },
  {
   "cell_type": "code",
   "execution_count": 17,
   "metadata": {},
   "outputs": [
    {
     "name": "stdout",
     "output_type": "stream",
     "text": [
      "processing 10 inputs in batches of 25\n",
      "sleeping for 20 seconds between batches\n",
      "starting 0 to 25\n",
      "completed 0 to 25\n",
      "elapsed time: 7.894996881484985\n",
      "('Consider reducing the duration of certain videos. A few appeared to be '\n",
      " 'slightly prolonged.')\n",
      "{'categories': {'Assessment_and_Quiz_Questions': 0,\n",
      "                'Clinical_Relevance': 0,\n",
      "                'Comprehensive_Course_Content': 0,\n",
      "                'Flexible_Learning_Experience': 0,\n",
      "                'Instructor_Clarity': 0,\n",
      "                'Interactive_and_Engaging': 1,\n",
      "                'Practical_Learning': 0,\n",
      "                'Visual_Learning': 1},\n",
      " 'reasoning': 'The comment \"Consider reducing the duration of certain videos. '\n",
      "              'A few appeared to be slightly prolonged.\" relates to two '\n",
      "              'categories:\\n'\n",
      "              '\\n'\n",
      "              '1. Visual Learning (1): The comment directly mentions videos, '\n",
      "              'which are a key component of visual learning. Videos are often '\n",
      "              'used to simplify complex topics and make content more '\n",
      "              \"accessible. The student's feedback about video duration \"\n",
      "              'suggests they value this form of visual learning but would '\n",
      "              'prefer more concise presentations.\\n'\n",
      "              '\\n'\n",
      "              '2. Interactive and Engaging (1): By suggesting that some videos '\n",
      "              'are too long, the student is indirectly commenting on the '\n",
      "              'engagement level of the course content. Shorter, more focused '\n",
      "              'videos are generally considered more engaging, so this feedback '\n",
      "              'implies a desire for more engaging content.\\n'\n",
      "              '\\n'\n",
      "              'The comment does not relate to the other categories as it '\n",
      "              \"doesn't mention practical applications, course \"\n",
      "              'comprehensiveness, flexibility of learning, assessment methods, '\n",
      "              \"clinical relevance, or instructor clarity. It's a specific \"\n",
      "              'comment about the length of video content, which primarily '\n",
      "              'relates to visual learning and engagement.'}\n",
      "\n",
      "\n",
      "(\"The pace of some lectures could be slowed down. At times, it's challenging \"\n",
      " \"to follow the lecturer's speech or decipher their handwriting.\")\n",
      "{'categories': {'Assessment_and_Quiz_Questions': 0,\n",
      "                'Clinical_Relevance': 0,\n",
      "                'Comprehensive_Course_Content': 0,\n",
      "                'Flexible_Learning_Experience': 0,\n",
      "                'Instructor_Clarity': 1,\n",
      "                'Interactive_and_Engaging': 0,\n",
      "                'Practical_Learning': 0,\n",
      "                'Visual_Learning': 0},\n",
      " 'reasoning': 'The comment primarily addresses issues related to the '\n",
      "              '\"Instructor Clarity\" category. The student mentions two '\n",
      "              'specific problems:\\n'\n",
      "              '\\n'\n",
      "              '1. The pace of some lectures being too fast: \"The pace of some '\n",
      "              'lectures could be slowed down.\"\\n'\n",
      "              \"2. Difficulty in following the lecturer's speech and \"\n",
      "              'handwriting: \"At times, it\\'s challenging to follow the '\n",
      "              'lecturer\\'s speech or decipher their handwriting.\"\\n'\n",
      "              '\\n'\n",
      "              'Both of these points directly relate to the clarity and '\n",
      "              'effectiveness of the instructor in presenting the material. The '\n",
      "              'student is expressing that these issues are hindering their '\n",
      "              'ability to understand and retain the information being '\n",
      "              'presented.\\n'\n",
      "              '\\n'\n",
      "              'None of the other categories are directly addressed in this '\n",
      "              \"comment. The student doesn't mention anything about practical \"\n",
      "              'learning, visual aids, course content, flexibility, '\n",
      "              'interactivity, assessments, or clinical relevance. The focus is '\n",
      "              'solely on the delivery of the lectures and the clarity of the '\n",
      "              \"instructor's communication.\\n\"\n",
      "              '\\n'\n",
      "              'Therefore, the only applicable category for this comment is '\n",
      "              '\"Instructor Clarity,\" with a suggestion for improvement in the '\n",
      "              'pace of delivery and clarity of speech and writing.'}\n",
      "\n",
      "\n"
     ]
    }
   ],
   "source": [
    "comments = example_survey['improve_course'].tolist()[:10]\n",
    "\n",
    "# the only difference here is that we're supplying custom tags\n",
    "results = await multilabel_classify(comments=comments, tags_list=custom_tags) \n",
    "\n",
    "# showing 2 comments for brevity\n",
    "for comment, classification in islice(zip(comments, results), 2):\n",
    "    pprint(comment)\n",
    "    pprint(json.loads(classification.model_dump_json()))\n",
    "    print('\\n')"
   ]
  },
  {
   "cell_type": "markdown",
   "metadata": {},
   "source": [
    "Personally, seeing the detailed reasoning is really helpful for understanding to some degree how the model is making its decisions. If you see the model consistently making decisions you disagree with, you can adjust the label descriptions, for example, or the prompt to make it more clear what you are looking for. Having some hand-labeled data to compare to is also very helpful so you can evaluate any changes."
   ]
  },
  {
   "cell_type": "markdown",
   "metadata": {},
   "source": [
    "## Try it yourself"
   ]
  },
  {
   "cell_type": "markdown",
   "metadata": {},
   "source": [
    "Your turn...as an exercise for the reader, use the `coursera_survey` comments that we loaded and run `multilabel_classify` on those."
   ]
  },
  {
   "cell_type": "code",
   "execution_count": null,
   "metadata": {},
   "outputs": [],
   "source": []
  }
 ],
 "metadata": {
  "kernelspec": {
   "display_name": "ai1",
   "language": "python",
   "name": "python3"
  },
  "language_info": {
   "codemirror_mode": {
    "name": "ipython",
    "version": 3
   },
   "file_extension": ".py",
   "mimetype": "text/x-python",
   "name": "python",
   "nbconvert_exporter": "python",
   "pygments_lexer": "ipython3",
   "version": "3.11.9"
  }
 },
 "nbformat": 4,
 "nbformat_minor": 2
}
