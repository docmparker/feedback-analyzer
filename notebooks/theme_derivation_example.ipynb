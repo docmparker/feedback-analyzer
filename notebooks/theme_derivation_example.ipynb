{
 "cells": [
  {
   "cell_type": "markdown",
   "metadata": {},
   "source": [
    "# Theme Derivation\n",
    "\n",
    "Here the goal is to derive the main themes of the comments, where a theme is some common feedback expressed by multiple students. This is a good starting point when you're trying to answer the question: \"What did students say about the course?\" at a high level before diving into specifics. This could equally well be applied to user feedback surveys - there isn't much about the analysis that is specific to education. \n",
    "\n",
    "This process starts from scratch, in other words, with no preconceived notion of what the themes are, and lets the model derive the themes organically based on the comments themselves."
   ]
  },
  {
   "cell_type": "markdown",
   "metadata": {},
   "source": [
    "## Imports and setup"
   ]
  },
  {
   "cell_type": "code",
   "execution_count": 1,
   "metadata": {},
   "outputs": [
    {
     "data": {
      "text/plain": [
       "True"
      ]
     },
     "execution_count": 1,
     "metadata": {},
     "output_type": "execute_result"
    }
   ],
   "source": [
    "from dotenv import load_dotenv, find_dotenv\n",
    "load_dotenv(find_dotenv())"
   ]
  },
  {
   "cell_type": "code",
   "execution_count": 26,
   "metadata": {},
   "outputs": [],
   "source": [
    "import pandas as pd\n",
    "import json\n",
    "from pprint import pprint\n",
    "from pathlib import Path\n",
    "from IPython.display import Markdown, display\n",
    "from feedback_analyzer.summarization import summarize_comments\n",
    "from feedback_analyzer.models_common import LLMConfig\n",
    "from feedback_analyzer.theme_derivation import RefineThemes, find_themes\n",
    "from feedback_analyzer.models_common import CommentModel, CommentBatch\n",
    "from feedback_analyzer.single_input_task import apply_task"
   ]
  },
  {
   "cell_type": "code",
   "execution_count": 6,
   "metadata": {},
   "outputs": [],
   "source": [
    "# this makes it more robust to run async tasks inside an already async environment (jupyter notebooks)\n",
    "import nest_asyncio\n",
    "nest_asyncio.apply()"
   ]
  },
  {
   "cell_type": "markdown",
   "metadata": {},
   "source": [
    "Make sure to either set `ANTHROPIC_API_KEY` as an environment variable or put it in a .env file and use the following cell to load the env var. The format in the .env file is:\n",
    "```\n",
    "ANTHROPIC_API_KEY=yourKeyGoesHere\n",
    "```"
   ]
  },
  {
   "cell_type": "code",
   "execution_count": 7,
   "metadata": {},
   "outputs": [],
   "source": [
    "%load_ext autoreload\n",
    "%autoreload 2"
   ]
  },
  {
   "cell_type": "markdown",
   "metadata": {},
   "source": [
    "This is a convenience function to make seeing Pandas dataframe values easier, especially when there are long strings like the student comments we will be using."
   ]
  },
  {
   "cell_type": "code",
   "execution_count": 8,
   "metadata": {},
   "outputs": [],
   "source": [
    "def full_show(df):\n",
    "    with pd.option_context('display.max_columns', None, 'display.max_rows', None, 'display.max_colwidth', None):\n",
    "        display(df)"
   ]
  },
  {
   "cell_type": "code",
   "execution_count": 14,
   "metadata": {},
   "outputs": [],
   "source": [
    "MODEL_NAME_HAIKU = \"claude-3-haiku-20240307\""
   ]
  },
  {
   "cell_type": "markdown",
   "metadata": {},
   "source": [
    "## Load the example data"
   ]
  },
  {
   "cell_type": "code",
   "execution_count": 9,
   "metadata": {},
   "outputs": [],
   "source": [
    "data_path = Path('../data/example_data')"
   ]
  },
  {
   "cell_type": "markdown",
   "metadata": {},
   "source": [
    "Let's load up some fake data. \n",
    "\n",
    "All of these comments are synthetic to avoid sharing any sensitive or PII information, but they should work great for illustration purposes. There are 100 rows, with just a few null/nan values here and there for realism. In most surveys I've seen, there are quite a number of null/None/blank etc values, and the functions are written to handle those."
   ]
  },
  {
   "cell_type": "code",
   "execution_count": 10,
   "metadata": {},
   "outputs": [
    {
     "data": {
      "text/html": [
       "<div>\n",
       "<style scoped>\n",
       "    .dataframe tbody tr th:only-of-type {\n",
       "        vertical-align: middle;\n",
       "    }\n",
       "\n",
       "    .dataframe tbody tr th {\n",
       "        vertical-align: top;\n",
       "    }\n",
       "\n",
       "    .dataframe thead th {\n",
       "        text-align: right;\n",
       "    }\n",
       "</style>\n",
       "<table border=\"1\" class=\"dataframe\">\n",
       "  <thead>\n",
       "    <tr style=\"text-align: right;\">\n",
       "      <th></th>\n",
       "      <th>best_parts</th>\n",
       "      <th>enhanced_learning</th>\n",
       "      <th>improve_course</th>\n",
       "    </tr>\n",
       "  </thead>\n",
       "  <tbody>\n",
       "    <tr>\n",
       "      <th>0</th>\n",
       "      <td>I valued the practical clinical aspects related to immune-related disorders and their management.</td>\n",
       "      <td>The illustrative visuals and straightforward explanatory clips.</td>\n",
       "      <td>Consider reducing the duration of certain videos. A few appeared to be slightly prolonged.</td>\n",
       "    </tr>\n",
       "    <tr>\n",
       "      <th>1</th>\n",
       "      <td>The flexibility to learn at a self-determined speed</td>\n",
       "      <td>The opportunity to review the lecture content</td>\n",
       "      <td>The pace of some lectures could be slowed down. At times, it's challenging to follow the lecturer's speech or decipher their handwriting.</td>\n",
       "    </tr>\n",
       "    <tr>\n",
       "      <th>2</th>\n",
       "      <td>The educational content was extremely enriching and stimulating! The section on oncology was the highlight.</td>\n",
       "      <td>the self-assessment activities.</td>\n",
       "      <td>Nothing specific comes to mind.</td>\n",
       "    </tr>\n",
       "    <tr>\n",
       "      <th>3</th>\n",
       "      <td>Professional growth within the medical sector</td>\n",
       "      <td>The practical integration workshops were highly beneficial, they significantly contributed to a deeper comprehension of the theories and their implementation in a healthcare environment.</td>\n",
       "      <td>Incorporating a few advanced projects as optional tasks could benefit learners who wish to delve deeper into the subject matter. These projects wouldn't need to influence exam scores.</td>\n",
       "    </tr>\n",
       "    <tr>\n",
       "      <th>4</th>\n",
       "      <td>The highlights of the class included the practical demonstration clips that made the complex biological principles more understandable by connecting them to daily well-being and actions. This connection was incredibly beneficial as I navigated the course content.</td>\n",
       "      <td>The aspect of the course that most facilitated my learning was the regular assessments provided at each segment, which helped confirm my grasp of the material presented. These checkpoints effectively guided me in the correct learning direction. It's evident that considerable effort was invested in designing these educational modules to enable students to gain a deep comprehension rather than just a superficial understanding of the subject matter.</td>\n",
       "      <td>Extend the duration of the concept videos for the more challenging topics, as they require a deeper dive to fully grasp the intricacies involved. Additionally, consider introducing an additional educator to the mix. The dynamic of having multiple voices in another subject area is quite engaging, and it would be beneficial to replicate that experience in this subject to prevent monotony from setting in with just one instructor.</td>\n",
       "    </tr>\n",
       "  </tbody>\n",
       "</table>\n",
       "</div>"
      ],
      "text/plain": [
       "                                                                                                                                                                                                                                                                best_parts  \\\n",
       "0                                                                                                                                                                        I valued the practical clinical aspects related to immune-related disorders and their management.   \n",
       "1                                                                                                                                                                                                                      The flexibility to learn at a self-determined speed   \n",
       "2                                                                                                                                                              The educational content was extremely enriching and stimulating! The section on oncology was the highlight.   \n",
       "3                                                                                                                                                                                                                            Professional growth within the medical sector   \n",
       "4  The highlights of the class included the practical demonstration clips that made the complex biological principles more understandable by connecting them to daily well-being and actions. This connection was incredibly beneficial as I navigated the course content.   \n",
       "\n",
       "                                                                                                                                                                                                                                                                                                                                                                                                                                                    enhanced_learning  \\\n",
       "0                                                                                                                                                                                                                                                                                                                                                                                                     The illustrative visuals and straightforward explanatory clips.   \n",
       "1                                                                                                                                                                                                                                                                                                                                                                                                                       The opportunity to review the lecture content   \n",
       "2                                                                                                                                                                                                                                                                                                                                                                                                                                     the self-assessment activities.   \n",
       "3                                                                                                                                                                                                                                                                          The practical integration workshops were highly beneficial, they significantly contributed to a deeper comprehension of the theories and their implementation in a healthcare environment.   \n",
       "4  The aspect of the course that most facilitated my learning was the regular assessments provided at each segment, which helped confirm my grasp of the material presented. These checkpoints effectively guided me in the correct learning direction. It's evident that considerable effort was invested in designing these educational modules to enable students to gain a deep comprehension rather than just a superficial understanding of the subject matter.   \n",
       "\n",
       "                                                                                                                                                                                                                                                                                                                                                                                                                                   improve_course  \n",
       "0                                                                                                                                                                                                                                                                                                                                                      Consider reducing the duration of certain videos. A few appeared to be slightly prolonged.  \n",
       "1                                                                                                                                                                                                                                                                                                       The pace of some lectures could be slowed down. At times, it's challenging to follow the lecturer's speech or decipher their handwriting.  \n",
       "2                                                                                                                                                                                                                                                                                                                                                                                                                 Nothing specific comes to mind.  \n",
       "3                                                                                                                                                                                                                                                         Incorporating a few advanced projects as optional tasks could benefit learners who wish to delve deeper into the subject matter. These projects wouldn't need to influence exam scores.  \n",
       "4  Extend the duration of the concept videos for the more challenging topics, as they require a deeper dive to fully grasp the intricacies involved. Additionally, consider introducing an additional educator to the mix. The dynamic of having multiple voices in another subject area is quite engaging, and it would be beneficial to replicate that experience in this subject to prevent monotony from setting in with just one instructor.  "
      ]
     },
     "metadata": {},
     "output_type": "display_data"
    }
   ],
   "source": [
    "example_survey = pd.read_csv(data_path / 'example_survey_data_synthetic.csv')\n",
    "full_show(example_survey.head())"
   ]
  },
  {
   "cell_type": "markdown",
   "metadata": {},
   "source": [
    "Create variables for the original survey questions\n",
    "\n",
    "The column names are shorthand for easy usage in code below, but let's also define some variables that hold the original survey questions that were asked for each column. We'll use these as metadata when passing along comments to the LLM routines. This is potentially important context for an LLM...after all, the survey comment \"The flexibility to learn at a self-determined speed\" may have different significance if the question was \"What were the best parts of the course?\" versus \"How could we improve the course?\"."
   ]
  },
  {
   "cell_type": "code",
   "execution_count": 11,
   "metadata": {},
   "outputs": [],
   "source": [
    "best_parts_question = \"What were the best parts of the course?\"\n",
    "enhanced_learning_question = \"What parts of the course enhanced your learning the most?\"\n",
    "improve_course_question = \"What could be improved about the course?\""
   ]
  },
  {
   "cell_type": "markdown",
   "metadata": {},
   "source": [
    "We'll also load up some Coursera comments (source is from [this Kaggle notebook](https://www.kaggle.com/datasets/imuhammad/course-reviews-on-coursera), just using the first 100 as an example. The included example dataset is just the first 200 rows of the full 1.45 million rows. I didn't include the full set so as not to blimp up the size of this repo."
   ]
  },
  {
   "cell_type": "code",
   "execution_count": 12,
   "metadata": {},
   "outputs": [
    {
     "data": {
      "text/html": [
       "<div>\n",
       "<style scoped>\n",
       "    .dataframe tbody tr th:only-of-type {\n",
       "        vertical-align: middle;\n",
       "    }\n",
       "\n",
       "    .dataframe tbody tr th {\n",
       "        vertical-align: top;\n",
       "    }\n",
       "\n",
       "    .dataframe thead th {\n",
       "        text-align: right;\n",
       "    }\n",
       "</style>\n",
       "<table border=\"1\" class=\"dataframe\">\n",
       "  <thead>\n",
       "    <tr style=\"text-align: right;\">\n",
       "      <th></th>\n",
       "      <th>reviews</th>\n",
       "      <th>reviewers</th>\n",
       "      <th>date_reviews</th>\n",
       "      <th>rating</th>\n",
       "      <th>course_id</th>\n",
       "    </tr>\n",
       "  </thead>\n",
       "  <tbody>\n",
       "    <tr>\n",
       "      <th>0</th>\n",
       "      <td>Pretty dry, but I was able to pass with just two complete watches so I'm happy about that.  As usual there were some questions on the final exam that were NO WHERE in the course, which is annoying but far better than many microsoft tests I have taken.  Never found the suplimental material that the course references... but who cares... i passed!</td>\n",
       "      <td>By Robert S</td>\n",
       "      <td>Feb 12, 2020</td>\n",
       "      <td>4</td>\n",
       "      <td>google-cbrs-cpi-training</td>\n",
       "    </tr>\n",
       "    <tr>\n",
       "      <th>1</th>\n",
       "      <td>would be a better experience if the video and screen shots would sho on the side of the text that the instructor is going thru so that user does not have to go all the way to beginning of text to be able to view any slides instructor is showing.</td>\n",
       "      <td>By Gabriel E R</td>\n",
       "      <td>Sep 28, 2020</td>\n",
       "      <td>4</td>\n",
       "      <td>google-cbrs-cpi-training</td>\n",
       "    </tr>\n",
       "    <tr>\n",
       "      <th>2</th>\n",
       "      <td>Information was perfect! The program itself was a little annoying. I had to wait 30 to 45 minutes after watching the videos to to take the quiz. Other than that the information was perfect and passed the test with no issues!</td>\n",
       "      <td>By Jacob D</td>\n",
       "      <td>Apr 08, 2020</td>\n",
       "      <td>4</td>\n",
       "      <td>google-cbrs-cpi-training</td>\n",
       "    </tr>\n",
       "    <tr>\n",
       "      <th>3</th>\n",
       "      <td>A few grammatical mistakes on test made me do a double take but all in all not bad.</td>\n",
       "      <td>By Dale B</td>\n",
       "      <td>Feb 24, 2020</td>\n",
       "      <td>4</td>\n",
       "      <td>google-cbrs-cpi-training</td>\n",
       "    </tr>\n",
       "    <tr>\n",
       "      <th>4</th>\n",
       "      <td>Excellent course and the training provided was very detailed and easy to follow.</td>\n",
       "      <td>By Sean G</td>\n",
       "      <td>Jun 18, 2020</td>\n",
       "      <td>4</td>\n",
       "      <td>google-cbrs-cpi-training</td>\n",
       "    </tr>\n",
       "  </tbody>\n",
       "</table>\n",
       "</div>"
      ],
      "text/plain": [
       "                                                                                                                                                                                                                                                                                                                                                      reviews  \\\n",
       "0  Pretty dry, but I was able to pass with just two complete watches so I'm happy about that.  As usual there were some questions on the final exam that were NO WHERE in the course, which is annoying but far better than many microsoft tests I have taken.  Never found the suplimental material that the course references... but who cares... i passed!   \n",
       "1                                                                                                       would be a better experience if the video and screen shots would sho on the side of the text that the instructor is going thru so that user does not have to go all the way to beginning of text to be able to view any slides instructor is showing.   \n",
       "2                                                                                                                            Information was perfect! The program itself was a little annoying. I had to wait 30 to 45 minutes after watching the videos to to take the quiz. Other than that the information was perfect and passed the test with no issues!   \n",
       "3                                                                                                                                                                                                                                                                         A few grammatical mistakes on test made me do a double take but all in all not bad.   \n",
       "4                                                                                                                                                                                                                                                                            Excellent course and the training provided was very detailed and easy to follow.   \n",
       "\n",
       "        reviewers  date_reviews  rating                 course_id  \n",
       "0     By Robert S  Feb 12, 2020       4  google-cbrs-cpi-training  \n",
       "1  By Gabriel E R  Sep 28, 2020       4  google-cbrs-cpi-training  \n",
       "2      By Jacob D  Apr 08, 2020       4  google-cbrs-cpi-training  \n",
       "3       By Dale B  Feb 24, 2020       4  google-cbrs-cpi-training  \n",
       "4       By Sean G  Jun 18, 2020       4  google-cbrs-cpi-training  "
      ]
     },
     "metadata": {},
     "output_type": "display_data"
    }
   ],
   "source": [
    "coursera_survey = pd.read_csv(data_path / 'coursera_survey_200rows.csv', nrows=100)\n",
    "full_show(coursera_survey.head())"
   ]
  },
  {
   "cell_type": "code",
   "execution_count": 13,
   "metadata": {},
   "outputs": [],
   "source": [
    "coursera_review_question = \"What is your review of the course?\""
   ]
  },
  {
   "cell_type": "markdown",
   "metadata": {},
   "source": [
    "## Theme derivation (bottom up)\n",
    "Derive themes from a batch of comments\n",
    "\n",
    "Here we're doing this in a chained series of steps behind the scenes to come up with the final themes and citations for each theme. Here's what the chain looks like: \n",
    "\n",
    "<img alt=\"theme derivation\" src=\"../images/theme_derivation_chain.png\" title=\"Theme derivation chain\" height=\"500\">"
   ]
  },
  {
   "cell_type": "code",
   "execution_count": 59,
   "metadata": {},
   "outputs": [
    {
     "name": "stdout",
     "output_type": "stream",
     "text": [
      "Video Content Improvements\n",
      "Course Depth and Content\n",
      "Interactive and Practical Elements\n",
      "Assessment and Quiz Improvements\n",
      "Course Materials and Resources\n",
      "Course Structure and Duration\n",
      "Language and Consistency\n",
      "Positive Feedback\n"
     ]
    }
   ],
   "source": [
    "comments = example_survey['improve_course'].tolist() # 100 comments\n",
    "derivation_result = await find_themes(comments=comments, question=improve_course_question)\n",
    "\n",
    "for theme in derivation_result.themes:\n",
    "    print(theme.theme_title)"
   ]
  },
  {
   "cell_type": "markdown",
   "metadata": {},
   "source": [
    "Looks pretty good. Let's look in more detail at the themes and supporting citations (quotes from the comments that back up the themes)."
   ]
  },
  {
   "cell_type": "code",
   "execution_count": 60,
   "metadata": {},
   "outputs": [
    {
     "name": "stdout",
     "output_type": "stream",
     "text": [
      "Theme: Video Content Improvements\n",
      "Description:\n",
      "• Suggestions for video duration adjustments\n",
      "• Concerns about lecture pace and clarity\n",
      "• Requests for more visual aids and multimedia\n",
      "Citations:\n",
      "  • \"Consider reducing the duration of certain videos. A few appeared to be slightly prolonged.\"\n",
      "  • \"The pace of some lectures could be slowed down. At times, it's challenging to follow the lecturer's speech or decipher their handwriting.\"\n",
      "  • \"Incorporating additional visual aids could enhance and solidify the understanding of the material.\"\n",
      "\n",
      "Theme: Course Depth and Content\n",
      "Description:\n",
      "• Desire for more in-depth and advanced content\n",
      "• Requests for additional subjects and topics\n",
      "• Suggestions for more practical examples and case studies\n",
      "Citations:\n",
      "  • \"Delve deeper into the subject matter! It would be engaging to explore additional intricacies.\"\n",
      "  • \"Incorporating information about the latest treatment methods would be beneficial.\"\n",
      "  • \"It would be beneficial to include additional case studies, particularly those involving uncommon situations.\"\n",
      "\n",
      "Theme: Interactive and Practical Elements\n",
      "Description:\n",
      "• Requests for more hands-on activities\n",
      "• Suggestions for simulation tools and projects\n",
      "• Desire for more clinical demonstrations\n",
      "Citations:\n",
      "  • \"Perhaps incorporating a more engaging element in the practical sessions, such as a simulation tool where learners can engage with patient cases, propose therapeutic strategies, and monitor the outcomes or side effects, would enhance the learning experience.\"\n",
      "  • \"It would be beneficial to include additional hands-on activities.\"\n",
      "  • \"Increase the number of practical clinical demonstrations.\"\n",
      "\n",
      "Theme: Assessment and Quiz Improvements\n",
      "Description:\n",
      "• Concerns about quiz question clarity and alignment\n",
      "• Requests for more practice questions and mock tests\n",
      "• Suggestions for assessment structure changes\n",
      "Citations:\n",
      "  • \"It would be beneficial if the course content was more aligned with the foundational topics. Additionally, aligning the chapter assessments more closely with the content presented in the videos and lessons would enhance understanding. At times, the questions in the review seemed unrelated to the material covered.\"\n",
      "  • \"It would be beneficial to have additional mock tests available for the concluding assessment.\"\n",
      "  • \"Incorporating a mid-term assessment could be beneficial for identifying which topics require further study to ensure a comprehensive understanding of all concepts.\"\n",
      "\n",
      "Theme: Course Materials and Resources\n",
      "Description:\n",
      "• Requests for downloadable and comprehensive materials\n",
      "• Suggestions for improved note-taking spaces\n",
      "• Desire for ongoing access to course content\n",
      "Citations:\n",
      "  • \"It would be beneficial if the course content could be aggregated into a downloadable PDF format for future reference. While I have taken notes, having a compiled resource would be advantageous. I recognize that due to the course's heavy reliance on video content, this may pose a challenge. The diagrams provided were especially helpful.\"\n",
      "  • \"It would be beneficial to have ongoing access to the course content for future reference and review.\"\n",
      "  • \"It would be beneficial to provide a handout that allows for student annotations instead of just a page with empty spaces adjacent to key concepts.\"\n",
      "\n",
      "Theme: Course Structure and Duration\n",
      "Description:\n",
      "• Suggestions to extend course duration\n",
      "• Requests for optional advanced projects\n",
      "Citations:\n",
      "  • \"Extend the duration! The course felt too brief with just a three-week timeframe; I was eager to delve deeper into the subject matter.\"\n",
      "  • \"Incorporating a few advanced projects as optional tasks could benefit learners who wish to delve deeper into the subject matter. These projects wouldn't need to influence exam scores.\"\n",
      "  • \"Incorporating a segment for students eager to delve deeper into the subject matter would be beneficial.\"\n",
      "\n",
      "Theme: Language and Consistency\n",
      "Description:\n",
      "• Requests for consistent language across presenters\n",
      "• Suggestions for clearer phrasing of questions\n",
      "• Requests for subtitles in other languages\n",
      "Citations:\n",
      "  • \"At times, the language used by different presenters seemed to differ significantly (unfortunately, I cannot recall a particular instance). It might be beneficial to ensure consistency in the language across different presentations or instructional videos.\"\n",
      "  • \"The phrasing of the questions is quite convoluted and lengthy. It would be beneficial to make them more straightforward and easier to understand.\"\n",
      "  • \"Incorporate a wider range of examples to clarify the topics, and consider adding subtitles in other languages to assist learners who aren't fluent in English.\"\n",
      "\n",
      "Theme: Positive Feedback\n",
      "Description:\n",
      "• Expressions of satisfaction with the course\n",
      "• Statements that no improvements are necessary\n",
      "Citations:\n",
      "  • \"OUTSTANDING\"\n",
      "  • \"This course is already excellent and does not require enhancements. I feel that it successfully conveyed all the intended educational objectives.\"\n",
      "  • \"The class was excellent.\"\n",
      "\n"
     ]
    }
   ],
   "source": [
    "def format_themes(themes):\n",
    "    output = []\n",
    "    for theme in themes:\n",
    "        output.append(f\"Theme: {theme.theme_title}\")\n",
    "        output.append(f\"Description:\\n{theme.description}\")\n",
    "        output.append(\"Citations:\")\n",
    "        for citation in theme.citations:\n",
    "            output.append(f\"  • \\\"{citation}\\\"\")\n",
    "        output.append(\"\")  # Empty line between themes\n",
    "    return \"\\n\".join(output)\n",
    "\n",
    "print(format_themes(derivation_result.themes))"
   ]
  },
  {
   "cell_type": "markdown",
   "metadata": {},
   "source": [
    "Let's take a look for a different survey question."
   ]
  },
  {
   "cell_type": "code",
   "execution_count": 55,
   "metadata": {},
   "outputs": [
    {
     "name": "stdout",
     "output_type": "stream",
     "text": [
      "Visual Aids and Multimedia\n",
      "Practical Applications\n",
      "Interactive Learning\n",
      "Clear Content Structure\n",
      "Comprehensive Coverage\n",
      "Flexible Learning\n",
      "Effective Assessments\n",
      "Clinical Relevance\n",
      "Expert Instruction\n",
      "Supplementary Resources\n",
      "Engaging Content\n",
      "Integration of Concepts\n",
      "Diverse Learning Materials\n"
     ]
    }
   ],
   "source": [
    "comments_best_parts = example_survey['best_parts'].tolist()\n",
    "derivation_result_best_parts = await find_themes(comments=comments_best_parts, question=best_parts_question)\n",
    "\n",
    "for theme in derivation_result_best_parts.themes:\n",
    "    print(theme.theme_title)"
   ]
  },
  {
   "cell_type": "code",
   "execution_count": 56,
   "metadata": {},
   "outputs": [
    {
     "name": "stdout",
     "output_type": "stream",
     "text": [
      "Theme: Visual Aids and Multimedia\n",
      "Description:\n",
      "• Effective use of visual illustrations and animations\n",
      "• Video content that clarifies complex concepts\n",
      "• Engaging multimedia resources enhancing comprehension\n",
      "Citations:\n",
      "  • \"The illustrative animations clarified the main ideas effectively. The foundational exercises were also quite beneficial.\"\n",
      "  • \"I appreciated the clarity and visual aids provided in the course, which simplified complex topics such as cellular processes, hereditary traits, oncology principles, and DNA analysis. These tools made the material more accessible, especially compared to the challenge of deciphering academic papers and other scientific texts on my own.\"\n",
      "  • \"The instructional animations and the variety of engaging multimedia resources were excellent, making the material straightforward and comprehensible.\"\n",
      "\n",
      "Theme: Practical Applications\n",
      "Description:\n",
      "• Real-world clinical scenarios\n",
      "• Case studies connecting theory to practice\n",
      "• Practical exercises demonstrating relevance of material\n",
      "Citations:\n",
      "  • \"The practical application segments of the lessons were beneficial. They aided in deepening comprehension of the molecular processes.\"\n",
      "  • \"The most beneficial aspect of the class was the application of biochemical concepts to practical scenarios, such as metabolic disorders and inflammatory conditions. These illustrations significantly enhanced my comprehension of the material.\"\n",
      "  • \"The practical application sessions involving real-world patient scenarios (immune therapy techniques, cellular therapy) were outstanding.\"\n",
      "\n",
      "Theme: Interactive Learning\n",
      "Description:\n",
      "• Hands-on components and simulations\n",
      "• Participatory activities enhancing engagement\n",
      "• Interactive modules for active learning\n",
      "Citations:\n",
      "  • \"The hands-on interactive modules related to fluid dynamics were particularly beneficial, as I absorbed more knowledge by actively adjusting the parameters than through passive listening or reading. Equally informative were the visual aids that clarified the application of certain medical treatments.\"\n",
      "  • \"the course is engaging and includes numerous simulations\"\n",
      "  • \"The participatory elements were the highlight for me. The online course was excellently crafted and engaging. The promptness in addressing inquiries was commendable. Kudos to the crew!\"\n",
      "\n",
      "Theme: Clear Content Structure\n",
      "Description:\n",
      "• Well-organized and concise presentation\n",
      "• Structured progression of topics\n",
      "• Clear explanations of complex concepts\n",
      "Citations:\n",
      "  • \"The course was structured clearly. Found every lecture to be engaging.\"\n",
      "  • \"The highlight of this educational experience was undoubtedly the clarity with which the material was presented, facilitating the retention of key points. The structured progression of the topics and the emphasis on core concepts were particularly appreciated.\"\n",
      "  • \"The instructional recordings were exceptionally lucid and well-structured.\"\n",
      "\n",
      "Theme: Comprehensive Coverage\n",
      "Description:\n",
      "• Extensive range of relevant topics\n",
      "• In-depth exploration of immunology and oncology\n",
      "• Coverage of emerging treatments and research\n",
      "Citations:\n",
      "  • \"comprehensive summary, encompassing emerging treatments currently under research\"\n",
      "  • \"The sections on natural immune responses, the role of supportive immune cells, the mechanisms and roles of immune proteins, hypersensitivity reactions, the connections between various health conditions, and the processes of pathogen detection and immune response enhancement.\"\n",
      "  • \"Explored an extensive range of topics pertinent to the field, providing a comprehensive educational experience. The schedule allowed ample time for completion, avoiding a hurried atmosphere, and the material presented was substantial.\"\n",
      "\n",
      "Theme: Flexible Learning\n",
      "Description:\n",
      "• Self-paced learning options\n",
      "• Flexibility in course completion\n",
      "• Adaptable timing for various segments\n",
      "Citations:\n",
      "  • \"The flexibility to learn at a self-determined speed\"\n",
      "  • \"The most advantageous aspects of the course included its digital format and the adaptability regarding the timing for completing various segments. This flexibility was particularly beneficial for me as a full-time employee, as it enabled consistent participation in the course that would have been challenging otherwise.\"\n",
      "  • \"I valued the advanced nature of the teaching (it wasn't overly simplistic), and I was particularly fond of the autonomy in progressing at a pace that suited my personal timetable.\"\n",
      "\n",
      "Theme: Effective Assessments\n",
      "Description:\n",
      "• Helpful quizzes reinforcing key concepts\n",
      "• Well-aligned assessments with learning objectives\n",
      "• Review questions emphasizing important points\n",
      "Citations:\n",
      "  • \"The content was highly captivating, with quiz items that were appropriately difficult yet manageable. The assessments focused on key principles, and I believe I have thoroughly grasped the fundamental concepts of the subject matter following this class.\"\n",
      "  • \"I found the instructional videos to be exceptionally clear, and the quizzes were well-aligned with the educational goals. Additionally, the practical application in a clinical setting was valuable, as it demonstrated real-world interactions.\"\n",
      "  • \"The ability to consolidate learning across various assessments and the inclusion of review questions that emphasize key concepts was highly beneficial.\"\n",
      "\n",
      "Theme: Clinical Relevance\n",
      "Description:\n",
      "• Focus on practical clinical aspects\n",
      "• Learning about patient interactions\n",
      "• Application of medical concepts in healthcare settings\n",
      "Citations:\n",
      "  • \"I valued the practical clinical aspects related to immune-related disorders and their management.\"\n",
      "  • \"I really appreciated the detailed discussions about the clinical settings.\"\n",
      "  • \"The most beneficial aspect of the class was the incorporation of real-world clinical scenarios into every lecture.\"\n",
      "\n",
      "Theme: Expert Instruction\n",
      "Description:\n",
      "• High-quality instructors with expertise\n",
      "• Clear summaries and explanations from instructors\n",
      "• Engaging teaching methods\n",
      "Citations:\n",
      "  • \"The instructor\"\n",
      "  • \"the instructor's clear summaries of ideas\"\n",
      "  • \"Gaining knowledge from specialists in the industry.\"\n",
      "\n",
      "Theme: Supplementary Resources\n",
      "Description:\n",
      "• Additional study materials provided\n",
      "• Helpful resources for independent revision\n",
      "• Variety of educational resources catering to different learning styles\n",
      "Citations:\n",
      "  • \"The additional resources provided, such as study guides and vocabulary lists, were extremely beneficial for independent revision. It's advantageous to have an abundance of these materials.\"\n",
      "  • \"The program offered outstanding visual aids and additional resources that enhanced comprehension of the principles, surpassing mere textbook learning.\"\n",
      "  • \"The key factors that made this course appealing were the comprehensive resources provided, including video content, instructional materials, and support documents that facilitated theoretical understanding. Additionally, the opportunity to engage with various practical situations in the laboratory setting, where we could implement the learned principles, was highly beneficial.\"\n",
      "\n",
      "Theme: Engaging Content\n",
      "Description:\n",
      "• Captivating and stimulating material\n",
      "• Interesting presentation of complex topics\n",
      "• Content that inspires curiosity and wonder\n",
      "Citations:\n",
      "  • \"The educational content was extremely enriching and stimulating! The section on oncology was the highlight.\"\n",
      "  • \"The graphical presentations and interactive dialogues about emerging innovations in the field of precision medicine, as well as the kinds of studies being conducted in educational institutions, were quite engaging.\"\n",
      "  • \"Additionally, commendations are due to the entire teaching team for their ability to inspire and evoke a sense of wonder about the subject matter, even through the digital medium of a screen.\"\n",
      "\n",
      "Theme: Integration of Concepts\n",
      "Description:\n",
      "• Combination of fundamental principles with advanced ideas\n",
      "• Connecting basic concepts to complex medical topics\n",
      "• Bridging theory and practical applications\n",
      "Citations:\n",
      "  • \"I found the practical exercises to be particularly beneficial. The fundamental principles were effectively conveyed, providing a solid base. The intensive sessions were successful in presenting a more detailed understanding of the underlying scientific concepts.\"\n",
      "  • \"I think the fundamental principles and their direct application in a professional setting were the highlights of the program.\"\n",
      "  • \"Excellent blend of conceptual understanding, real-world illustrations, and examination queries that test your comprehension.\"\n",
      "\n",
      "Theme: Diverse Learning Materials\n",
      "Description:\n",
      "• Variety of educational resources\n",
      "• Combination of videos, animations, and interactive modules\n",
      "• Catering to different learning styles\n",
      "Citations:\n",
      "  • \"diversity of instructional materials utilized, including video depictions of actual events\"\n",
      "  • \"I found the multimedia content and interactive quizzes to be beneficial.\"\n",
      "  • \"Visual materials and educational resources, organized to reinforce understanding.\"\n",
      "\n"
     ]
    }
   ],
   "source": [
    "print(format_themes(derivation_result_best_parts.themes))"
   ]
  },
  {
   "cell_type": "markdown",
   "metadata": {},
   "source": [
    "Your turn...as an exercise for the reader, use the `coursera_survey` comments that we loaded and run `find_themes` on those. We already defined the `coursera_review_question` variable as well that you will want to use."
   ]
  },
  {
   "cell_type": "code",
   "execution_count": null,
   "metadata": {},
   "outputs": [],
   "source": []
  }
 ],
 "metadata": {
  "kernelspec": {
   "display_name": "ai1",
   "language": "python",
   "name": "python3"
  },
  "language_info": {
   "codemirror_mode": {
    "name": "ipython",
    "version": 3
   },
   "file_extension": ".py",
   "mimetype": "text/x-python",
   "name": "python",
   "nbconvert_exporter": "python",
   "pygments_lexer": "ipython3",
   "version": "3.11.9"
  }
 },
 "nbformat": 4,
 "nbformat_minor": 2
}
