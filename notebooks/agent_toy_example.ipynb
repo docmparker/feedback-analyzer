{
 "cells": [
  {
   "cell_type": "markdown",
   "metadata": {},
   "source": [
    "# Concept for Survey Agent\n",
    "\n",
    "This is a demo of the beginning of what could be a full agent that helps analyze survey feedback."
   ]
  },
  {
   "cell_type": "markdown",
   "metadata": {},
   "source": [
    "## Imports and setup"
   ]
  },
  {
   "cell_type": "code",
   "execution_count": 1,
   "metadata": {},
   "outputs": [
    {
     "data": {
      "text/plain": [
       "True"
      ]
     },
     "execution_count": 1,
     "metadata": {},
     "output_type": "execute_result"
    }
   ],
   "source": [
    "from dotenv import load_dotenv, find_dotenv\n",
    "load_dotenv(find_dotenv())"
   ]
  },
  {
   "cell_type": "code",
   "execution_count": 181,
   "metadata": {},
   "outputs": [],
   "source": [
    "from IPython.display import display, HTML\n",
    "from markdown import markdown\n",
    "import anthropic\n",
    "import pandas as pd\n",
    "from pprint import pprint\n",
    "from pathlib import Path\n",
    "from feedback_analyzer.utils import ToolSchema\n",
    "from pydantic import Field\n",
    "from feedback_analyzer.sentiment_analysis import (\n",
    "    SentimentAnalysisTool,\n",
    "    SentimentAnalysisVisualizeTool\n",
    ")\n",
    "from feedback_analyzer.theme_derivation import (\n",
    "    ThemeDerivationTool,\n",
    "    DisplayThemesTool\n",
    ")"
   ]
  },
  {
   "cell_type": "code",
   "execution_count": 4,
   "metadata": {},
   "outputs": [],
   "source": [
    "# this makes it more robust to run async tasks inside an already async environment (jupyter notebooks)\n",
    "import nest_asyncio\n",
    "nest_asyncio.apply()"
   ]
  },
  {
   "cell_type": "markdown",
   "metadata": {},
   "source": [
    "Make sure to either set `ANTHROPIC_API_KEY` as an environment variable or put it in a .env file and use the following cell to load the env var. The format in the .env file is:\n",
    "```\n",
    "ANTHROPIC_API_KEY=yourKeyGoesHere\n",
    "```"
   ]
  },
  {
   "cell_type": "code",
   "execution_count": 5,
   "metadata": {},
   "outputs": [],
   "source": [
    "%load_ext autoreload\n",
    "%autoreload 2"
   ]
  },
  {
   "cell_type": "markdown",
   "metadata": {},
   "source": [
    "This is a convenience function to make seeing Pandas dataframe values easier, especially when there are long strings like the student comments we will be using."
   ]
  },
  {
   "cell_type": "code",
   "execution_count": 6,
   "metadata": {},
   "outputs": [],
   "source": [
    "def full_show(df):\n",
    "    with pd.option_context('display.max_columns', None, 'display.max_rows', None, 'display.max_colwidth', None):\n",
    "        display(df)"
   ]
  },
  {
   "cell_type": "code",
   "execution_count": 19,
   "metadata": {},
   "outputs": [],
   "source": [
    "client = anthropic.Client()\n",
    "MODEL_NAME = \"claude-3-5-sonnet-20240620\""
   ]
  },
  {
   "cell_type": "markdown",
   "metadata": {},
   "source": [
    "## Load the example data"
   ]
  },
  {
   "cell_type": "code",
   "execution_count": 7,
   "metadata": {},
   "outputs": [],
   "source": [
    "data_path = Path('../data/example_data')"
   ]
  },
  {
   "cell_type": "markdown",
   "metadata": {},
   "source": [
    "Let's load up some fake data. \n",
    "\n",
    "All of these comments are synthetic to avoid sharing any sensitive or PII information, but they should work great for illustration purposes. There are 100 rows, with just a few null/nan values here and there for realism. In most surveys I've seen, there are quite a number of null/None/blank etc values, so the functions here are written to handle those."
   ]
  },
  {
   "cell_type": "code",
   "execution_count": 8,
   "metadata": {},
   "outputs": [
    {
     "data": {
      "text/html": [
       "<div>\n",
       "<style scoped>\n",
       "    .dataframe tbody tr th:only-of-type {\n",
       "        vertical-align: middle;\n",
       "    }\n",
       "\n",
       "    .dataframe tbody tr th {\n",
       "        vertical-align: top;\n",
       "    }\n",
       "\n",
       "    .dataframe thead th {\n",
       "        text-align: right;\n",
       "    }\n",
       "</style>\n",
       "<table border=\"1\" class=\"dataframe\">\n",
       "  <thead>\n",
       "    <tr style=\"text-align: right;\">\n",
       "      <th></th>\n",
       "      <th>best_parts</th>\n",
       "      <th>enhanced_learning</th>\n",
       "      <th>improve_course</th>\n",
       "    </tr>\n",
       "  </thead>\n",
       "  <tbody>\n",
       "    <tr>\n",
       "      <th>0</th>\n",
       "      <td>I valued the practical clinical aspects related to immune-related disorders and their management.</td>\n",
       "      <td>The illustrative visuals and straightforward explanatory clips.</td>\n",
       "      <td>Consider reducing the duration of certain videos. A few appeared to be slightly prolonged.</td>\n",
       "    </tr>\n",
       "    <tr>\n",
       "      <th>1</th>\n",
       "      <td>The flexibility to learn at a self-determined speed</td>\n",
       "      <td>The opportunity to review the lecture content</td>\n",
       "      <td>The pace of some lectures could be slowed down. At times, it's challenging to follow the lecturer's speech or decipher their handwriting.</td>\n",
       "    </tr>\n",
       "    <tr>\n",
       "      <th>2</th>\n",
       "      <td>The educational content was extremely enriching and stimulating! The section on oncology was the highlight.</td>\n",
       "      <td>the self-assessment activities.</td>\n",
       "      <td>Nothing specific comes to mind.</td>\n",
       "    </tr>\n",
       "    <tr>\n",
       "      <th>3</th>\n",
       "      <td>Professional growth within the medical sector</td>\n",
       "      <td>The practical integration workshops were highly beneficial, they significantly contributed to a deeper comprehension of the theories and their implementation in a healthcare environment.</td>\n",
       "      <td>Incorporating a few advanced projects as optional tasks could benefit learners who wish to delve deeper into the subject matter. These projects wouldn't need to influence exam scores.</td>\n",
       "    </tr>\n",
       "    <tr>\n",
       "      <th>4</th>\n",
       "      <td>The highlights of the class included the practical demonstration clips that made the complex biological principles more understandable by connecting them to daily well-being and actions. This connection was incredibly beneficial as I navigated the course content.</td>\n",
       "      <td>The aspect of the course that most facilitated my learning was the regular assessments provided at each segment, which helped confirm my grasp of the material presented. These checkpoints effectively guided me in the correct learning direction. It's evident that considerable effort was invested in designing these educational modules to enable students to gain a deep comprehension rather than just a superficial understanding of the subject matter.</td>\n",
       "      <td>Extend the duration of the concept videos for the more challenging topics, as they require a deeper dive to fully grasp the intricacies involved. Additionally, consider introducing an additional educator to the mix. The dynamic of having multiple voices in another subject area is quite engaging, and it would be beneficial to replicate that experience in this subject to prevent monotony from setting in with just one instructor.</td>\n",
       "    </tr>\n",
       "  </tbody>\n",
       "</table>\n",
       "</div>"
      ],
      "text/plain": [
       "                                                                                                                                                                                                                                                                best_parts  \\\n",
       "0                                                                                                                                                                        I valued the practical clinical aspects related to immune-related disorders and their management.   \n",
       "1                                                                                                                                                                                                                      The flexibility to learn at a self-determined speed   \n",
       "2                                                                                                                                                              The educational content was extremely enriching and stimulating! The section on oncology was the highlight.   \n",
       "3                                                                                                                                                                                                                            Professional growth within the medical sector   \n",
       "4  The highlights of the class included the practical demonstration clips that made the complex biological principles more understandable by connecting them to daily well-being and actions. This connection was incredibly beneficial as I navigated the course content.   \n",
       "\n",
       "                                                                                                                                                                                                                                                                                                                                                                                                                                                    enhanced_learning  \\\n",
       "0                                                                                                                                                                                                                                                                                                                                                                                                     The illustrative visuals and straightforward explanatory clips.   \n",
       "1                                                                                                                                                                                                                                                                                                                                                                                                                       The opportunity to review the lecture content   \n",
       "2                                                                                                                                                                                                                                                                                                                                                                                                                                     the self-assessment activities.   \n",
       "3                                                                                                                                                                                                                                                                          The practical integration workshops were highly beneficial, they significantly contributed to a deeper comprehension of the theories and their implementation in a healthcare environment.   \n",
       "4  The aspect of the course that most facilitated my learning was the regular assessments provided at each segment, which helped confirm my grasp of the material presented. These checkpoints effectively guided me in the correct learning direction. It's evident that considerable effort was invested in designing these educational modules to enable students to gain a deep comprehension rather than just a superficial understanding of the subject matter.   \n",
       "\n",
       "                                                                                                                                                                                                                                                                                                                                                                                                                                   improve_course  \n",
       "0                                                                                                                                                                                                                                                                                                                                                      Consider reducing the duration of certain videos. A few appeared to be slightly prolonged.  \n",
       "1                                                                                                                                                                                                                                                                                                       The pace of some lectures could be slowed down. At times, it's challenging to follow the lecturer's speech or decipher their handwriting.  \n",
       "2                                                                                                                                                                                                                                                                                                                                                                                                                 Nothing specific comes to mind.  \n",
       "3                                                                                                                                                                                                                                                         Incorporating a few advanced projects as optional tasks could benefit learners who wish to delve deeper into the subject matter. These projects wouldn't need to influence exam scores.  \n",
       "4  Extend the duration of the concept videos for the more challenging topics, as they require a deeper dive to fully grasp the intricacies involved. Additionally, consider introducing an additional educator to the mix. The dynamic of having multiple voices in another subject area is quite engaging, and it would be beneficial to replicate that experience in this subject to prevent monotony from setting in with just one instructor.  "
      ]
     },
     "metadata": {},
     "output_type": "display_data"
    }
   ],
   "source": [
    "example_survey = pd.read_csv(data_path / 'example_survey_data_synthetic.csv')\n",
    "full_show(example_survey.head())"
   ]
  },
  {
   "cell_type": "markdown",
   "metadata": {},
   "source": [
    "## Set up the agent"
   ]
  },
  {
   "cell_type": "code",
   "execution_count": 183,
   "metadata": {},
   "outputs": [
    {
     "name": "stdout",
     "output_type": "stream",
     "text": [
      "{'description': 'Tool to analyze the sentiment of a list of comments, given '\n",
      "                'the list of comments and the survey question that the '\n",
      "                'comments are in response to. Returns a list of '\n",
      "                'SentimentAnalysisResult objects.',\n",
      " 'input_schema': {'description': 'Tool to analyze the sentiment of a list of '\n",
      "                                 'comments, given the list of comments and the '\n",
      "                                 'survey question that the comments are in '\n",
      "                                 'response to. Returns a list of '\n",
      "                                 'SentimentAnalysisResult objects.',\n",
      "                  'properties': {'comments': {'description': 'List of comments '\n",
      "                                                             'to analyze',\n",
      "                                              'items': {'anyOf': [{'type': 'string'},\n",
      "                                                                  {'type': 'number'},\n",
      "                                                                  {'type': 'null'}]},\n",
      "                                              'type': 'array'},\n",
      "                                 'question': {'description': 'The survey '\n",
      "                                                             'question that '\n",
      "                                                             'the comments are '\n",
      "                                                             'in response to',\n",
      "                                              'type': 'string'}},\n",
      "                  'required': ['comments', 'question'],\n",
      "                  'type': 'object'},\n",
      " 'name': 'SentimentAnalysisTool'}\n"
     ]
    }
   ],
   "source": [
    "pprint(SentimentAnalysisTool.tool_schema())"
   ]
  },
  {
   "cell_type": "code",
   "execution_count": 177,
   "metadata": {},
   "outputs": [],
   "source": [
    "class GetCommentsTool(ToolSchema):\n",
    "    \"\"\"Tool to get the comments from a survey data file, given the path to the file, the name of the column, and the number of comments to return.\"\"\"\n",
    "    file_path: str = Field(..., description=\"Path to the survey data file\")\n",
    "    column_name: str = Field(..., description=\"Name of the column containing the comments\")\n",
    "    num_comments: int = Field(10, description=\"Number of comments to return\")\n",
    "\n",
    "    @staticmethod\n",
    "    def execute(file_path: str, column_name: str, num_comments: int) -> list[str | float | None]:\n",
    "        if not Path(file_path).exists():\n",
    "            return f\"File '{file_path}' does not exist\"\n",
    "        survey_data = pd.read_csv(file_path)\n",
    "        if column_name not in survey_data.columns:\n",
    "            return f\"Column '{column_name}' was not found in the survey data file\"\n",
    "        return survey_data[column_name].dropna().tolist()[:num_comments] # we'll just do 10 by default as an example to have this take less time/cost for the toy example"
   ]
  },
  {
   "cell_type": "code",
   "execution_count": 180,
   "metadata": {},
   "outputs": [],
   "source": [
    "tool_map = {\"SentimentAnalysisTool\": SentimentAnalysisTool,\n",
    "            \"SentimentAnalysisVisualizeTool\": SentimentAnalysisVisualizeTool,\n",
    "            \"ThemeDerivationTool\": ThemeDerivationTool,\n",
    "            \"GetCommentsTool\": GetCommentsTool}\n",
    "tools = [tool_map[tool_name].tool_schema() for tool_name in tool_map]"
   ]
  },
  {
   "cell_type": "code",
   "execution_count": 158,
   "metadata": {},
   "outputs": [],
   "source": [
    "def process_tool_call(tool_name, tool_input):\n",
    "    tool = tool_map.get(tool_name)\n",
    "    if not tool:\n",
    "        return f\"Tool {tool_name} not found\"\n",
    "    return tool.execute(**tool_input)"
   ]
  },
  {
   "cell_type": "code",
   "execution_count": 149,
   "metadata": {},
   "outputs": [],
   "source": [
    "def survey_chat():\n",
    "    system_prompt = \"\"\"\\\n",
    "    You are an assistant that helps users analyze survey feedback. You have access to a set of tools, but only use them when needed. \\\n",
    "    If you do not have enough information to use a tool correctly, ask the user follow up questions to get the required inputs.\n",
    "\n",
    "    Do not call any of the tools unless you have the required data from a user. Once you do have that information, call the \\\n",
    "    tool only with the required inputs. If a tool requires a list as one of its parameters, make sure to call it with a list and not \\\n",
    "    a string.\n",
    "\n",
    "    Be helpful and brief in your responses. Don't explicitly mention to the user the tools you are going to use. If the user asks \\\n",
    "    what you can help them with or what you are able to do, guide them toward the capabilities provided by your tools.\\\n",
    "    \"\"\"\n",
    "\n",
    "    def display_message(role, content):\n",
    "        if role == \"user\":\n",
    "            display(HTML(f\"<div style='background-color: #2C3E50; color: #ECF0F1; padding: 10px; border-radius: 5px; margin-bottom: 10px;'><strong>User:</strong> {markdown(content)}</div>\"))\n",
    "        elif role == \"assistant\":\n",
    "            display(HTML(f\"<div style='background-color: #34495E; color: #ECF0F1; padding: 10px; border-radius: 5px; margin-bottom: 10px;'><strong>Assistant:</strong> {markdown(content)}</div>\"))\n",
    "        elif role == \"tool\":\n",
    "            display(HTML(f\"<div style='background-color: #873600; color: #ECF0F1; padding: 10px; border-radius: 5px; margin-bottom: 10px;'><strong>Tool Use:</strong> {markdown(content)}</div>\"))\n",
    "\n",
    "    user_message = input(\"User: \")\n",
    "    display_message(\"user\", user_message)\n",
    "    messages = [{\"role\": \"user\", \"content\": user_message}]\n",
    "    max_tries = 10 # limits the conversation to 10 exchanges\n",
    "    i = 0\n",
    "    while i < max_tries:\n",
    "        #If the last message is from the assistant, get another input from the user\n",
    "        if messages[-1].get(\"role\") == \"assistant\":\n",
    "            user_message = input(\"User: \")\n",
    "            display_message(\"user\", user_message)\n",
    "            if \"exit\" in user_message or \"quit\" in user_message:\n",
    "                break\n",
    "            messages.append({\"role\": \"user\", \"content\": user_message})\n",
    "\n",
    "        #Send a request to Claude\n",
    "        response = client.messages.create(\n",
    "            system=system_prompt,\n",
    "            model=MODEL_NAME,\n",
    "            max_tokens=4096,\n",
    "            tools=tools,\n",
    "            messages=messages\n",
    "        )\n",
    "        # Update messages to include Claude's response\n",
    "        messages.append(\n",
    "            {\"role\": \"assistant\", \"content\": response.content}\n",
    "        )\n",
    "\n",
    "        i += 1\n",
    "\n",
    "        #If Claude stops because it wants to use a tool:\n",
    "        if response.stop_reason == \"tool_use\":\n",
    "            tool_use = response.content[-1] \n",
    "            tool_name = tool_use.name\n",
    "            tool_input = tool_use.input\n",
    "            display_message(\"tool\", f\"Using {tool_name} tool with input: {tool_input}\")\n",
    "\n",
    "            tool_result = process_tool_call(tool_name, tool_input)\n",
    "            display_message(\"tool\", f\"Tool result: {tool_result!r}\")\n",
    "\n",
    "            messages.append(\n",
    "                {\n",
    "                    \"role\": \"user\",\n",
    "                    \"content\": [\n",
    "                        {\n",
    "                            \"type\": \"tool_result\",\n",
    "                            \"tool_use_id\": tool_use.id,\n",
    "                            \"content\": str(tool_result),\n",
    "                        }\n",
    "                    ],\n",
    "                },\n",
    "            )\n",
    "        else: \n",
    "            # non-tool use assistant reply\n",
    "            display_message(\"assistant\", response.content[0].text)\n",
    "\n",
    "\n",
    "    display(HTML(\"<div style='color: #BDC3C7; font-style: italic; margin-top: 20px;'>Chat session ended.</div>\"))"
   ]
  },
  {
   "cell_type": "markdown",
   "metadata": {},
   "source": [
    "## Test the agent with sentiment analysis"
   ]
  },
  {
   "cell_type": "code",
   "execution_count": 150,
   "metadata": {},
   "outputs": [
    {
     "data": {
      "text/html": [
       "<div style='background-color: #2C3E50; color: #ECF0F1; padding: 10px; border-radius: 5px; margin-bottom: 10px;'><strong>User:</strong> <p>what can you help me with?</p></div>"
      ],
      "text/plain": [
       "<IPython.core.display.HTML object>"
      ]
     },
     "metadata": {},
     "output_type": "display_data"
    },
    {
     "data": {
      "text/html": [
       "<div style='background-color: #34495E; color: #ECF0F1; padding: 10px; border-radius: 5px; margin-bottom: 10px;'><strong>Assistant:</strong> <p>I'd be happy to help you analyze survey feedback! Here are some of the ways I can assist you:</p>\n",
       "<ol>\n",
       "<li>\n",
       "<p>Sentiment Analysis: I can analyze the sentiment of comments from your survey responses. This helps you understand whether the feedback is generally positive, negative, or neutral.</p>\n",
       "</li>\n",
       "<li>\n",
       "<p>Visualization: I can create visualizations of the sentiment analysis results, making it easier for you to interpret the data at a glance.</p>\n",
       "</li>\n",
       "<li>\n",
       "<p>Data Extraction: If you have a survey data file, I can help you extract comments from specific columns for analysis.</p>\n",
       "</li>\n",
       "<li>\n",
       "<p>Insights and Interpretation: Based on the analysis results, I can provide insights and interpretations of the feedback, helping you understand trends and patterns in your survey responses.</p>\n",
       "</li>\n",
       "</ol>\n",
       "<p>To get started, you could provide me with some survey data or ask about analyzing specific comments. What would you like to focus on first?</p></div>"
      ],
      "text/plain": [
       "<IPython.core.display.HTML object>"
      ]
     },
     "metadata": {},
     "output_type": "display_data"
    },
    {
     "data": {
      "text/html": [
       "<div style='background-color: #2C3E50; color: #ECF0F1; padding: 10px; border-radius: 5px; margin-bottom: 10px;'><strong>User:</strong> <p>help me analyze and visualize the sentiment of some survey comments</p></div>"
      ],
      "text/plain": [
       "<IPython.core.display.HTML object>"
      ]
     },
     "metadata": {},
     "output_type": "display_data"
    },
    {
     "data": {
      "text/html": [
       "<div style='background-color: #34495E; color: #ECF0F1; padding: 10px; border-radius: 5px; margin-bottom: 10px;'><strong>Assistant:</strong> <p>Certainly! I'd be happy to help you analyze and visualize the sentiment of your survey comments. To get started, I'll need some information from you:</p>\n",
       "<ol>\n",
       "<li>\n",
       "<p>Do you have a file containing your survey data, or do you have a list of comments ready to analyze?</p>\n",
       "</li>\n",
       "<li>\n",
       "<p>If you have a file, can you provide the file path and the name of the column containing the comments?</p>\n",
       "</li>\n",
       "<li>\n",
       "<p>What was the survey question that these comments are responding to? This context helps in more accurate sentiment analysis.</p>\n",
       "</li>\n",
       "</ol>\n",
       "<p>Once you provide this information, I can use the appropriate tools to extract the comments (if needed), perform sentiment analysis, and create a visualization of the results for you.</p></div>"
      ],
      "text/plain": [
       "<IPython.core.display.HTML object>"
      ]
     },
     "metadata": {},
     "output_type": "display_data"
    },
    {
     "data": {
      "text/html": [
       "<div style='background-color: #2C3E50; color: #ECF0F1; padding: 10px; border-radius: 5px; margin-bottom: 10px;'><strong>User:</strong> <p>the file path is <code>../data/example_data/example_survey_data_synthetic.csv</code>. the column is <code>best_parts</code>. The survey question was <code>What were the best parts of the course?</code></p></div>"
      ],
      "text/plain": [
       "<IPython.core.display.HTML object>"
      ]
     },
     "metadata": {},
     "output_type": "display_data"
    },
    {
     "data": {
      "text/html": [
       "<div style='background-color: #873600; color: #ECF0F1; padding: 10px; border-radius: 5px; margin-bottom: 10px;'><strong>Tool Use:</strong> <p>Using GetCommentsTool tool with input: {'file_path': '../data/example_data/example_survey_data_synthetic.csv', 'column_name': 'best_parts'}</p></div>"
      ],
      "text/plain": [
       "<IPython.core.display.HTML object>"
      ]
     },
     "metadata": {},
     "output_type": "display_data"
    },
    {
     "data": {
      "text/html": [
       "<div style='background-color: #873600; color: #ECF0F1; padding: 10px; border-radius: 5px; margin-bottom: 10px;'><strong>Tool Use:</strong> <p>Tool result: ['I valued the practical clinical aspects related to immune-related disorders and their management.', 'The flexibility to learn at a self-determined speed', 'The educational content was extremely enriching and stimulating! The section on oncology was the highlight.', 'Professional growth within the medical sector', 'The highlights of the class included the practical demonstration clips that made the complex biological principles more understandable by connecting them to daily well-being and actions. This connection was incredibly beneficial as I navigated the course content.', 'I found the practical exercises to be particularly beneficial. The fundamental principles were effectively conveyed, providing a solid base. The intensive sessions were successful in presenting a more detailed understanding of the underlying scientific concepts.', 'Educational recordings featuring actual medical scenarios.', 'Sensitivities', 'The content was highly captivating, with quiz items that were appropriately difficult yet manageable. The assessments focused on key principles, and I believe I have thoroughly grasped the fundamental concepts of the subject matter following this class.', 'The visual lectures']</p></div>"
      ],
      "text/plain": [
       "<IPython.core.display.HTML object>"
      ]
     },
     "metadata": {},
     "output_type": "display_data"
    },
    {
     "data": {
      "text/html": [
       "<div style='background-color: #873600; color: #ECF0F1; padding: 10px; border-radius: 5px; margin-bottom: 10px;'><strong>Tool Use:</strong> <p>Using SentimentAnalysisTool tool with input: {'comments': \"['I valued the practical clinical aspects related to immune-related disorders and their management.', 'The flexibility to learn at a self-determined speed', 'The educational content was extremely enriching and stimulating! The section on oncology was the highlight.', 'Professional growth within the medical sector', 'The highlights of the class included the practical demonstration clips that made the complex biological principles more understandable by connecting them to daily well-being and actions. This connection was incredibly beneficial as I navigated the course content.', 'I found the practical exercises to be particularly beneficial. The fundamental principles were effectively conveyed, providing a solid base. The intensive sessions were successful in presenting a more detailed understanding of the underlying scientific concepts.', 'Educational recordings featuring actual medical scenarios.', 'Sensitivities', 'The content was highly captivating, with quiz items that were appropriately difficult yet manageable. The assessments focused on key principles, and I believe I have thoroughly grasped the fundamental concepts of the subject matter following this class.', 'The visual lectures']\", 'question': 'What were the best parts of the course?'}</p></div>"
      ],
      "text/plain": [
       "<IPython.core.display.HTML object>"
      ]
     },
     "metadata": {},
     "output_type": "display_data"
    },
    {
     "name": "stdout",
     "output_type": "stream",
     "text": [
      "processing 10 inputs in batches of 25\n",
      "sleeping for 20 seconds between batches\n",
      "starting 0 to 25\n",
      "completed 0 to 25\n",
      "elapsed time: 7.616833925247192\n"
     ]
    },
    {
     "data": {
      "text/html": [
       "<div style='background-color: #873600; color: #ECF0F1; padding: 10px; border-radius: 5px; margin-bottom: 10px;'><strong>Tool Use:</strong> <p>Tool result: [SentimentAnalysisResult(reasoning='The comment expresses a clear positive sentiment towards the course content. The student uses the word \"valued,\" which indicates appreciation and a positive attitude towards the course material. They specifically mention the \"practical clinical aspects\" and their relation to \"immune-related disorders and their management,\" suggesting that they found these elements of the course particularly beneficial and relevant. This indicates a strong positive sentiment.\\n\\nHowever, the comment is relatively brief and focused solely on one aspect of the course. While it\\'s clearly positive, it doesn\\'t express overwhelming enthusiasm or mention multiple positive aspects, which is why I\\'ve assigned a high but not maximum positive score.\\n\\nThere are no negative elements in this comment, hence the negative score is 0.0.\\n\\nA small neutral component (0.2) is assigned because the comment is factual and focused on course content rather than expressing strong emotional language. This neutral aspect reflects the student\\'s professional and academic tone.\\n\\nOverall, the comment is predominantly positive, with a slight neutral component due to its factual nature.', positive_score=0.8, negative_score=0.0, neutral_score=0.2), SentimentAnalysisResult(reasoning='The comment \"The flexibility to learn at a self-determined speed\" is overwhelmingly positive. The student is highlighting a feature of the course that they found beneficial - the ability to learn at their own pace. This flexibility is generally seen as a positive aspect in education, as it allows students to tailor their learning experience to their individual needs and preferences. The use of the word \"flexibility\" itself has positive connotations, implying freedom and adaptability. The student is essentially praising the course structure for allowing this self-paced learning. There are no negative elements in this comment, and while it\\'s a straightforward statement without excessive enthusiasm (which is why there\\'s a small neutral component), the overall sentiment is clearly positive. The high positive score (0.9) reflects this, while the small neutral score (0.1) accounts for the matter-of-fact tone. The negative score is 0.0 as there are no negative elements in the comment.', positive_score=0.9, negative_score=0.0, neutral_score=0.1), SentimentAnalysisResult(reasoning='The comment is overwhelmingly positive. The student uses very enthusiastic language to describe the course content, such as \"extremely enriching and stimulating!\" This indicates a high level of satisfaction and engagement with the course material. The exclamation mark further emphasizes their positive sentiment. Additionally, the student specifically mentions that \"The section on oncology was the highlight,\" which shows they found particular value in at least one part of the course. There are no negative elements in this comment, and the only reason for a small neutral component is that it\\'s a relatively short comment that doesn\\'t elaborate on multiple aspects of the course. The high positive score (0.9) reflects the strong positive language used, while the small neutral score (0.1) accounts for the brevity of the comment. The negative score is 0.0 as there are no negative elements present.', positive_score=0.9, negative_score=0.0, neutral_score=0.1), SentimentAnalysisResult(reasoning='The comment \"Professional growth within the medical sector\" is predominantly positive in sentiment. Here\\'s the reasoning:\\n\\n1. Positive aspects:\\n   - The student identifies \"professional growth\" as one of the best parts of the course, which is inherently positive.\\n   - The mention of growth implies that the course provided valuable learning experiences and opportunities for advancement.\\n   - The specific reference to the \"medical sector\" suggests that the course successfully addressed relevant industry-specific content.\\n\\n2. Neutral aspects:\\n   - The comment is brief and factual, without explicit emotional language or enthusiasm.\\n   - It doesn\\'t provide detailed praise or specific examples of how the course facilitated professional growth.\\n\\n3. Negative aspects:\\n   - There are no negative elements in this comment.\\n\\nGiven these considerations, I\\'ve assigned a high positive score (0.8) because the comment directly answers the question about the best parts of the course with a valuable outcome (professional growth). The neutral score (0.2) accounts for the brevity and lack of emotional language. There is no negative sentiment expressed, so the negative score is 0.0.', positive_score=0.8, negative_score=0.0, neutral_score=0.2), SentimentAnalysisResult(reasoning='The comment is overwhelmingly positive. The student highlights several beneficial aspects of the course:\\n\\n1. They mention \"highlights of the class,\" which immediately sets a positive tone.\\n2. The student praises the \"practical demonstration clips,\" indicating they found this teaching method effective.\\n3. They state that these clips \"made the complex biological principles more understandable,\" suggesting that the course successfully simplified difficult concepts.\\n4. The student appreciates the connection of course content to \"daily well-being and actions,\" implying real-world applicability of the material.\\n5. The phrase \"incredibly beneficial\" is a strong positive statement, emphasizing the high value the student found in this aspect of the course.\\n6. The comment concludes by noting how these elements helped them \"navigate the course content,\" suggesting an overall positive learning experience.\\n\\nGiven these factors, I\\'ve assigned a high positive score of 0.9. There are no negative elements in the comment, so the negative score is 0.0. I\\'ve allocated a small neutral score of 0.1 to account for the factual, non-emotional parts of the statement (like mentioning that the clips were about biological principles). The comment is clearly praising the course, making it predominantly positive.', positive_score=0.9, negative_score=0.0, neutral_score=0.1), SentimentAnalysisResult(reasoning='The comment is overwhelmingly positive. The student highlights several beneficial aspects of the course:\\n\\n1. Practical exercises were \"particularly beneficial\"\\n2. Fundamental principles were \"effectively conveyed\"\\n3. Intensive sessions were \"successful\" in providing detailed understanding\\n\\nThe language used is consistently positive, with words like \"beneficial,\" \"effectively,\" \"solid,\" and \"successful.\" There are no negative elements mentioned. The comment focuses on the strengths of the course, which is appropriate given the question \"What were the best parts of the course?\"\\n\\nThe high positive score (0.9) reflects the strong positive sentiment throughout the comment. The small neutral score (0.1) accounts for the factual nature of some statements. There is no negative sentiment expressed, hence the negative score is 0.0.', positive_score=0.9, negative_score=0.0, neutral_score=0.1), SentimentAnalysisResult(reasoning='The comment \"Educational recordings featuring actual medical scenarios\" is overwhelmingly positive in sentiment. The student is highlighting what they consider to be one of the best parts of the course, which directly answers the survey question in a favorable manner. The use of the word \"educational\" implies that the student found value in the recordings, and the mention of \"actual medical scenarios\" suggests that the content was relevant and practical. This type of hands-on, real-world learning material is generally highly appreciated by students, especially in medical education. The comment is concise and to the point, without any negative connotations. However, a small neutral component is assigned because the statement is factual and doesn\\'t include explicitly enthusiastic language. The high positive score (0.9) reflects the clear appreciation for this aspect of the course, while the small neutral score (0.1) accounts for the matter-of-fact tone. There is no indication of any negative sentiment, hence the negative score is 0.0.', positive_score=0.9, negative_score=0.0, neutral_score=0.1), SentimentAnalysisResult(reasoning='The comment \"Sensitivities\" is extremely brief and lacks context, making it difficult to determine a clear sentiment. Given that the survey question asks about the best parts of the course, we might assume this response is somewhat positive, as the student is identifying an aspect of the course. However, the brevity and lack of elaboration suggest a neutral or indifferent attitude. The word \"Sensitivities\" alone doesn\\'t convey strong positive or negative emotions. It could refer to the course covering sensitive topics, or perhaps the instructor\\'s sensitivity to student needs, but without more context, it\\'s impossible to determine if this is meant as praise, criticism, or a neutral observation. Due to this ambiguity, I\\'ve assigned a high neutral score (0.8) and low positive and negative scores (0.1 each) to reflect the lack of clear sentiment in either direction.', positive_score=0.1, negative_score=0.1, neutral_score=0.8), SentimentAnalysisResult(reasoning='The comment is overwhelmingly positive. The student uses phrases like \"highly captivating\", \"appropriately difficult yet manageable\", and \"thoroughly grasped the fundamental concepts\", which all indicate a very positive experience with the course. The student praises multiple aspects of the course, including the content, quizzes, assessments, and overall learning outcomes. There are no negative elements mentioned. The slight neutral score is assigned because the comment is focused on factual statements about the course structure and learning outcomes, but the tone and choice of words clearly lean towards a very positive sentiment.', positive_score=0.9, negative_score=0.0, neutral_score=0.1), SentimentAnalysisResult(reasoning='The comment \"The visual lectures\" is a brief but positive response to the question \"What were the best parts of the course?\". The student has identified the visual lectures as one of the best aspects of the course, which indicates a positive sentiment. \\n\\nThe positive score is high (0.8) because:\\n1. The student directly answers the question about the best parts of the course.\\n2. Visual lectures are generally considered an engaging and effective teaching method.\\n3. The brevity of the response suggests that this was a standout feature for the student.\\n\\nThe negative score is 0.0 because there is no indication of any negative sentiment in this comment.\\n\\nA small neutral score (0.2) is assigned because:\\n1. The response is very brief and doesn\\'t provide elaborate praise or enthusiasm.\\n2. It\\'s possible that while the student found the visual lectures to be the best part, they might not have been overwhelmingly impressed with the course as a whole.\\n\\nOverall, this comment leans strongly positive but with a slight neutral component due to its brevity.', positive_score=0.8, negative_score=0.0, neutral_score=0.2)]</p></div>"
      ],
      "text/plain": [
       "<IPython.core.display.HTML object>"
      ]
     },
     "metadata": {},
     "output_type": "display_data"
    },
    {
     "data": {
      "text/html": [
       "<div style='background-color: #873600; color: #ECF0F1; padding: 10px; border-radius: 5px; margin-bottom: 10px;'><strong>Tool Use:</strong> <p>Using SentimentAnalysisVisualizeTool tool with input: {'sentiment_results': [{'positive_score': 0.8, 'negative_score': 0.0, 'neutral_score': 0.2, 'reasoning': 'The comment expresses a clear positive sentiment towards the course content. The student uses the word \"valued,\" which indicates appreciation and a positive attitude towards the course material. They specifically mention the \"practical clinical aspects\" and their relation to \"immune-related disorders and their management,\" suggesting that they found these elements of the course particularly beneficial and relevant. This indicates a strong positive sentiment.\\n\\nHowever, the comment is relatively brief and focused solely on one aspect of the course. While it\\'s clearly positive, it doesn\\'t express overwhelming enthusiasm or mention multiple positive aspects, which is why I\\'ve assigned a high but not maximum positive score.\\n\\nThere are no negative elements in this comment, hence the negative score is 0.0.\\n\\nA small neutral component (0.2) is assigned because the comment is factual and focused on course content rather than expressing strong emotional language. This neutral aspect reflects the student\\'s professional and academic tone.\\n\\nOverall, the comment is predominantly positive, with a slight neutral component due to its factual nature.'}, {'positive_score': 0.9, 'negative_score': 0.0, 'neutral_score': 0.1, 'reasoning': 'The comment \"The flexibility to learn at a self-determined speed\" is overwhelmingly positive. The student is highlighting a feature of the course that they found beneficial - the ability to learn at their own pace. This flexibility is generally seen as a positive aspect in education, as it allows students to tailor their learning experience to their individual needs and preferences. The use of the word \"flexibility\" itself has positive connotations, implying freedom and adaptability. The student is essentially praising the course structure for allowing this self-paced learning. There are no negative elements in this comment, and while it\\'s a straightforward statement without excessive enthusiasm (which is why there\\'s a small neutral component), the overall sentiment is clearly positive. The high positive score (0.9) reflects this, while the small neutral score (0.1) accounts for the matter-of-fact tone. The negative score is 0.0 as there are no negative elements in the comment.'}, {'positive_score': 0.9, 'negative_score': 0.0, 'neutral_score': 0.1, 'reasoning': 'The comment is overwhelmingly positive. The student uses very enthusiastic language to describe the course content, such as \"extremely enriching and stimulating!\" This indicates a high level of satisfaction and engagement with the course material. The exclamation mark further emphasizes their positive sentiment. Additionally, the student specifically mentions that \"The section on oncology was the highlight,\" which shows they found particular value in at least one part of the course. There are no negative elements in this comment, and the only reason for a small neutral component is that it\\'s a relatively short comment that doesn\\'t elaborate on multiple aspects of the course. The high positive score (0.9) reflects the strong positive language used, while the small neutral score (0.1) accounts for the brevity of the comment. The negative score is 0.0 as there are no negative elements present.'}, {'positive_score': 0.8, 'negative_score': 0.0, 'neutral_score': 0.2, 'reasoning': 'The comment \"Professional growth within the medical sector\" is predominantly positive in sentiment. Here\\'s the reasoning:\\n\\n1. Positive aspects:\\n   - The student identifies \"professional growth\" as one of the best parts of the course, which is inherently positive.\\n   - The mention of growth implies that the course provided valuable learning experiences and opportunities for advancement.\\n   - The specific reference to the \"medical sector\" suggests that the course successfully addressed relevant industry-specific content.\\n\\n2. Neutral aspects:\\n   - The comment is brief and factual, without explicit emotional language or enthusiasm.\\n   - It doesn\\'t provide detailed praise or specific examples of how the course facilitated professional growth.\\n\\n3. Negative aspects:\\n   - There are no negative elements in this comment.\\n\\nGiven these considerations, I\\'ve assigned a high positive score (0.8) because the comment directly answers the question about the best parts of the course with a valuable outcome (professional growth). The neutral score (0.2) accounts for the brevity and lack of emotional language. There is no negative sentiment expressed, so the negative score is 0.0.'}, {'positive_score': 0.9, 'negative_score': 0.0, 'neutral_score': 0.1, 'reasoning': 'The comment is overwhelmingly positive. The student highlights several beneficial aspects of the course:\\n\\n1. They mention \"highlights of the class,\" which immediately sets a positive tone.\\n2. The student praises the \"practical demonstration clips,\" indicating they found this teaching method effective.\\n3. They state that these clips \"made the complex biological principles more understandable,\" suggesting that the course successfully simplified difficult concepts.\\n4. The student appreciates the connection of course content to \"daily well-being and actions,\" implying real-world applicability of the material.\\n5. The phrase \"incredibly beneficial\" is a strong positive statement, emphasizing the high value the student found in this aspect of the course.\\n6. The comment concludes by noting how these elements helped them \"navigate the course content,\" suggesting an overall positive learning experience.\\n\\nGiven these factors, I\\'ve assigned a high positive score of 0.9. There are no negative elements in the comment, so the negative score is 0.0. I\\'ve allocated a small neutral score of 0.1 to account for the factual, non-emotional parts of the statement (like mentioning that the clips were about biological principles). The comment is clearly praising the course, making it predominantly positive.'}, {'positive_score': 0.9, 'negative_score': 0.0, 'neutral_score': 0.1, 'reasoning': 'The comment is overwhelmingly positive. The student highlights several beneficial aspects of the course:\\n\\n1. Practical exercises were \"particularly beneficial\"\\n2. Fundamental principles were \"effectively conveyed\"\\n3. Intensive sessions were \"successful\" in providing detailed understanding\\n\\nThe language used is consistently positive, with words like \"beneficial,\" \"effectively,\" \"solid,\" and \"successful.\" There are no negative elements mentioned. The comment focuses on the strengths of the course, which is appropriate given the question \"What were the best parts of the course?\"\\n\\nThe high positive score (0.9) reflects the strong positive sentiment throughout the comment. The small neutral score (0.1) accounts for the factual nature of some statements. There is no negative sentiment expressed, hence the negative score is 0.0.'}, {'positive_score': 0.9, 'negative_score': 0.0, 'neutral_score': 0.1, 'reasoning': 'The comment \"Educational recordings featuring actual medical scenarios\" is overwhelmingly positive in sentiment. The student is highlighting what they consider to be one of the best parts of the course, which directly answers the survey question in a favorable manner. The use of the word \"educational\" implies that the student found value in the recordings, and the mention of \"actual medical scenarios\" suggests that the content was relevant and practical. This type of hands-on, real-world learning material is generally highly appreciated by students, especially in medical education. The comment is concise and to the point, without any negative connotations. However, a small neutral component is assigned because the statement is factual and doesn\\'t include explicitly enthusiastic language. The high positive score (0.9) reflects the clear appreciation for this aspect of the course, while the small neutral score (0.1) accounts for the matter-of-fact tone. There is no indication of any negative sentiment, hence the negative score is 0.0.'}, {'positive_score': 0.1, 'negative_score': 0.1, 'neutral_score': 0.8, 'reasoning': 'The comment \"Sensitivities\" is extremely brief and lacks context, making it difficult to determine a clear sentiment. Given that the survey question asks about the best parts of the course, we might assume this response is somewhat positive, as the student is identifying an aspect of the course. However, the brevity and lack of elaboration suggest a neutral or indifferent attitude. The word \"Sensitivities\" alone doesn\\'t convey strong positive or negative emotions. It could refer to the course covering sensitive topics, or perhaps the instructor\\'s sensitivity to student needs, but without more context, it\\'s impossible to determine if this is meant as praise, criticism, or a neutral observation. Due to this ambiguity, I\\'ve assigned a high neutral score (0.8) and low positive and negative scores (0.1 each) to reflect the lack of clear sentiment in either direction.'}, {'positive_score': 0.9, 'negative_score': 0.0, 'neutral_score': 0.1, 'reasoning': 'The comment is overwhelmingly positive. The student uses phrases like \"highly captivating\", \"appropriately difficult yet manageable\", and \"thoroughly grasped the fundamental concepts\", which all indicate a very positive experience with the course. The student praises multiple aspects of the course, including the content, quizzes, assessments, and overall learning outcomes. There are no negative elements mentioned. The slight neutral score is assigned because the comment is focused on factual statements about the course structure and learning outcomes, but the tone and choice of words clearly lean towards a very positive sentiment.'}, {'positive_score': 0.8, 'negative_score': 0.0, 'neutral_score': 0.2, 'reasoning': 'The comment \"The visual lectures\" is a brief but positive response to the question \"What were the best parts of the course?\". The student has identified the visual lectures as one of the best aspects of the course, which indicates a positive sentiment. \\n\\nThe positive score is high (0.8) because:\\n1. The student directly answers the question about the best parts of the course.\\n2. Visual lectures are generally considered an engaging and effective teaching method.\\n3. The brevity of the response suggests that this was a standout feature for the student.\\n\\nThe negative score is 0.0 because there is no indication of any negative sentiment in this comment.\\n\\nA small neutral score (0.2) is assigned because:\\n1. The response is very brief and doesn\\'t provide elaborate praise or enthusiasm.\\n2. It\\'s possible that while the student found the visual lectures to be the best part, they might not have been overwhelmingly impressed with the course as a whole.\\n\\nOverall, this comment leans strongly positive but with a slight neutral component due to its brevity.'}]}</p></div>"
      ],
      "text/plain": [
       "<IPython.core.display.HTML object>"
      ]
     },
     "metadata": {},
     "output_type": "display_data"
    },
    {
     "data": {
      "image/png": "[encoded data removed]",
      "text/plain": [
       "<Figure size 1600x800 with 2 Axes>"
      ]
     },
     "metadata": {},
     "output_type": "display_data"
    },
    {
     "data": {
      "text/html": [
       "<div style='background-color: #873600; color: #ECF0F1; padding: 10px; border-radius: 5px; margin-bottom: 10px;'><strong>Tool Use:</strong> <p>Tool result: 'Visualization displayed'</p></div>"
      ],
      "text/plain": [
       "<IPython.core.display.HTML object>"
      ]
     },
     "metadata": {},
     "output_type": "display_data"
    },
    {
     "data": {
      "text/html": [
       "<div style='background-color: #34495E; color: #ECF0F1; padding: 10px; border-radius: 5px; margin-bottom: 10px;'><strong>Assistant:</strong> <p>Based on the sentiment analysis and visualization of the comments responding to the question \"What were the best parts of the course?\", here's a summary of the findings:</p>\n",
       "<ol>\n",
       "<li>\n",
       "<p>Overall Sentiment: The sentiment is overwhelmingly positive. Most comments have high positive scores (ranging from 0.8 to 0.9) and very low or zero negative scores.</p>\n",
       "</li>\n",
       "<li>\n",
       "<p>Key Positive Aspects:</p>\n",
       "</li>\n",
       "<li>Practical and clinical aspects of the course</li>\n",
       "<li>Flexibility in learning pace</li>\n",
       "<li>Engaging and stimulating educational content</li>\n",
       "<li>Professional growth opportunities</li>\n",
       "<li>Practical demonstrations and visual lectures</li>\n",
       "<li>Real-world applicability of the material</li>\n",
       "<li>Effective conveyance of fundamental principles</li>\n",
       "<li>\n",
       "<p>Appropriate difficulty level of quizzes and assessments</p>\n",
       "</li>\n",
       "<li>\n",
       "<p>Neutral Elements: Some comments had small neutral components (0.1 to 0.2), mostly due to factual statements or brief responses without elaborate enthusiasm.</p>\n",
       "</li>\n",
       "<li>\n",
       "<p>Outlier: One comment (\"Sensitivities\") was notably different, with a high neutral score (0.8) due to its brevity and lack of context.</p>\n",
       "</li>\n",
       "<li>\n",
       "<p>No Significant Negative Feedback: There were no substantial negative sentiments expressed in the comments.</p>\n",
       "</li>\n",
       "</ol>\n",
       "<p>In conclusion, the survey responses indicate that students found multiple aspects of the course to be beneficial, with particular emphasis on practical applications, flexible learning, engaging content, and effective teaching methods. The overwhelmingly positive sentiment suggests that the course was well-received and successful in meeting student expectations and needs.</p>\n",
       "<p>Is there any specific aspect of this analysis you'd like me to elaborate on?</p></div>"
      ],
      "text/plain": [
       "<IPython.core.display.HTML object>"
      ]
     },
     "metadata": {},
     "output_type": "display_data"
    },
    {
     "data": {
      "text/html": [
       "<div style='background-color: #2C3E50; color: #ECF0F1; padding: 10px; border-radius: 5px; margin-bottom: 10px;'><strong>User:</strong> <p>nope - let's quit for now!</p></div>"
      ],
      "text/plain": [
       "<IPython.core.display.HTML object>"
      ]
     },
     "metadata": {},
     "output_type": "display_data"
    },
    {
     "data": {
      "text/html": [
       "<div style='color: #BDC3C7; font-style: italic; margin-top: 20px;'>Chat session ended.</div>"
      ],
      "text/plain": [
       "<IPython.core.display.HTML object>"
      ]
     },
     "metadata": {},
     "output_type": "display_data"
    }
   ],
   "source": [
    "survey_chat()"
   ]
  },
  {
   "cell_type": "markdown",
   "metadata": {},
   "source": [
    "## Theme derivation"
   ]
  },
  {
   "cell_type": "code",
   "execution_count": 179,
   "metadata": {},
   "outputs": [
    {
     "data": {
      "text/html": [
       "<div style='background-color: #2C3E50; color: #ECF0F1; padding: 10px; border-radius: 5px; margin-bottom: 10px;'><strong>User:</strong> <p>I want to find themes for some survey comments</p></div>"
      ],
      "text/plain": [
       "<IPython.core.display.HTML object>"
      ]
     },
     "metadata": {},
     "output_type": "display_data"
    },
    {
     "data": {
      "text/html": [
       "<div style='background-color: #34495E; color: #ECF0F1; padding: 10px; border-radius: 5px; margin-bottom: 10px;'><strong>Assistant:</strong> <p>Certainly! I'd be happy to help you find themes from survey comments. To get started, I'll need a few pieces of information:</p>\n",
       "<ol>\n",
       "<li>The survey question that the comments are responding to</li>\n",
       "<li>The comments themselves</li>\n",
       "</ol>\n",
       "<p>Do you have this information available? If you have the comments in a file, I can help you retrieve them. If you have them ready, you can provide them directly. Once we have this information, we can use our theme derivation tool to analyze the comments and identify the main themes.</p>\n",
       "<p>What would you like to do next? Would you like to provide the comments directly, or should we retrieve them from a file?</p></div>"
      ],
      "text/plain": [
       "<IPython.core.display.HTML object>"
      ]
     },
     "metadata": {},
     "output_type": "display_data"
    },
    {
     "data": {
      "text/html": [
       "<div style='background-color: #2C3E50; color: #ECF0F1; padding: 10px; border-radius: 5px; margin-bottom: 10px;'><strong>User:</strong> <p>the file path is <code>../data/example_data/example_survey_data_synthetic.csv</code>. the column is <code>best_parts</code>. The survey question was <code>What were the best parts of the course?</code>. Let's do 50 comments.</p></div>"
      ],
      "text/plain": [
       "<IPython.core.display.HTML object>"
      ]
     },
     "metadata": {},
     "output_type": "display_data"
    },
    {
     "data": {
      "text/html": [
       "<div style='background-color: #873600; color: #ECF0F1; padding: 10px; border-radius: 5px; margin-bottom: 10px;'><strong>Tool Use:</strong> <p>Using GetCommentsTool tool with input: {'file_path': '../data/example_data/example_survey_data_synthetic.csv', 'column_name': 'best_parts', 'num_comments': 50}</p></div>"
      ],
      "text/plain": [
       "<IPython.core.display.HTML object>"
      ]
     },
     "metadata": {},
     "output_type": "display_data"
    },
    {
     "data": {
      "text/html": [
       "<div style='background-color: #873600; color: #ECF0F1; padding: 10px; border-radius: 5px; margin-bottom: 10px;'><strong>Tool Use:</strong> <p>Tool result: ['I valued the practical clinical aspects related to immune-related disorders and their management.', 'The flexibility to learn at a self-determined speed', 'The educational content was extremely enriching and stimulating! The section on oncology was the highlight.', 'Professional growth within the medical sector', 'The highlights of the class included the practical demonstration clips that made the complex biological principles more understandable by connecting them to daily well-being and actions. This connection was incredibly beneficial as I navigated the course content.', 'I found the practical exercises to be particularly beneficial. The fundamental principles were effectively conveyed, providing a solid base. The intensive sessions were successful in presenting a more detailed understanding of the underlying scientific concepts.', 'Educational recordings featuring actual medical scenarios.', 'Sensitivities', 'The content was highly captivating, with quiz items that were appropriately difficult yet manageable. The assessments focused on key principles, and I believe I have thoroughly grasped the fundamental concepts of the subject matter following this class.', 'The visual lectures', 'The hands-on interactive modules related to fluid dynamics were particularly beneficial, as I absorbed more knowledge by actively adjusting the parameters than through passive listening or reading. Equally informative were the visual aids that clarified the application of certain medical treatments.', 'The practical application segments of the lessons were beneficial. They aided in deepening comprehension of the molecular processes.', 'Practice Questions', 'Superb elucidation. The video content was lucid. I gained considerable knowledge from this class.', 'Review of basic immunological principles', 'comprehensive summary, encompassing emerging treatments currently under research', 'Engaging and informative visual content that integrates theoretical concepts with practical clinical applications.', 'The practical exercises in the laboratory and their relevance to real-world health conditions or metabolic processes in organisms.', 'Organization, progression, scholarly debates, and narratives of actual patients', 'I appreciate the comprehensive examination of the primary oncological pathways. It provided a structured recapitulation that was beneficial.', '-', 'The graphical presentations and interactive dialogues about emerging innovations in the field of precision medicine, as well as the kinds of studies being conducted in educational institutions, were quite engaging.', 'The course excelled in breaking down complex topics into digestible parts that were straightforward to grasp.', 'I found the instructional videos to be exceptionally clear, and the quizzes were well-aligned with the educational goals. Additionally, the practical application in a clinical setting was valuable, as it demonstrated real-world interactions.', 'The instructional videos on clinical procedures were beneficial.', 'Every session was enlightening. Initially, the assessments appeared quite demanding, especially since my background is in a distinct field. The questions in the assessments demanded not just familiarity with the session content, but also a more profound comprehension. Despite the initial difficulty, it was beneficial to delve into additional resources and witness my comprehension evolve. The assessments were truly insightful.', 'The instructor', 'The visual summaries provided at the end of each session were highly beneficial. It would be advantageous if these could be compiled into a document for future reference.', 'The sections on natural immune responses, the role of supportive immune cells, the mechanisms and roles of immune proteins, hypersensitivity reactions, the connections between various health conditions, and the processes of pathogen detection and immune response enhancement.', 'The substance and delivery of the material were excellent.', \"The additional resources provided, such as study guides and vocabulary lists, were extremely beneficial for independent revision. It's advantageous to have an abundance of these materials.\", 'The practical applications were quite engaging and aided in grasping the ideas and their significance within the realm of medical practice.', \"the instructor's clear summaries of ideas\", 'Gaining knowledge from specialists in the industry.', 'illustrations', 'The course content on cutting-edge treatments within the field of immune-based cancer therapies was outstanding.', 'The program offered outstanding visual aids and additional resources that enhanced comprehension of the principles, surpassing mere textbook learning.', 'The instructional animations and the variety of engaging multimedia resources were excellent, making the material straightforward and comprehensible.', 'diversity of instructional materials utilized, including video depictions of actual events', 'the course is engaging and includes numerous simulations', 'The course was structured clearly. Found every lecture to be engaging.', 'The hands-on components', 'I genuinely appreciated the succinctness of the curriculum. The fundamental principles taught are crucial for making important decisions in the future. I believe the instructor was outstanding and had a calming demeanor, which in turn made me feel at ease. The incorporation of various healthcare settings and interactions with patients significantly contributed to the thought process and highlighted the competencies necessary for precise diagnoses.', 'I appreciated gaining knowledge about the roles of both B and T cells in the functioning of our immune defense.', 'good', 'the engaging online activities', 'The highlight of this educational experience was undoubtedly the clarity with which the material was presented, facilitating the retention of key points. The structured progression of the topics and the emphasis on core concepts were particularly appreciated. Additionally, commendations are due to the entire teaching team for their ability to inspire and evoke a sense of wonder about the subject matter, even through the digital medium of a screen.', 'The most beneficial aspect of the class was the application of biochemical concepts to practical scenarios, such as metabolic disorders and inflammatory conditions. These illustrations significantly enhanced my comprehension of the material.', 'The ability to consolidate learning across various assessments and the inclusion of review questions that emphasize key concepts was highly beneficial.', 'The practical application aspect was beneficial for grasping the fundamental ideas.']</p></div>"
      ],
      "text/plain": [
       "<IPython.core.display.HTML object>"
      ]
     },
     "metadata": {},
     "output_type": "display_data"
    },
    {
     "data": {
      "text/html": [
       "<div style='background-color: #873600; color: #ECF0F1; padding: 10px; border-radius: 5px; margin-bottom: 10px;'><strong>Tool Use:</strong> <p>Using ThemeDerivationTool tool with input: {'comments': '[\\'I valued the practical clinical aspects related to immune-related disorders and their management.\\', \\'The flexibility to learn at a self-determined speed\\', \\'The educational content was extremely enriching and stimulating! The section on oncology was the highlight.\\', \\'Professional growth within the medical sector\\', \\'The highlights of the class included the practical demonstration clips that made the complex biological principles more understandable by connecting them to daily well-being and actions. This connection was incredibly beneficial as I navigated the course content.\\', \\'I found the practical exercises to be particularly beneficial. The fundamental principles were effectively conveyed, providing a solid base. The intensive sessions were successful in presenting a more detailed understanding of the underlying scientific concepts.\\', \\'Educational recordings featuring actual medical scenarios.\\', \\'Sensitivities\\', \\'The content was highly captivating, with quiz items that were appropriately difficult yet manageable. The assessments focused on key principles, and I believe I have thoroughly grasped the fundamental concepts of the subject matter following this class.\\', \\'The visual lectures\\', \\'The hands-on interactive modules related to fluid dynamics were particularly beneficial, as I absorbed more knowledge by actively adjusting the parameters than through passive listening or reading. Equally informative were the visual aids that clarified the application of certain medical treatments.\\', \\'The practical application segments of the lessons were beneficial. They aided in deepening comprehension of the molecular processes.\\', \\'Practice Questions\\', \\'Superb elucidation. The video content was lucid. I gained considerable knowledge from this class.\\', \\'Review of basic immunological principles\\', \\'comprehensive summary, encompassing emerging treatments currently under research\\', \\'Engaging and informative visual content that integrates theoretical concepts with practical clinical applications.\\', \\'The practical exercises in the laboratory and their relevance to real-world health conditions or metabolic processes in organisms.\\', \\'Organization, progression, scholarly debates, and narratives of actual patients\\', \\'I appreciate the comprehensive examination of the primary oncological pathways. It provided a structured recapitulation that was beneficial.\\', \\'-\\', \\'The graphical presentations and interactive dialogues about emerging innovations in the field of precision medicine, as well as the kinds of studies being conducted in educational institutions, were quite engaging.\\', \\'The course excelled in breaking down complex topics into digestible parts that were straightforward to grasp.\\', \\'I found the instructional videos to be exceptionally clear, and the quizzes were well-aligned with the educational goals. Additionally, the practical application in a clinical setting was valuable, as it demonstrated real-world interactions.\\', \\'The instructional videos on clinical procedures were beneficial.\\', \\'Every session was enlightening. Initially, the assessments appeared quite demanding, especially since my background is in a distinct field. The questions in the assessments demanded not just familiarity with the session content, but also a more profound comprehension. Despite the initial difficulty, it was beneficial to delve into additional resources and witness my comprehension evolve. The assessments were truly insightful.\\', \\'The instructor\\', \\'The visual summaries provided at the end of each session were highly beneficial. It would be advantageous if these could be compiled into a document for future reference.\\', \\'The sections on natural immune responses, the role of supportive immune cells, the mechanisms and roles of immune proteins, hypersensitivity reactions, the connections between various health conditions, and the processes of pathogen detection and immune response enhancement.\\', \\'The substance and delivery of the material were excellent.\\', \"The additional resources provided, such as study guides and vocabulary lists, were extremely beneficial for independent revision. It\\'s advantageous to have an abundance of these materials.\", \\'The practical applications were quite engaging and aided in grasping the ideas and their significance within the realm of medical practice.\\', \"the instructor\\'s clear summaries of ideas\", \\'Gaining knowledge from specialists in the industry.\\', \\'illustrations\\', \\'The course content on cutting-edge treatments within the field of immune-based cancer therapies was outstanding.\\', \\'The program offered outstanding visual aids and additional resources that enhanced comprehension of the principles, surpassing mere textbook learning.\\', \\'The instructional animations and the variety of engaging multimedia resources were excellent, making the material straightforward and comprehensible.\\', \\'diversity of instructional materials utilized, including video depictions of actual events\\', \\'the course is engaging and includes numerous simulations\\', \\'The course was structured clearly. Found every lecture to be engaging.\\', \\'The hands-on components\\', \\'I genuinely appreciated the succinctness of the curriculum. The fundamental principles taught are crucial for making important decisions in the future. I believe the instructor was outstanding and had a calming demeanor, which in turn made me feel at ease. The incorporation of various healthcare settings and interactions with patients significantly contributed to the thought process and highlighted the competencies necessary for precise diagnoses.\\', \\'I appreciated gaining knowledge about the roles of both B and T cells in the functioning of our immune defense.\\', \\'good\\', \\'the engaging online activities\\', \\'The highlight of this educational experience was undoubtedly the clarity with which the material was presented, facilitating the retention of key points. The structured progression of the topics and the emphasis on core concepts were particularly appreciated. Additionally, commendations are due to the entire teaching team for their ability to inspire and evoke a sense of wonder about the subject matter, even through the digital medium of a screen.\\', \\'The most beneficial aspect of the class was the application of biochemical concepts to practical scenarios, such as metabolic disorders and inflammatory conditions. These illustrations significantly enhanced my comprehension of the material.\\', \\'The ability to consolidate learning across various assessments and the inclusion of review questions that emphasize key concepts was highly beneficial.\\', \\'The practical application aspect was beneficial for grasping the fundamental ideas.\\']', 'question': 'What were the best parts of the course?'}</p></div>"
      ],
      "text/plain": [
       "<IPython.core.display.HTML object>"
      ]
     },
     "metadata": {},
     "output_type": "display_data"
    },
    {
     "name": "stdout",
     "output_type": "stream",
     "text": [
      "2024-07-08 19:29:14,797 - feedback_analyzer - INFO - Summarizing comments to find themes\n",
      "2024-07-08 19:29:26,563 - feedback_analyzer - INFO - Checking and refining themes summary\n",
      "2024-07-08 19:29:37,512 - feedback_analyzer - INFO - Extracting and citing\n"
     ]
    },
    {
     "data": {
      "text/html": [
       "<div style='background-color: #873600; color: #ECF0F1; padding: 10px; border-radius: 5px; margin-bottom: 10px;'><strong>Tool Use:</strong> <p>Tool result: DerivedThemes(themes=[Theme(theme_title='Practical Application', description='• Emphasis on real-world clinical applications\\n• Connection of theoretical concepts to daily well-being\\n• Practical exercises and demonstrations enhancing understanding', citations=['I valued the practical clinical aspects related to immune-related disorders and their management.', 'The highlights of the class included the practical demonstration clips that made the complex biological principles more understandable by connecting them to daily well-being and actions.', 'The practical application segments of the lessons were beneficial. They aided in deepening comprehension of the molecular processes.']), Theme(theme_title='Visual Learning Resources', description='• Engaging visual lectures and instructional videos\\n• Effective use of animations and graphical presentations\\n• Visual summaries enhancing comprehension', citations=['The visual lectures', 'The graphical presentations and interactive dialogues about emerging innovations in the field of precision medicine, as well as the kinds of studies being conducted in educational institutions, were quite engaging.', 'The visual summaries provided at the end of each session were highly beneficial. It would be advantageous if these could be compiled into a document for future reference.']), Theme(theme_title='Course Content and Structure', description='• Clear organization and progression of topics\\n• Comprehensive coverage of fundamental principles\\n• Engaging and informative content', citations=['The course excelled in breaking down complex topics into digestible parts that were straightforward to grasp.', 'The course was structured clearly. Found every lecture to be engaging.', 'The educational content was extremely enriching and stimulating! The section on oncology was the highlight.']), Theme(theme_title='Interactive Learning', description='• Hands-on interactive modules\\n• Engaging online activities and simulations\\n• Practice questions and quizzes', citations=['The hands-on interactive modules related to fluid dynamics were particularly beneficial, as I absorbed more knowledge by actively adjusting the parameters than through passive listening or reading.', 'the course is engaging and includes numerous simulations', 'the engaging online activities']), Theme(theme_title='Clear Explanations', description=\"• Clear presentation of complex topics\\n• Instructor's ability to summarize ideas\\n• Effective use of visual aids\", citations=['Superb elucidation. The video content was lucid. I gained considerable knowledge from this class.', \"the instructor's clear summaries of ideas\", 'The highlight of this educational experience was undoubtedly the clarity with which the material was presented, facilitating the retention of key points.']), Theme(theme_title='Comprehensive Coverage', description='• In-depth examination of topics\\n• Coverage of emerging treatments and research\\n• Solid foundation in fundamental principles', citations=['comprehensive summary, encompassing emerging treatments currently under research', 'I appreciate the comprehensive examination of the primary oncological pathways. It provided a structured recapitulation that was beneficial.', 'The course content on cutting-edge treatments within the field of immune-based cancer therapies was outstanding.']), Theme(theme_title='Flexible Learning', description='• Self-paced learning options\\n• Additional resources for independent revision\\n• Variety of learning materials', citations=['The flexibility to learn at a self-determined speed', \"The additional resources provided, such as study guides and vocabulary lists, were extremely beneficial for independent revision. It's advantageous to have an abundance of these materials.\", 'diversity of instructional materials utilized, including video depictions of actual events']), Theme(theme_title='Effective Assessment', description='• Challenging yet insightful assessments\\n• Alignment with educational goals\\n• Opportunity for learning consolidation', citations=['The content was highly captivating, with quiz items that were appropriately difficult yet manageable. The assessments focused on key principles, and I believe I have thoroughly grasped the fundamental concepts of the subject matter following this class.', 'Every session was enlightening. Initially, the assessments appeared quite demanding, especially since my background is in a distinct field. The questions in the assessments demanded not just familiarity with the session content, but also a more profound comprehension. Despite the initial difficulty, it was beneficial to delve into additional resources and witness my comprehension evolve. The assessments were truly insightful.', 'The ability to consolidate learning across various assessments and the inclusion of review questions that emphasize key concepts was highly beneficial.']), Theme(theme_title='Expert Instruction', description='• Knowledge from industry specialists\\n• Inspiring teaching style\\n• Effective communication of complex topics', citations=['Gaining knowledge from specialists in the industry.', 'I genuinely appreciated the succinctness of the curriculum. The fundamental principles taught are crucial for making important decisions in the future. I believe the instructor was outstanding and had a calming demeanor, which in turn made me feel at ease.', 'Additionally, commendations are due to the entire teaching team for their ability to inspire and evoke a sense of wonder about the subject matter, even through the digital medium of a screen.'])])</p></div>"
      ],
      "text/plain": [
       "<IPython.core.display.HTML object>"
      ]
     },
     "metadata": {},
     "output_type": "display_data"
    },
    {
     "data": {
      "text/html": [
       "<div style='background-color: #34495E; color: #ECF0F1; padding: 10px; border-radius: 5px; margin-bottom: 10px;'><strong>Assistant:</strong> <p>Based on the analysis of the 50 comments about the best parts of the course, several key themes have emerged. Here's a summary of the main themes identified:</p>\n",
       "<ol>\n",
       "<li>\n",
       "<p>Practical Application: Many students appreciated the emphasis on real-world clinical applications, the connection of theoretical concepts to daily well-being, and practical exercises that enhanced their understanding.</p>\n",
       "</li>\n",
       "<li>\n",
       "<p>Visual Learning Resources: The course's visual elements, including engaging lectures, instructional videos, animations, and graphical presentations, were highly valued by students.</p>\n",
       "</li>\n",
       "<li>\n",
       "<p>Course Content and Structure: Students found the course well-organized, with clear progression of topics, comprehensive coverage of fundamental principles, and engaging content.</p>\n",
       "</li>\n",
       "<li>\n",
       "<p>Interactive Learning: Hands-on interactive modules, engaging online activities, simulations, and practice questions were highlighted as beneficial aspects of the course.</p>\n",
       "</li>\n",
       "<li>\n",
       "<p>Clear Explanations: The clarity of presentation, especially for complex topics, was frequently mentioned. Students appreciated the instructor's ability to summarize ideas effectively.</p>\n",
       "</li>\n",
       "<li>\n",
       "<p>Comprehensive Coverage: Students valued the in-depth examination of topics, coverage of emerging treatments and research, and the solid foundation provided in fundamental principles.</p>\n",
       "</li>\n",
       "<li>\n",
       "<p>Flexible Learning: The course's flexibility, including self-paced learning options and additional resources for independent revision, was appreciated by many students.</p>\n",
       "</li>\n",
       "<li>\n",
       "<p>Effective Assessment: The challenging yet insightful assessments, their alignment with educational goals, and the opportunity for learning consolidation were seen as positive aspects.</p>\n",
       "</li>\n",
       "<li>\n",
       "<p>Expert Instruction: Students valued gaining knowledge from industry specialists and appreciated the inspiring teaching style and effective communication of complex topics.</p>\n",
       "</li>\n",
       "</ol>\n",
       "<p>These themes reflect a well-rounded course that successfully combines theoretical knowledge with practical application, utilizes various learning resources, and provides a comprehensive and engaging learning experience. The course seems to cater to different learning styles and provides a good balance of challenge and support for students.</p>\n",
       "<p>Is there any specific aspect of these themes you'd like to explore further or any additional analysis you'd like me to perform on this data?</p></div>"
      ],
      "text/plain": [
       "<IPython.core.display.HTML object>"
      ]
     },
     "metadata": {},
     "output_type": "display_data"
    },
    {
     "data": {
      "text/html": [
       "<div style='background-color: #2C3E50; color: #ECF0F1; padding: 10px; border-radius: 5px; margin-bottom: 10px;'><strong>User:</strong> <p>do you have the citations that go with each theme? Can you provide those, too?</p></div>"
      ],
      "text/plain": [
       "<IPython.core.display.HTML object>"
      ]
     },
     "metadata": {},
     "output_type": "display_data"
    },
    {
     "data": {
      "text/html": [
       "<div style='background-color: #34495E; color: #ECF0F1; padding: 10px; border-radius: 5px; margin-bottom: 10px;'><strong>Assistant:</strong> <p>Certainly! I apologize for not including the citations initially. I'll provide each theme along with a few representative citations for each. Here they are:</p>\n",
       "<ol>\n",
       "<li>Practical Application:</li>\n",
       "<li>\"I valued the practical clinical aspects related to immune-related disorders and their management.\"</li>\n",
       "<li>\"The highlights of the class included the practical demonstration clips that made the complex biological principles more understandable by connecting them to daily well-being and actions.\"</li>\n",
       "<li>\n",
       "<p>\"The practical application segments of the lessons were beneficial. They aided in deepening comprehension of the molecular processes.\"</p>\n",
       "</li>\n",
       "<li>\n",
       "<p>Visual Learning Resources:</p>\n",
       "</li>\n",
       "<li>\"The visual lectures\"</li>\n",
       "<li>\"The graphical presentations and interactive dialogues about emerging innovations in the field of precision medicine, as well as the kinds of studies being conducted in educational institutions, were quite engaging.\"</li>\n",
       "<li>\n",
       "<p>\"The visual summaries provided at the end of each session were highly beneficial. It would be advantageous if these could be compiled into a document for future reference.\"</p>\n",
       "</li>\n",
       "<li>\n",
       "<p>Course Content and Structure:</p>\n",
       "</li>\n",
       "<li>\"The course excelled in breaking down complex topics into digestible parts that were straightforward to grasp.\"</li>\n",
       "<li>\"The course was structured clearly. Found every lecture to be engaging.\"</li>\n",
       "<li>\n",
       "<p>\"The educational content was extremely enriching and stimulating! The section on oncology was the highlight.\"</p>\n",
       "</li>\n",
       "<li>\n",
       "<p>Interactive Learning:</p>\n",
       "</li>\n",
       "<li>\"The hands-on interactive modules related to fluid dynamics were particularly beneficial, as I absorbed more knowledge by actively adjusting the parameters than through passive listening or reading.\"</li>\n",
       "<li>\"the course is engaging and includes numerous simulations\"</li>\n",
       "<li>\n",
       "<p>\"the engaging online activities\"</p>\n",
       "</li>\n",
       "<li>\n",
       "<p>Clear Explanations:</p>\n",
       "</li>\n",
       "<li>\"Superb elucidation. The video content was lucid. I gained considerable knowledge from this class.\"</li>\n",
       "<li>\"the instructor's clear summaries of ideas\"</li>\n",
       "<li>\n",
       "<p>\"The highlight of this educational experience was undoubtedly the clarity with which the material was presented, facilitating the retention of key points.\"</p>\n",
       "</li>\n",
       "<li>\n",
       "<p>Comprehensive Coverage:</p>\n",
       "</li>\n",
       "<li>\"comprehensive summary, encompassing emerging treatments currently under research\"</li>\n",
       "<li>\"I appreciate the comprehensive examination of the primary oncological pathways. It provided a structured recapitulation that was beneficial.\"</li>\n",
       "<li>\n",
       "<p>\"The course content on cutting-edge treatments within the field of immune-based cancer therapies was outstanding.\"</p>\n",
       "</li>\n",
       "<li>\n",
       "<p>Flexible Learning:</p>\n",
       "</li>\n",
       "<li>\"The flexibility to learn at a self-determined speed\"</li>\n",
       "<li>\"The additional resources provided, such as study guides and vocabulary lists, were extremely beneficial for independent revision. It's advantageous to have an abundance of these materials.\"</li>\n",
       "<li>\n",
       "<p>\"diversity of instructional materials utilized, including video depictions of actual events\"</p>\n",
       "</li>\n",
       "<li>\n",
       "<p>Effective Assessment:</p>\n",
       "</li>\n",
       "<li>\"The content was highly captivating, with quiz items that were appropriately difficult yet manageable. The assessments focused on key principles, and I believe I have thoroughly grasped the fundamental concepts of the subject matter following this class.\"</li>\n",
       "<li>\"Every session was enlightening. Initially, the assessments appeared quite demanding, especially since my background is in a distinct field. The questions in the assessments demanded not just familiarity with the session content, but also a more profound comprehension. Despite the initial difficulty, it was beneficial to delve into additional resources and witness my comprehension evolve. The assessments were truly insightful.\"</li>\n",
       "<li>\n",
       "<p>\"The ability to consolidate learning across various assessments and the inclusion of review questions that emphasize key concepts was highly beneficial.\"</p>\n",
       "</li>\n",
       "<li>\n",
       "<p>Expert Instruction:</p>\n",
       "</li>\n",
       "<li>\"Gaining knowledge from specialists in the industry.\"</li>\n",
       "<li>\"I genuinely appreciated the succinctness of the curriculum. The fundamental principles taught are crucial for making important decisions in the future. I believe the instructor was outstanding and had a calming demeanor, which in turn made me feel at ease.\"</li>\n",
       "<li>\"Additionally, commendations are due to the entire teaching team for their ability to inspire and evoke a sense of wonder about the subject matter, even through the digital medium of a screen.\"</li>\n",
       "</ol>\n",
       "<p>These citations provide concrete examples of student feedback that support each identified theme, giving a clearer picture of what students found most valuable about the course.</p></div>"
      ],
      "text/plain": [
       "<IPython.core.display.HTML object>"
      ]
     },
     "metadata": {},
     "output_type": "display_data"
    },
    {
     "data": {
      "text/html": [
       "<div style='background-color: #2C3E50; color: #ECF0F1; padding: 10px; border-radius: 5px; margin-bottom: 10px;'><strong>User:</strong> <p>great - thanks. we can quit now.</p></div>"
      ],
      "text/plain": [
       "<IPython.core.display.HTML object>"
      ]
     },
     "metadata": {},
     "output_type": "display_data"
    },
    {
     "data": {
      "text/html": [
       "<div style='color: #BDC3C7; font-style: italic; margin-top: 20px;'>Chat session ended.</div>"
      ],
      "text/plain": [
       "<IPython.core.display.HTML object>"
      ]
     },
     "metadata": {},
     "output_type": "display_data"
    }
   ],
   "source": [
    "survey_chat()"
   ]
  }
 ],
 "metadata": {
  "kernelspec": {
   "display_name": "anthropic2",
   "language": "python",
   "name": "python3"
  },
  "language_info": {
   "codemirror_mode": {
    "name": "ipython",
    "version": 3
   },
   "file_extension": ".py",
   "mimetype": "text/x-python",
   "name": "python",
   "nbconvert_exporter": "python",
   "pygments_lexer": "ipython3",
   "version": "3.11.9"
  }
 },
 "nbformat": 4,
 "nbformat_minor": 2
}
